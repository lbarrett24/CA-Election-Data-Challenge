{
 "cells": [
  {
   "cell_type": "markdown",
   "metadata": {},
   "source": [
    "### Imports"
   ]
  },
  {
   "cell_type": "code",
   "execution_count": 12,
   "metadata": {},
   "outputs": [],
   "source": [
    "# general\n",
    "import pandas as pd\n",
    "import numpy as np\n",
    "import re\n",
    "import plotnine as p9\n",
    "\n",
    "# twitter scraping\n",
    "import snscrape.modules.twitter as sntwitter\n",
    "\n",
    "# roBERTa\n",
    "from transformers import AutoTokenizer, AutoModelForSequenceClassification, AutoConfig\n",
    "from scipy.special import softmax\n",
    "import torch\n",
    "\n",
    "# nltk\n",
    "from nltk.sentiment import SentimentIntensityAnalyzer\n",
    "\n",
    "# stats\n",
    "from statsmodels.stats.proportion import proportions_ztest"
   ]
  },
  {
   "cell_type": "markdown",
   "metadata": {},
   "source": [
    "### Twitter scraping"
   ]
  },
  {
   "cell_type": "code",
   "execution_count": 2,
   "metadata": {},
   "outputs": [],
   "source": [
    "query = '\"prop 30\"  until:2022-11-08 since:2022-07-01'\n",
    "tweets = []\n",
    "limit = 5000"
   ]
  },
  {
   "cell_type": "code",
   "execution_count": 3,
   "metadata": {},
   "outputs": [],
   "source": [
    "for tweet in sntwitter.TwitterSearchScraper(query).get_items():\n",
    "    if len(tweets) == limit:\n",
    "        break\n",
    "    tweet_data = [tweet.date, tweet.user.username, tweet.content, tweet.likeCount, tweet.retweetCount]\n",
    "    tweets.append(tweet_data)"
   ]
  },
  {
   "cell_type": "code",
   "execution_count": 4,
   "metadata": {},
   "outputs": [],
   "source": [
    "tweets_df = pd.DataFrame(tweets, columns = ['Date', 'User', 'Content', 'Likes', 'Retweets'])"
   ]
  },
  {
   "cell_type": "code",
   "execution_count": 5,
   "metadata": {},
   "outputs": [
    {
     "data": {
      "text/html": [
       "<div>\n",
       "<style scoped>\n",
       "    .dataframe tbody tr th:only-of-type {\n",
       "        vertical-align: middle;\n",
       "    }\n",
       "\n",
       "    .dataframe tbody tr th {\n",
       "        vertical-align: top;\n",
       "    }\n",
       "\n",
       "    .dataframe thead th {\n",
       "        text-align: right;\n",
       "    }\n",
       "</style>\n",
       "<table border=\"1\" class=\"dataframe\">\n",
       "  <thead>\n",
       "    <tr style=\"text-align: right;\">\n",
       "      <th></th>\n",
       "      <th>Date</th>\n",
       "      <th>User</th>\n",
       "      <th>Content</th>\n",
       "      <th>Likes</th>\n",
       "      <th>Retweets</th>\n",
       "    </tr>\n",
       "  </thead>\n",
       "  <tbody>\n",
       "    <tr>\n",
       "      <th>0</th>\n",
       "      <td>2022-11-07 23:01:03+00:00</td>\n",
       "      <td>YousefBaig</td>\n",
       "      <td>Newsom claimed Prop. 30 \"puts corporate welfar...</td>\n",
       "      <td>1</td>\n",
       "      <td>4</td>\n",
       "    </tr>\n",
       "    <tr>\n",
       "      <th>1</th>\n",
       "      <td>2022-11-07 22:59:20+00:00</td>\n",
       "      <td>ClimateResolve</td>\n",
       "      <td>#Prop30 is pivotal to help our state combat da...</td>\n",
       "      <td>5</td>\n",
       "      <td>6</td>\n",
       "    </tr>\n",
       "    <tr>\n",
       "      <th>2</th>\n",
       "      <td>2022-11-07 22:56:18+00:00</td>\n",
       "      <td>trader_mtg</td>\n",
       "      <td>@ecommerceshares Wait until Prop 30 gets shot ...</td>\n",
       "      <td>1</td>\n",
       "      <td>0</td>\n",
       "    </tr>\n",
       "    <tr>\n",
       "      <th>3</th>\n",
       "      <td>2022-11-07 22:47:35+00:00</td>\n",
       "      <td>LByock</td>\n",
       "      <td>@dhere I voted no on 27 (which is in conflict ...</td>\n",
       "      <td>1</td>\n",
       "      <td>1</td>\n",
       "    </tr>\n",
       "    <tr>\n",
       "      <th>4</th>\n",
       "      <td>2022-11-07 22:39:45+00:00</td>\n",
       "      <td>SFBayPSR</td>\n",
       "      <td>VOTE YES on Prop 30! If we don’t act, Californ...</td>\n",
       "      <td>10</td>\n",
       "      <td>7</td>\n",
       "    </tr>\n",
       "    <tr>\n",
       "      <th>...</th>\n",
       "      <td>...</td>\n",
       "      <td>...</td>\n",
       "      <td>...</td>\n",
       "      <td>...</td>\n",
       "      <td>...</td>\n",
       "    </tr>\n",
       "    <tr>\n",
       "      <th>2674</th>\n",
       "      <td>2022-07-02 01:01:34+00:00</td>\n",
       "      <td>alfred_twu</td>\n",
       "      <td>Prop 30: Electric Vehicles &amp;amp; Wildfire Prev...</td>\n",
       "      <td>23</td>\n",
       "      <td>3</td>\n",
       "    </tr>\n",
       "    <tr>\n",
       "      <th>2675</th>\n",
       "      <td>2022-07-01 22:57:49+00:00</td>\n",
       "      <td>wickedmitch_</td>\n",
       "      <td>Tentative votes:\\nProp 1: yes\\nProp 26: yes\\nP...</td>\n",
       "      <td>0</td>\n",
       "      <td>0</td>\n",
       "    </tr>\n",
       "    <tr>\n",
       "      <th>2676</th>\n",
       "      <td>2022-07-01 21:49:09+00:00</td>\n",
       "      <td>davidaguilar92</td>\n",
       "      <td>California's Secretary of State just released ...</td>\n",
       "      <td>0</td>\n",
       "      <td>0</td>\n",
       "    </tr>\n",
       "    <tr>\n",
       "      <th>2677</th>\n",
       "      <td>2022-07-01 20:22:45+00:00</td>\n",
       "      <td>RL_Miller</td>\n",
       "      <td>Prop 1: OH HELL YES\\nProp 26: Maybe, but not w...</td>\n",
       "      <td>1</td>\n",
       "      <td>0</td>\n",
       "    </tr>\n",
       "    <tr>\n",
       "      <th>2678</th>\n",
       "      <td>2022-07-01 19:50:46+00:00</td>\n",
       "      <td>JeremyBWhite</td>\n",
       "      <td>NEW: Ballot numbers!\\n\\nPROP 1: Enshrine abort...</td>\n",
       "      <td>148</td>\n",
       "      <td>71</td>\n",
       "    </tr>\n",
       "  </tbody>\n",
       "</table>\n",
       "<p>2679 rows × 5 columns</p>\n",
       "</div>"
      ],
      "text/plain": [
       "                          Date            User  \\\n",
       "0    2022-11-07 23:01:03+00:00      YousefBaig   \n",
       "1    2022-11-07 22:59:20+00:00  ClimateResolve   \n",
       "2    2022-11-07 22:56:18+00:00      trader_mtg   \n",
       "3    2022-11-07 22:47:35+00:00          LByock   \n",
       "4    2022-11-07 22:39:45+00:00        SFBayPSR   \n",
       "...                        ...             ...   \n",
       "2674 2022-07-02 01:01:34+00:00      alfred_twu   \n",
       "2675 2022-07-01 22:57:49+00:00    wickedmitch_   \n",
       "2676 2022-07-01 21:49:09+00:00  davidaguilar92   \n",
       "2677 2022-07-01 20:22:45+00:00       RL_Miller   \n",
       "2678 2022-07-01 19:50:46+00:00    JeremyBWhite   \n",
       "\n",
       "                                                Content  Likes  Retweets  \n",
       "0     Newsom claimed Prop. 30 \"puts corporate welfar...      1         4  \n",
       "1     #Prop30 is pivotal to help our state combat da...      5         6  \n",
       "2     @ecommerceshares Wait until Prop 30 gets shot ...      1         0  \n",
       "3     @dhere I voted no on 27 (which is in conflict ...      1         1  \n",
       "4     VOTE YES on Prop 30! If we don’t act, Californ...     10         7  \n",
       "...                                                 ...    ...       ...  \n",
       "2674  Prop 30: Electric Vehicles &amp; Wildfire Prev...     23         3  \n",
       "2675  Tentative votes:\\nProp 1: yes\\nProp 26: yes\\nP...      0         0  \n",
       "2676  California's Secretary of State just released ...      0         0  \n",
       "2677  Prop 1: OH HELL YES\\nProp 26: Maybe, but not w...      1         0  \n",
       "2678  NEW: Ballot numbers!\\n\\nPROP 1: Enshrine abort...    148        71  \n",
       "\n",
       "[2679 rows x 5 columns]"
      ]
     },
     "execution_count": 5,
     "metadata": {},
     "output_type": "execute_result"
    }
   ],
   "source": [
    "tweets_df"
   ]
  },
  {
   "cell_type": "markdown",
   "metadata": {},
   "source": [
    "### Data Preprocessing Function"
   ]
  },
  {
   "cell_type": "code",
   "execution_count": 6,
   "metadata": {},
   "outputs": [],
   "source": [
    "def preprocess(text: str) -> str:\n",
    "    '''\n",
    "    Performs basic preprocessing on text to meet specifications of roBERTa model.\n",
    "    References to other users ('@user123') will be replaced with '@user'.\n",
    "    Any links ('https://www.google.com/') will be replaced with 'http'\n",
    "    '''\n",
    "    elements = []\n",
    "    for element in text.split(' '):\n",
    "        if element.startswith('@') and len(element) > 1:\n",
    "            element = '@user'\n",
    "        elif element.startswith('http'):\n",
    "            element = 'hhtp'\n",
    "        elements.append(element)\n",
    "    return ' '.join(elements)"
   ]
  },
  {
   "cell_type": "markdown",
   "metadata": {},
   "source": [
    "### Load in NLTK's [VADER](https://www.nltk.org/_modules/nltk/sentiment/vader.html) sentiment analyzer"
   ]
  },
  {
   "cell_type": "code",
   "execution_count": 13,
   "metadata": {},
   "outputs": [],
   "source": [
    "nltk_sia = SentimentIntensityAnalyzer()"
   ]
  },
  {
   "cell_type": "markdown",
   "metadata": {},
   "source": [
    "### Load in [RoBERTa](https://huggingface.co/docs/transformers/model_doc/roberta) model from [Hugging Face](https://huggingface.co/cardiffnlp/twitter-roberta-base-sentiment-latest?text=Covid+cases+are+increasing+fast%21)"
   ]
  },
  {
   "cell_type": "code",
   "execution_count": 14,
   "metadata": {},
   "outputs": [
    {
     "name": "stderr",
     "output_type": "stream",
     "text": [
      "Some weights of the model checkpoint at cardiffnlp/twitter-roberta-base-sentiment-latest were not used when initializing RobertaForSequenceClassification: ['roberta.pooler.dense.weight', 'roberta.pooler.dense.bias']\n",
      "- This IS expected if you are initializing RobertaForSequenceClassification from the checkpoint of a model trained on another task or with another architecture (e.g. initializing a BertForSequenceClassification model from a BertForPreTraining model).\n",
      "- This IS NOT expected if you are initializing RobertaForSequenceClassification from the checkpoint of a model that you expect to be exactly identical (initializing a BertForSequenceClassification model from a BertForSequenceClassification model).\n"
     ]
    }
   ],
   "source": [
    "MODEL = f\"cardiffnlp/twitter-roberta-base-sentiment-latest\"\n",
    "tokenizer = AutoTokenizer.from_pretrained(MODEL)\n",
    "config = AutoConfig.from_pretrained(MODEL)\n",
    "model = AutoModelForSequenceClassification.from_pretrained(MODEL)"
   ]
  },
  {
   "cell_type": "markdown",
   "metadata": {},
   "source": [
    "### Perform sentiment analysis with VADER and RoBERTa"
   ]
  },
  {
   "cell_type": "code",
   "execution_count": 15,
   "metadata": {},
   "outputs": [],
   "source": [
    "def roberta(text: str):\n",
    "    text = preprocess(text)\n",
    "    encoded_input = tokenizer(text, return_tensors='pt')\n",
    "    output = model(**encoded_input)\n",
    "    scores = output[0][0].detach().numpy()\n",
    "    scores = softmax(scores)\n",
    "    labels = config.id2label.values()\n",
    "    scores_dict = dict(zip(labels, scores))\n",
    "    \n",
    "    scores_dict['Method'] = 'R'\n",
    "    return scores_dict"
   ]
  },
  {
   "cell_type": "code",
   "execution_count": 16,
   "metadata": {},
   "outputs": [],
   "source": [
    "def vader(text: str):\n",
    "    text = preprocess(text)\n",
    "    scores = nltk_sia.polarity_scores(text)\n",
    "    scores.pop('compound')\n",
    "    scores = list(scores.values())\n",
    "\n",
    "    key_names = ['Negative', 'Neutral', 'Positive']\n",
    "    scores_dict = dict(zip(key_names, scores))\n",
    "    scores_dict['Method'] = 'V'\n",
    "    return scores_dict"
   ]
  },
  {
   "cell_type": "code",
   "execution_count": 17,
   "metadata": {},
   "outputs": [],
   "source": [
    "def get_sentiment(scores):\n",
    "    method = scores.pop('Method')\n",
    "    sentiment = max(scores, key = scores.get)\n",
    "    scores['Method'] = method\n",
    "    return sentiment"
   ]
  },
  {
   "cell_type": "code",
   "execution_count": 18,
   "metadata": {},
   "outputs": [],
   "source": [
    "def sentiment_analysis(text:str, method:str):\n",
    "    '''\n",
    "    First checks if tweet contains various phrases that result in a trivial sentiment determination.\n",
    "    Otherwise, performs roBERTa sentiment analysis.\n",
    "    Returns a dictionary containing the probabilities of each sentiment and the sentiment with the greatest probability.\n",
    "    For our analysis, Yes = 'Positive' and No = 'Negative'.\n",
    "    '''\n",
    "    \n",
    "    positive_regex = 'yeson.{0,5}(prop)?.?30|prop.?30.?yes'\n",
    "    negative_regex = 'noon.{0,5}(prop)?.?30|prop.?30.?no'\n",
    "\n",
    "    lower_text = text.lower()\n",
    "    # contains positive phrases\n",
    "    if bool(re.search(positive_regex, lower_text.replace(' ',''))):\n",
    "        sentiment_scores = {'Negative': 0, 'Neutral': 0, 'Positive': 1, 'Sentiment': 'Positive', 'Method': method}\n",
    "    # contains negative phrases\n",
    "    elif bool(re.search(negative_regex, lower_text.lower().replace(' ',''))):\n",
    "        sentiment_scores = {'Negative': 1, 'Neutral': 0, 'Positive': 0, 'Sentiment': 'Negative', 'Method': method}\n",
    "    else:\n",
    "        if method == 'R':\n",
    "            sentiment_scores = roberta(text)\n",
    "\n",
    "        elif method == 'V':\n",
    "            sentiment_scores = vader(text)\n",
    "        else:\n",
    "            return f'unknown model: {method}'\n",
    "          \n",
    "        sentiment = get_sentiment(sentiment_scores)\n",
    "        sentiment_scores['Sentiment'] = sentiment\n",
    "    \n",
    "    return sentiment_scores"
   ]
  },
  {
   "cell_type": "markdown",
   "metadata": {},
   "source": [
    "#### Run sentiment analysis on all tweets"
   ]
  },
  {
   "cell_type": "code",
   "execution_count": 23,
   "metadata": {},
   "outputs": [],
   "source": [
    "results_r = []\n",
    "results_v = []\n",
    "for index, row in tweets_df.iterrows():\n",
    "    sentiment_scores_roberta = sentiment_analysis(row['Content'], 'R')\n",
    "    sentiment_scores_vader = sentiment_analysis(row['Content'], 'V')\n",
    "    results_r.append(sentiment_scores_roberta)\n",
    "    results_v.append(sentiment_scores_vader)\n",
    "sentiment_r_df = pd.DataFrame(results_r)\n",
    "sentiment_v_df = pd.DataFrame(results_v)\n",
    "sentiment_combined_df = pd.concat([sentiment_r_df, sentiment_v_df])"
   ]
  },
  {
   "cell_type": "code",
   "execution_count": 28,
   "metadata": {},
   "outputs": [
    {
     "data": {
      "text/html": [
       "<div>\n",
       "<style scoped>\n",
       "    .dataframe tbody tr th:only-of-type {\n",
       "        vertical-align: middle;\n",
       "    }\n",
       "\n",
       "    .dataframe tbody tr th {\n",
       "        vertical-align: top;\n",
       "    }\n",
       "\n",
       "    .dataframe thead th {\n",
       "        text-align: right;\n",
       "    }\n",
       "</style>\n",
       "<table border=\"1\" class=\"dataframe\">\n",
       "  <thead>\n",
       "    <tr style=\"text-align: right;\">\n",
       "      <th></th>\n",
       "      <th>Negative</th>\n",
       "      <th>Neutral</th>\n",
       "      <th>Positive</th>\n",
       "      <th>Method</th>\n",
       "      <th>Sentiment</th>\n",
       "    </tr>\n",
       "  </thead>\n",
       "  <tbody>\n",
       "    <tr>\n",
       "      <th>0</th>\n",
       "      <td>0.699021</td>\n",
       "      <td>0.268417</td>\n",
       "      <td>0.032562</td>\n",
       "      <td>R</td>\n",
       "      <td>Negative</td>\n",
       "    </tr>\n",
       "    <tr>\n",
       "      <th>1</th>\n",
       "      <td>0.000000</td>\n",
       "      <td>0.000000</td>\n",
       "      <td>1.000000</td>\n",
       "      <td>R</td>\n",
       "      <td>Positive</td>\n",
       "    </tr>\n",
       "    <tr>\n",
       "      <th>2</th>\n",
       "      <td>0.767167</td>\n",
       "      <td>0.220800</td>\n",
       "      <td>0.012033</td>\n",
       "      <td>R</td>\n",
       "      <td>Negative</td>\n",
       "    </tr>\n",
       "    <tr>\n",
       "      <th>3</th>\n",
       "      <td>0.000000</td>\n",
       "      <td>0.000000</td>\n",
       "      <td>1.000000</td>\n",
       "      <td>R</td>\n",
       "      <td>Positive</td>\n",
       "    </tr>\n",
       "    <tr>\n",
       "      <th>4</th>\n",
       "      <td>0.000000</td>\n",
       "      <td>0.000000</td>\n",
       "      <td>1.000000</td>\n",
       "      <td>R</td>\n",
       "      <td>Positive</td>\n",
       "    </tr>\n",
       "    <tr>\n",
       "      <th>...</th>\n",
       "      <td>...</td>\n",
       "      <td>...</td>\n",
       "      <td>...</td>\n",
       "      <td>...</td>\n",
       "      <td>...</td>\n",
       "    </tr>\n",
       "    <tr>\n",
       "      <th>2674</th>\n",
       "      <td>0.057230</td>\n",
       "      <td>0.804284</td>\n",
       "      <td>0.138487</td>\n",
       "      <td>R</td>\n",
       "      <td>Neutral</td>\n",
       "    </tr>\n",
       "    <tr>\n",
       "      <th>2675</th>\n",
       "      <td>0.000000</td>\n",
       "      <td>0.000000</td>\n",
       "      <td>1.000000</td>\n",
       "      <td>R</td>\n",
       "      <td>Positive</td>\n",
       "    </tr>\n",
       "    <tr>\n",
       "      <th>2676</th>\n",
       "      <td>0.120726</td>\n",
       "      <td>0.858503</td>\n",
       "      <td>0.020771</td>\n",
       "      <td>R</td>\n",
       "      <td>Neutral</td>\n",
       "    </tr>\n",
       "    <tr>\n",
       "      <th>2677</th>\n",
       "      <td>0.143333</td>\n",
       "      <td>0.739530</td>\n",
       "      <td>0.117137</td>\n",
       "      <td>R</td>\n",
       "      <td>Neutral</td>\n",
       "    </tr>\n",
       "    <tr>\n",
       "      <th>2678</th>\n",
       "      <td>0.026903</td>\n",
       "      <td>0.892237</td>\n",
       "      <td>0.080860</td>\n",
       "      <td>R</td>\n",
       "      <td>Neutral</td>\n",
       "    </tr>\n",
       "  </tbody>\n",
       "</table>\n",
       "<p>2679 rows × 5 columns</p>\n",
       "</div>"
      ],
      "text/plain": [
       "      Negative   Neutral  Positive Method Sentiment\n",
       "0     0.699021  0.268417  0.032562      R  Negative\n",
       "1     0.000000  0.000000  1.000000      R  Positive\n",
       "2     0.767167  0.220800  0.012033      R  Negative\n",
       "3     0.000000  0.000000  1.000000      R  Positive\n",
       "4     0.000000  0.000000  1.000000      R  Positive\n",
       "...        ...       ...       ...    ...       ...\n",
       "2674  0.057230  0.804284  0.138487      R   Neutral\n",
       "2675  0.000000  0.000000  1.000000      R  Positive\n",
       "2676  0.120726  0.858503  0.020771      R   Neutral\n",
       "2677  0.143333  0.739530  0.117137      R   Neutral\n",
       "2678  0.026903  0.892237  0.080860      R   Neutral\n",
       "\n",
       "[2679 rows x 5 columns]"
      ]
     },
     "execution_count": 28,
     "metadata": {},
     "output_type": "execute_result"
    }
   ],
   "source": [
    "sentiment_r_df"
   ]
  },
  {
   "cell_type": "markdown",
   "metadata": {},
   "source": [
    "#### Merge tweets_df and sentiment_df"
   ]
  },
  {
   "cell_type": "code",
   "execution_count": 24,
   "metadata": {},
   "outputs": [
    {
     "data": {
      "text/html": [
       "<div>\n",
       "<style scoped>\n",
       "    .dataframe tbody tr th:only-of-type {\n",
       "        vertical-align: middle;\n",
       "    }\n",
       "\n",
       "    .dataframe tbody tr th {\n",
       "        vertical-align: top;\n",
       "    }\n",
       "\n",
       "    .dataframe thead th {\n",
       "        text-align: right;\n",
       "    }\n",
       "</style>\n",
       "<table border=\"1\" class=\"dataframe\">\n",
       "  <thead>\n",
       "    <tr style=\"text-align: right;\">\n",
       "      <th></th>\n",
       "      <th>Negative</th>\n",
       "      <th>Neutral</th>\n",
       "      <th>Positive</th>\n",
       "      <th>Method</th>\n",
       "      <th>Sentiment</th>\n",
       "    </tr>\n",
       "  </thead>\n",
       "  <tbody>\n",
       "    <tr>\n",
       "      <th>0</th>\n",
       "      <td>0.699021</td>\n",
       "      <td>0.268417</td>\n",
       "      <td>0.032562</td>\n",
       "      <td>R</td>\n",
       "      <td>Negative</td>\n",
       "    </tr>\n",
       "    <tr>\n",
       "      <th>1</th>\n",
       "      <td>0.000000</td>\n",
       "      <td>0.000000</td>\n",
       "      <td>1.000000</td>\n",
       "      <td>R</td>\n",
       "      <td>Positive</td>\n",
       "    </tr>\n",
       "    <tr>\n",
       "      <th>2</th>\n",
       "      <td>0.767167</td>\n",
       "      <td>0.220800</td>\n",
       "      <td>0.012033</td>\n",
       "      <td>R</td>\n",
       "      <td>Negative</td>\n",
       "    </tr>\n",
       "    <tr>\n",
       "      <th>3</th>\n",
       "      <td>0.000000</td>\n",
       "      <td>0.000000</td>\n",
       "      <td>1.000000</td>\n",
       "      <td>R</td>\n",
       "      <td>Positive</td>\n",
       "    </tr>\n",
       "    <tr>\n",
       "      <th>4</th>\n",
       "      <td>0.000000</td>\n",
       "      <td>0.000000</td>\n",
       "      <td>1.000000</td>\n",
       "      <td>R</td>\n",
       "      <td>Positive</td>\n",
       "    </tr>\n",
       "    <tr>\n",
       "      <th>...</th>\n",
       "      <td>...</td>\n",
       "      <td>...</td>\n",
       "      <td>...</td>\n",
       "      <td>...</td>\n",
       "      <td>...</td>\n",
       "    </tr>\n",
       "    <tr>\n",
       "      <th>2674</th>\n",
       "      <td>0.057000</td>\n",
       "      <td>0.943000</td>\n",
       "      <td>0.000000</td>\n",
       "      <td>V</td>\n",
       "      <td>Neutral</td>\n",
       "    </tr>\n",
       "    <tr>\n",
       "      <th>2675</th>\n",
       "      <td>0.000000</td>\n",
       "      <td>0.000000</td>\n",
       "      <td>1.000000</td>\n",
       "      <td>V</td>\n",
       "      <td>Positive</td>\n",
       "    </tr>\n",
       "    <tr>\n",
       "      <th>2676</th>\n",
       "      <td>0.000000</td>\n",
       "      <td>1.000000</td>\n",
       "      <td>0.000000</td>\n",
       "      <td>V</td>\n",
       "      <td>Neutral</td>\n",
       "    </tr>\n",
       "    <tr>\n",
       "      <th>2677</th>\n",
       "      <td>0.131000</td>\n",
       "      <td>0.668000</td>\n",
       "      <td>0.201000</td>\n",
       "      <td>V</td>\n",
       "      <td>Neutral</td>\n",
       "    </tr>\n",
       "    <tr>\n",
       "      <th>2678</th>\n",
       "      <td>0.084000</td>\n",
       "      <td>0.859000</td>\n",
       "      <td>0.058000</td>\n",
       "      <td>V</td>\n",
       "      <td>Neutral</td>\n",
       "    </tr>\n",
       "  </tbody>\n",
       "</table>\n",
       "<p>5358 rows × 5 columns</p>\n",
       "</div>"
      ],
      "text/plain": [
       "      Negative   Neutral  Positive Method Sentiment\n",
       "0     0.699021  0.268417  0.032562      R  Negative\n",
       "1     0.000000  0.000000  1.000000      R  Positive\n",
       "2     0.767167  0.220800  0.012033      R  Negative\n",
       "3     0.000000  0.000000  1.000000      R  Positive\n",
       "4     0.000000  0.000000  1.000000      R  Positive\n",
       "...        ...       ...       ...    ...       ...\n",
       "2674  0.057000  0.943000  0.000000      V   Neutral\n",
       "2675  0.000000  0.000000  1.000000      V  Positive\n",
       "2676  0.000000  1.000000  0.000000      V   Neutral\n",
       "2677  0.131000  0.668000  0.201000      V   Neutral\n",
       "2678  0.084000  0.859000  0.058000      V   Neutral\n",
       "\n",
       "[5358 rows x 5 columns]"
      ]
     },
     "execution_count": 24,
     "metadata": {},
     "output_type": "execute_result"
    }
   ],
   "source": [
    "sentiment_combined_df"
   ]
  },
  {
   "cell_type": "code",
   "execution_count": 25,
   "metadata": {},
   "outputs": [],
   "source": [
    "tweets_df_double = pd.concat([tweets_df, tweets_df])"
   ]
  },
  {
   "cell_type": "code",
   "execution_count": 27,
   "metadata": {},
   "outputs": [
    {
     "data": {
      "text/html": [
       "<div>\n",
       "<style scoped>\n",
       "    .dataframe tbody tr th:only-of-type {\n",
       "        vertical-align: middle;\n",
       "    }\n",
       "\n",
       "    .dataframe tbody tr th {\n",
       "        vertical-align: top;\n",
       "    }\n",
       "\n",
       "    .dataframe thead th {\n",
       "        text-align: right;\n",
       "    }\n",
       "</style>\n",
       "<table border=\"1\" class=\"dataframe\">\n",
       "  <thead>\n",
       "    <tr style=\"text-align: right;\">\n",
       "      <th></th>\n",
       "      <th>Date</th>\n",
       "      <th>User</th>\n",
       "      <th>Content</th>\n",
       "      <th>Likes</th>\n",
       "      <th>Retweets</th>\n",
       "      <th>Negative</th>\n",
       "      <th>Neutral</th>\n",
       "      <th>Positive</th>\n",
       "      <th>Method</th>\n",
       "      <th>Sentiment</th>\n",
       "    </tr>\n",
       "  </thead>\n",
       "  <tbody>\n",
       "    <tr>\n",
       "      <th>0</th>\n",
       "      <td>2022-11-07 23:01:03+00:00</td>\n",
       "      <td>YousefBaig</td>\n",
       "      <td>Newsom claimed Prop. 30 \"puts corporate welfar...</td>\n",
       "      <td>1</td>\n",
       "      <td>4</td>\n",
       "      <td>0.699021</td>\n",
       "      <td>0.268417</td>\n",
       "      <td>0.032562</td>\n",
       "      <td>R</td>\n",
       "      <td>Negative</td>\n",
       "    </tr>\n",
       "    <tr>\n",
       "      <th>1</th>\n",
       "      <td>2022-11-07 22:59:20+00:00</td>\n",
       "      <td>ClimateResolve</td>\n",
       "      <td>#Prop30 is pivotal to help our state combat da...</td>\n",
       "      <td>5</td>\n",
       "      <td>6</td>\n",
       "      <td>0.000000</td>\n",
       "      <td>0.000000</td>\n",
       "      <td>1.000000</td>\n",
       "      <td>R</td>\n",
       "      <td>Positive</td>\n",
       "    </tr>\n",
       "    <tr>\n",
       "      <th>2</th>\n",
       "      <td>2022-11-07 22:56:18+00:00</td>\n",
       "      <td>trader_mtg</td>\n",
       "      <td>@ecommerceshares Wait until Prop 30 gets shot ...</td>\n",
       "      <td>1</td>\n",
       "      <td>0</td>\n",
       "      <td>0.767167</td>\n",
       "      <td>0.220800</td>\n",
       "      <td>0.012033</td>\n",
       "      <td>R</td>\n",
       "      <td>Negative</td>\n",
       "    </tr>\n",
       "    <tr>\n",
       "      <th>3</th>\n",
       "      <td>2022-11-07 22:47:35+00:00</td>\n",
       "      <td>LByock</td>\n",
       "      <td>@dhere I voted no on 27 (which is in conflict ...</td>\n",
       "      <td>1</td>\n",
       "      <td>1</td>\n",
       "      <td>0.000000</td>\n",
       "      <td>0.000000</td>\n",
       "      <td>1.000000</td>\n",
       "      <td>R</td>\n",
       "      <td>Positive</td>\n",
       "    </tr>\n",
       "    <tr>\n",
       "      <th>4</th>\n",
       "      <td>2022-11-07 22:39:45+00:00</td>\n",
       "      <td>SFBayPSR</td>\n",
       "      <td>VOTE YES on Prop 30! If we don’t act, Californ...</td>\n",
       "      <td>10</td>\n",
       "      <td>7</td>\n",
       "      <td>0.000000</td>\n",
       "      <td>0.000000</td>\n",
       "      <td>1.000000</td>\n",
       "      <td>R</td>\n",
       "      <td>Positive</td>\n",
       "    </tr>\n",
       "    <tr>\n",
       "      <th>...</th>\n",
       "      <td>...</td>\n",
       "      <td>...</td>\n",
       "      <td>...</td>\n",
       "      <td>...</td>\n",
       "      <td>...</td>\n",
       "      <td>...</td>\n",
       "      <td>...</td>\n",
       "      <td>...</td>\n",
       "      <td>...</td>\n",
       "      <td>...</td>\n",
       "    </tr>\n",
       "    <tr>\n",
       "      <th>2674</th>\n",
       "      <td>2022-07-02 01:01:34+00:00</td>\n",
       "      <td>alfred_twu</td>\n",
       "      <td>Prop 30: Electric Vehicles &amp;amp; Wildfire Prev...</td>\n",
       "      <td>23</td>\n",
       "      <td>3</td>\n",
       "      <td>0.057000</td>\n",
       "      <td>0.943000</td>\n",
       "      <td>0.000000</td>\n",
       "      <td>V</td>\n",
       "      <td>Neutral</td>\n",
       "    </tr>\n",
       "    <tr>\n",
       "      <th>2675</th>\n",
       "      <td>2022-07-01 22:57:49+00:00</td>\n",
       "      <td>wickedmitch_</td>\n",
       "      <td>Tentative votes:\\nProp 1: yes\\nProp 26: yes\\nP...</td>\n",
       "      <td>0</td>\n",
       "      <td>0</td>\n",
       "      <td>0.000000</td>\n",
       "      <td>0.000000</td>\n",
       "      <td>1.000000</td>\n",
       "      <td>V</td>\n",
       "      <td>Positive</td>\n",
       "    </tr>\n",
       "    <tr>\n",
       "      <th>2676</th>\n",
       "      <td>2022-07-01 21:49:09+00:00</td>\n",
       "      <td>davidaguilar92</td>\n",
       "      <td>California's Secretary of State just released ...</td>\n",
       "      <td>0</td>\n",
       "      <td>0</td>\n",
       "      <td>0.000000</td>\n",
       "      <td>1.000000</td>\n",
       "      <td>0.000000</td>\n",
       "      <td>V</td>\n",
       "      <td>Neutral</td>\n",
       "    </tr>\n",
       "    <tr>\n",
       "      <th>2677</th>\n",
       "      <td>2022-07-01 20:22:45+00:00</td>\n",
       "      <td>RL_Miller</td>\n",
       "      <td>Prop 1: OH HELL YES\\nProp 26: Maybe, but not w...</td>\n",
       "      <td>1</td>\n",
       "      <td>0</td>\n",
       "      <td>0.131000</td>\n",
       "      <td>0.668000</td>\n",
       "      <td>0.201000</td>\n",
       "      <td>V</td>\n",
       "      <td>Neutral</td>\n",
       "    </tr>\n",
       "    <tr>\n",
       "      <th>2678</th>\n",
       "      <td>2022-07-01 19:50:46+00:00</td>\n",
       "      <td>JeremyBWhite</td>\n",
       "      <td>NEW: Ballot numbers!\\n\\nPROP 1: Enshrine abort...</td>\n",
       "      <td>148</td>\n",
       "      <td>71</td>\n",
       "      <td>0.084000</td>\n",
       "      <td>0.859000</td>\n",
       "      <td>0.058000</td>\n",
       "      <td>V</td>\n",
       "      <td>Neutral</td>\n",
       "    </tr>\n",
       "  </tbody>\n",
       "</table>\n",
       "<p>5358 rows × 10 columns</p>\n",
       "</div>"
      ],
      "text/plain": [
       "                          Date            User  \\\n",
       "0    2022-11-07 23:01:03+00:00      YousefBaig   \n",
       "1    2022-11-07 22:59:20+00:00  ClimateResolve   \n",
       "2    2022-11-07 22:56:18+00:00      trader_mtg   \n",
       "3    2022-11-07 22:47:35+00:00          LByock   \n",
       "4    2022-11-07 22:39:45+00:00        SFBayPSR   \n",
       "...                        ...             ...   \n",
       "2674 2022-07-02 01:01:34+00:00      alfred_twu   \n",
       "2675 2022-07-01 22:57:49+00:00    wickedmitch_   \n",
       "2676 2022-07-01 21:49:09+00:00  davidaguilar92   \n",
       "2677 2022-07-01 20:22:45+00:00       RL_Miller   \n",
       "2678 2022-07-01 19:50:46+00:00    JeremyBWhite   \n",
       "\n",
       "                                                Content  Likes  Retweets  \\\n",
       "0     Newsom claimed Prop. 30 \"puts corporate welfar...      1         4   \n",
       "1     #Prop30 is pivotal to help our state combat da...      5         6   \n",
       "2     @ecommerceshares Wait until Prop 30 gets shot ...      1         0   \n",
       "3     @dhere I voted no on 27 (which is in conflict ...      1         1   \n",
       "4     VOTE YES on Prop 30! If we don’t act, Californ...     10         7   \n",
       "...                                                 ...    ...       ...   \n",
       "2674  Prop 30: Electric Vehicles &amp; Wildfire Prev...     23         3   \n",
       "2675  Tentative votes:\\nProp 1: yes\\nProp 26: yes\\nP...      0         0   \n",
       "2676  California's Secretary of State just released ...      0         0   \n",
       "2677  Prop 1: OH HELL YES\\nProp 26: Maybe, but not w...      1         0   \n",
       "2678  NEW: Ballot numbers!\\n\\nPROP 1: Enshrine abort...    148        71   \n",
       "\n",
       "      Negative   Neutral  Positive Method Sentiment  \n",
       "0     0.699021  0.268417  0.032562      R  Negative  \n",
       "1     0.000000  0.000000  1.000000      R  Positive  \n",
       "2     0.767167  0.220800  0.012033      R  Negative  \n",
       "3     0.000000  0.000000  1.000000      R  Positive  \n",
       "4     0.000000  0.000000  1.000000      R  Positive  \n",
       "...        ...       ...       ...    ...       ...  \n",
       "2674  0.057000  0.943000  0.000000      V   Neutral  \n",
       "2675  0.000000  0.000000  1.000000      V  Positive  \n",
       "2676  0.000000  1.000000  0.000000      V   Neutral  \n",
       "2677  0.131000  0.668000  0.201000      V   Neutral  \n",
       "2678  0.084000  0.859000  0.058000      V   Neutral  \n",
       "\n",
       "[5358 rows x 10 columns]"
      ]
     },
     "execution_count": 27,
     "metadata": {},
     "output_type": "execute_result"
    }
   ],
   "source": [
    "sa_df = pd.concat([tweets_df_double, sentiment_combined_df], axis=1)\n",
    "sa_df"
   ]
  },
  {
   "cell_type": "markdown",
   "metadata": {},
   "source": [
    "### Plots"
   ]
  },
  {
   "cell_type": "code",
   "execution_count": 29,
   "metadata": {},
   "outputs": [
    {
     "data": {
      "image/png": "[encoded data removed]",
      "text/plain": [
       "<Figure size 640x480 with 1 Axes>"
      ]
     },
     "metadata": {},
     "output_type": "display_data"
    },
    {
     "data": {
      "text/plain": [
       "<ggplot: (126164810203)>"
      ]
     },
     "execution_count": 29,
     "metadata": {},
     "output_type": "execute_result"
    }
   ],
   "source": [
    "(\n",
    "    p9.ggplot(data = sa_df, mapping = p9.aes(x = 'Sentiment', fill = 'Method'))\n",
    "    + p9.geom_bar(color = 'dimgray', position = 'dodge')\n",
    "    +p9.labs(title = 'Frequency of Prop. 30 Sentiments on Twitter', y = 'Frequency')\n",
    "    + p9.scale_fill_discrete(labels = ['RoBERTa', 'VADER'])\n",
    "    + p9.geom_text(p9.aes(label = p9.after_stat('count'), y = p9.stage(after_stat='count', after_scale='count - 75')), stat = 'count',position= p9.position_dodge2(width = 0.9), size = 9)\n",
    ")"
   ]
  },
  {
   "cell_type": "code",
   "execution_count": 18,
   "metadata": {},
   "outputs": [
    {
     "data": {
      "image/png": "[encoded data removed]",
      "text/plain": [
       "<Figure size 640x480 with 1 Axes>"
      ]
     },
     "metadata": {},
     "output_type": "display_data"
    },
    {
     "data": {
      "text/plain": [
       "<ggplot: (138022753710)>"
      ]
     },
     "execution_count": 18,
     "metadata": {},
     "output_type": "execute_result"
    }
   ],
   "source": [
    "(\n",
    "    p9.ggplot(data = sa_df[sa_df['Sentiment'] != 'Neutral'], mapping = p9.aes(x = 'Sentiment', fill = 'Method'))\n",
    "    + p9.geom_bar(color = 'dimgray', position = 'dodge')\n",
    "    + p9.labs(title = 'Frequency of Prop. 30 Sentiments on Twitter (excluding Neutral)', y = 'Frequency')\n",
    "    + p9.scale_fill_discrete(labels = ['RoBERTa', 'VADER'])\n",
    "    + p9.geom_text(p9.aes(label = p9.after_stat('count'), y = p9.stage(after_stat='count', after_scale='count - 50')), stat = 'count',position= p9.position_dodge2(width = 0.9), size = 9)\n",
    ")"
   ]
  },
  {
   "cell_type": "code",
   "execution_count": 30,
   "metadata": {},
   "outputs": [],
   "source": [
    "counts_df = sa_df[sa_df['Sentiment'] != 'Neutral'].groupby('Method')['Sentiment'].value_counts().to_frame()\n",
    "counts_df.rename(columns = {'Sentiment': 'Count'}, inplace=True)\n",
    "counts_df.reset_index(inplace=True)\n",
    "total_counts = counts_df.groupby('Method')['Count'].sum().to_list()\n",
    "total_counts = np.repeat(total_counts, 2)\n",
    "counts_df['Percentage'] = counts_df['Count'] / total_counts\n",
    "counts_df['graph_pos'] = counts_df['Percentage'] / 2"
   ]
  },
  {
   "cell_type": "code",
   "execution_count": 31,
   "metadata": {},
   "outputs": [
    {
     "data": {
      "image/png": "[encoded data removed]",
      "text/plain": [
       "<Figure size 640x480 with 1 Axes>"
      ]
     },
     "metadata": {},
     "output_type": "display_data"
    },
    {
     "data": {
      "text/plain": [
       "<ggplot: (126164810125)>"
      ]
     },
     "execution_count": 31,
     "metadata": {},
     "output_type": "execute_result"
    }
   ],
   "source": [
    "(\n",
    "    p9.ggplot(data = counts_df, mapping = p9.aes(x = 'Sentiment', y = 'Percentage',fill = 'Method'))\n",
    "    + p9.geom_bar(stat = 'identity', color = 'dimgray',position = 'dodge')\n",
    "    + p9.labs(title = 'Percentage of Prop. 30 Sentiments on Twitter (excluding Neutral)', y = 'Percentage')\n",
    "    + p9.scale_fill_discrete(labels = ['RoBERTa', 'VADER'])\n",
    "    + p9.geom_text(p9.aes(label = 'Percentage', y = 'graph_pos'), position = p9.position_dodge2(width=0.9), format_string='{:.3f}%', size = 11)\n",
    ")"
   ]
  },
  {
   "cell_type": "markdown",
   "metadata": {},
   "source": [
    "### Hypothesis testing\n",
    "\n",
    "We wil be comparing the proportion of positive/negative _sentiments_ ($P_S$) and the proportion of Yes/No votes on the _real_ ballot ($P_R$) by performing a **two-proportion z-test**.\n",
    "\n",
    "Our null hypothesis is that the two proportion have a difference of $0$: $H_0:$ $P_S - P_R = 0$.\n",
    "\n",
    "Our alternative hypothesis is that the two proportions are different: $H_A:$ $P_S - P_R \\ne 0$.\n",
    "\n",
    "We will be using a significance level of $\\alpha = 0.05$."
   ]
  },
  {
   "cell_type": "code",
   "execution_count": 34,
   "metadata": {},
   "outputs": [],
   "source": [
    "alpha = 0.05"
   ]
  },
  {
   "cell_type": "code",
   "execution_count": 32,
   "metadata": {},
   "outputs": [],
   "source": [
    "def HTest_Response(pvalue, alpha):\n",
    "    if pvalue <= alpha:\n",
    "        return f'{pvalue} is less than or equal to {alpha}, therefore reject the null hypothesis.'\n",
    "    else:\n",
    "        return f'{pvalue} is greater than {alpha}, therefore fail to reject the null hypothesis.'"
   ]
  },
  {
   "cell_type": "markdown",
   "metadata": {},
   "source": [
    "##### Twitter counts and sample sizes"
   ]
  },
  {
   "cell_type": "code",
   "execution_count": 35,
   "metadata": {},
   "outputs": [],
   "source": [
    "r_negative_count, r_positive_count = counts_df[(counts_df['Method'] == 'R')]['Count'].to_list()\n",
    "v_negative_count, v_positive_count = counts_df[(counts_df['Method'] == 'V')]['Count'].to_list()\n",
    "r_sample = r_negative_count + r_positive_count\n",
    "v_sample = v_negative_count + v_positive_count"
   ]
  },
  {
   "cell_type": "markdown",
   "metadata": {},
   "source": [
    "##### Poll counts and sample size"
   ]
  },
  {
   "cell_type": "code",
   "execution_count": 36,
   "metadata": {},
   "outputs": [],
   "source": [
    "poll_negative_count = 5_953_218\n",
    "poll_positive_count = 4_365_003\n",
    "poll_sample = poll_negative_count + poll_positive_count"
   ]
  },
  {
   "cell_type": "markdown",
   "metadata": {},
   "source": [
    "**RoBERTa**"
   ]
  },
  {
   "cell_type": "code",
   "execution_count": 37,
   "metadata": {},
   "outputs": [
    {
     "data": {
      "text/plain": [
       "'0.19421551764494482 is greater than 0.05, therefore fail to reject the null hypothesis.'"
      ]
     },
     "execution_count": 37,
     "metadata": {},
     "output_type": "execute_result"
    }
   ],
   "source": [
    "# comparing Negative and No\n",
    "z_stat_r_neg, p_value_r_neg = proportions_ztest(count = [r_negative_count, poll_negative_count], nobs = [r_sample, poll_sample], value = 0.0, alternative= 'two-sided')\n",
    "HTest_Response(p_value_r_neg, alpha)"
   ]
  },
  {
   "cell_type": "code",
   "execution_count": 38,
   "metadata": {},
   "outputs": [
    {
     "data": {
      "text/plain": [
       "'0.19421551764494338 is greater than 0.05, therefore fail to reject the null hypothesis.'"
      ]
     },
     "execution_count": 38,
     "metadata": {},
     "output_type": "execute_result"
    }
   ],
   "source": [
    "# comparing Positive and Yes\n",
    "z_stat_r_pos, p_value_r_pos = proportions_ztest(count = [r_positive_count, poll_positive_count], nobs = [r_sample, poll_sample], value = 0.0, alternative= 'two-sided')\n",
    "HTest_Response(p_value_r_pos, alpha)"
   ]
  },
  {
   "cell_type": "markdown",
   "metadata": {},
   "source": [
    "**VADER**"
   ]
  },
  {
   "cell_type": "code",
   "execution_count": 39,
   "metadata": {},
   "outputs": [
    {
     "data": {
      "text/plain": [
       "'0.04061882890303825 is less than or equal to 0.05, therefore reject the null hypothesis.'"
      ]
     },
     "execution_count": 39,
     "metadata": {},
     "output_type": "execute_result"
    }
   ],
   "source": [
    "# comparing Negative and No\n",
    "z_stat_v_neg, p_value_v_neg = proportions_ztest(count = [v_negative_count, poll_negative_count], nobs = [v_sample, poll_sample], value = 0.0, alternative= 'two-sided')\n",
    "HTest_Response(p_value_v_neg, alpha)"
   ]
  },
  {
   "cell_type": "code",
   "execution_count": 40,
   "metadata": {},
   "outputs": [
    {
     "data": {
      "text/plain": [
       "'0.04061882890303825 is less than or equal to 0.05, therefore reject the null hypothesis.'"
      ]
     },
     "execution_count": 40,
     "metadata": {},
     "output_type": "execute_result"
    }
   ],
   "source": [
    "# comparing Positive and Yes\n",
    "z_stat_v_pos, p_value_v_pos = proportions_ztest(count = [v_positive_count, poll_positive_count], nobs = [v_sample, poll_sample], value = 0.0, alternative= 'two-sided')\n",
    "HTest_Response(p_value_v_pos, alpha)"
   ]
  }
 ],
 "metadata": {
  "kernelspec": {
   "display_name": "Python 3.10.8 64-bit",
   "language": "python",
   "name": "python3"
  },
  "language_info": {
   "codemirror_mode": {
    "name": "ipython",
    "version": 3
   },
   "file_extension": ".py",
   "mimetype": "text/x-python",
   "name": "python",
   "nbconvert_exporter": "python",
   "pygments_lexer": "ipython3",
   "version": "3.10.8"
  },
  "orig_nbformat": 4,
  "vscode": {
   "interpreter": {
    "hash": "369f2c481f4da34e4445cda3fffd2e751bd1c4d706f27375911949ba6bb62e1c"
   }
  }
 },
 "nbformat": 4,
 "nbformat_minor": 2
}
