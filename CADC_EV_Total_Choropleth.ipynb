{
 "cells": [
  {
   "cell_type": "code",
   "execution_count": null,
   "metadata": {},
   "outputs": [],
   "source": [
    "import pandas as pd\n",
    "import numpy as np\n",
    "import addfips\n",
    "import plotly.express as px\n",
    "from urllib.request import urlopen\n",
    "import json\n",
    "import math"
   ]
  },
  {
   "cell_type": "code",
   "execution_count": null,
   "metadata": {},
   "outputs": [],
   "source": [
    "ev_df = pd.read_csv('New_ZEV_Sales.csv')"
   ]
  },
  {
   "cell_type": "code",
   "execution_count": null,
   "metadata": {},
   "outputs": [],
   "source": [
    "out_of_state = ev_df[ (ev_df['County'] == 'Out Of State') ].index\n",
    "ev_df.drop(out_of_state , inplace=True)"
   ]
  },
  {
   "cell_type": "code",
   "execution_count": null,
   "metadata": {},
   "outputs": [],
   "source": [
    "ev_year_df = ev_df.groupby(['Data Year','County']).sum(numeric_only = True)\n",
    "ev_year_df.reset_index(inplace=True)\n",
    "ev_year_df.rename(columns = {'Number of Vehicles': 'Total', 'Data Year': 'Year'}, inplace = True)"
   ]
  },
  {
   "cell_type": "code",
   "execution_count": null,
   "metadata": {},
   "outputs": [],
   "source": [
    "af = addfips.AddFIPS()\n",
    "\n",
    "def create_fips_col(county):\n",
    "    fips = af.get_county_fips(county, state = 'California')\n",
    "    return fips\n",
    "\n",
    "# add 'fips' column to each df\n",
    "ev_year_df['fips'] = ev_year_df['County'].apply(create_fips_col)"
   ]
  },
  {
   "cell_type": "code",
   "execution_count": null,
   "metadata": {},
   "outputs": [],
   "source": [
    "first_year = ev_year_df['Year'].iloc[0]\n",
    "last_year = ev_year_df['Year'].iloc[-1]"
   ]
  },
  {
   "cell_type": "code",
   "execution_count": null,
   "metadata": {},
   "outputs": [],
   "source": [
    "counties_lst = ev_year_df['County'].unique()"
   ]
  },
  {
   "cell_type": "code",
   "execution_count": null,
   "metadata": {},
   "outputs": [],
   "source": [
    "for year in range(first_year, last_year + 1):\n",
    "    for county in counties_lst:\n",
    "        if not ((ev_year_df['Year'] == year) & (ev_year_df['County'] ==  county)).any():\n",
    "            temp_df = {'Year': [year], \n",
    "                       'County': [county], \n",
    "                       'Total': [0], \n",
    "                       'fips': [af.get_county_fips(county, state = 'California')]}\n",
    "            temp_df = pd.DataFrame(temp_df)\n",
    "            ev_year_df = pd.concat([ev_year_df, temp_df], ignore_index = True)\n",
    "\n",
    "ev_year_df = ev_year_df.sort_values(by = 'Year')"
   ]
  },
  {
   "cell_type": "code",
   "execution_count": null,
   "metadata": {},
   "outputs": [],
   "source": [
    "def cumulative_sum(row):\n",
    "    cur_year = row['Year']\n",
    "    county = row['County']\n",
    "    cum_sum = ev_year_df[(ev_year_df['Year'] <= cur_year) & (ev_year_df['County'] == county)]['Total'].sum(numeric_only=True)\n",
    "    return cum_sum"
   ]
  },
  {
   "cell_type": "code",
   "execution_count": null,
   "metadata": {},
   "outputs": [],
   "source": [
    "ev_year_df['Cumulative Total'] = ev_year_df.apply(cumulative_sum, axis=1)"
   ]
  },
  {
   "cell_type": "code",
   "execution_count": null,
   "metadata": {},
   "outputs": [],
   "source": [
    "def log_0(num):\n",
    "    if num == 0:\n",
    "        return 0\n",
    "    else:\n",
    "        return math.log(num)"
   ]
  },
  {
   "cell_type": "code",
   "execution_count": null,
   "metadata": {},
   "outputs": [],
   "source": [
    "ev_year_df['log_Cum_Total'] = ev_year_df['Cumulative Total'].apply(log_0)"
   ]
  },
  {
   "cell_type": "code",
   "execution_count": null,
   "metadata": {},
   "outputs": [],
   "source": [
    "with urlopen('https://raw.githubusercontent.com/plotly/datasets/master/geojson-counties-fips.json') as response:\n",
    "    counties = json.load(response)"
   ]
  },
  {
   "cell_type": "code",
   "execution_count": null,
   "metadata": {},
   "outputs": [],
   "source": [
    "ev_year_fig = px.choropleth(\n",
    "    ev_year_df,\n",
    "    geojson = counties,\n",
    "    locations = 'fips',\n",
    "    color = 'log_Cum_Total',\n",
    "    scope = 'usa',\n",
    "    color_continuous_scale= 'agsunset_r',\n",
    "    hover_name = ev_year_df['County'],\n",
    "    hover_data= {'Cumulative Total': True,\n",
    "                 'fips': False,\n",
    "                 'log_Cum_Total': False\n",
    "                 },\n",
    "    basemap_visible=True,\n",
    "    animation_frame='Year'\n",
    "           \n",
    ")\n",
    "\n",
    "ev_year_fig.update_geos(fitbounds = 'locations')\n",
    "ev_year_fig.update_layout(height=500,margin={\"r\":0,\"t\":5,\"l\":0,\"b\":0})\n",
    "ev_year_fig.layout.coloraxis.colorbar = {'title': 'Number of EVs',\n",
    "                                 'x': 0.9,\n",
    "                                 'tickvals': [0, 0.6, 1, 2, 3, 4, 5, 6, 7, 8, 9, 10, 11, 12, 13, 14],\n",
    "                                 'ticktext': [0, 2, 3] + [str(int(round(math.exp(val), -1))) for val in range(2,14)]\n",
    "                                 }\n",
    "ev_year_fig.show()"
   ]
  }
 ],
 "metadata": {
  "kernelspec": {
   "display_name": "Python 3.10.7 64-bit",
   "language": "python",
   "name": "python3"
  },
  "language_info": {
   "codemirror_mode": {
    "name": "ipython",
    "version": 3
   },
   "file_extension": ".py",
   "mimetype": "text/x-python",
   "name": "python",
   "nbconvert_exporter": "python",
   "pygments_lexer": "ipython3",
   "version": "3.10.8"
  },
  "orig_nbformat": 4,
  "vscode": {
   "interpreter": {
    "hash": "369f2c481f4da34e4445cda3fffd2e751bd1c4d706f27375911949ba6bb62e1c"
   }
  }
 },
 "nbformat": 4,
 "nbformat_minor": 2
}
