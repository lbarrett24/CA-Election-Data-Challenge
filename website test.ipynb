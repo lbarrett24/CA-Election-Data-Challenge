{
 "cells": [
  {
   "cell_type": "code",
   "execution_count": null,
   "id": "1214183f-a10d-4890-81e2-fcf4d5d42d01",
   "metadata": {},
   "outputs": [],
   "source": [
    "import dash as d\n",
    "from dash import html\n",
    "import pandas as pd\n",
    "from dash import dcc\n",
    "import dash_bootstrap_components as dbc\n",
    "import plotly.graph_objects as go\n",
    "import plotly.express as px\n",
    "import numpy as np\n",
    "\n",
    "import addfips\n",
    "import plotly.express as px\n",
    "from urllib.request import urlopen\n",
    "import json\n",
    "import math"
   ]
  },
  {
   "cell_type": "code",
   "execution_count": null,
   "id": "03b732cf-30fd-4f10-8542-e0a0d6a1df52",
   "metadata": {},
   "outputs": [],
   "source": [
    "app = d.Dash(__name__)"
   ]
  },
  {
   "cell_type": "code",
   "execution_count": null,
   "id": "fdaa8f4d-2daf-422a-ab10-0031f5b8dc5e",
   "metadata": {},
   "outputs": [],
   "source": [
    "excel_data = pd.read_excel('Hydrogen_Refueling_Stations_Last updated_10-18-2022.xlsx')"
   ]
  },
  {
   "cell_type": "code",
   "execution_count": null,
   "id": "9c28d24f-6c2d-4d49-a1ef-e61f0d81d671",
   "metadata": {},
   "outputs": [],
   "source": [
    "df = pd.DataFrame(excel_data)"
   ]
  },
  {
   "cell_type": "code",
   "execution_count": null,
   "id": "e2d97150-1f70-4ca4-9e08-75f8bfa83d72",
   "metadata": {},
   "outputs": [],
   "source": [
    "county= df['County'].unique()\n",
    "#df.groupby('County').unique()\n",
    "county=np.delete(county, -1)"
   ]
  },
  {
   "cell_type": "code",
   "execution_count": null,
   "id": "045e4229-f612-4c27-8ac6-e7a1b3afa97a",
   "metadata": {},
   "outputs": [],
   "source": [
    "county_hydrogen_fuel= pd.DataFrame()\n",
    "\n",
    "for i in range(len(county)):\n",
    "\n",
    "    placeholder = pd.DataFrame() #placeholder dataframe\n",
    "    placeholder['county'] = [county[i]] #state name into state column\n",
    "\n",
    "    county_rows = df[df['County'] == str(county[i])] #group rows from the same state\n",
    "    county_sum = county_rows['Fueling Positions'].sum() #sum of each age bin within the same state\n",
    "    fuel = county_sum.sum() #add the sum of age bins together to get state population\n",
    "\n",
    "    placeholder['total hydrogen stations'] = [fuel] #state population into state pop column\n",
    "\n",
    "    county_hydrogen_fuel = pd.concat([county_hydrogen_fuel, placeholder], ignore_index = True) \n",
    "    #append placeholder to the state_prop data frame\n"
   ]
  },
  {
   "cell_type": "code",
   "execution_count": null,
   "id": "037e6065-c7ee-49e5-9b0c-daea80b38df9",
   "metadata": {},
   "outputs": [],
   "source": [
    "def hydrogen_refuel():\n",
    "    fig1 = go.Figure(data=[go.Bar(x=county_hydrogen_fuel['county'], \n",
    "                                 y = county_hydrogen_fuel['total hydrogen stations'])],\n",
    "                    layout=go.Layout(title=go.layout.Title(text=\"Hydrogen Refueling Stations by county\")))\n",
    "    return fig1"
   ]
  },
  {
   "cell_type": "code",
   "execution_count": null,
   "id": "42b9126b",
   "metadata": {},
   "outputs": [],
   "source": [
    "ev_sales_df = pd.read_excel('New_ZEV_Sales_Last_updated_10-18-2022.xlsx')\n",
    "out_of_state = ev_sales_df[(ev_sales_df['County'] == 'Out Of State') ].index\n",
    "ev_sales_df.drop(out_of_state , inplace=True)\n",
    "#ev_sales_df.head(n=6)"
   ]
  },
  {
   "cell_type": "code",
   "execution_count": null,
   "id": "785dfe97",
   "metadata": {},
   "outputs": [],
   "source": [
    "year_df = ev_sales_df.groupby(['Data Year','County']).sum(numeric_only = True)\n",
    "year_df.reset_index(inplace=True)\n",
    "year_df.rename(columns = {'Data Year':'Year','Number of Vehicles':'Total Purchased EV'},inplace=True)\n",
    "#year_df.head()"
   ]
  },
  {
   "cell_type": "code",
   "execution_count": null,
   "id": "720da4af",
   "metadata": {},
   "outputs": [],
   "source": [
    "fig2 = px.bar(year_df,\n",
    "             x=year_df['Year'], \n",
    "             y='Total Purchased EV', \n",
    "             #text_auto=True,\n",
    "             #log_x = True,\n",
    "             color = 'County')\n",
    "fig2.update_xaxes(\n",
    "        tickangle = 90,\n",
    "        title_text = \"Year\",\n",
    "        title_font = {\"size\": 20},\n",
    "        title_standoff = 25,\n",
    "        tickmode = 'linear')\n",
    "fig2.update_yaxes(\n",
    "        tickangle = 90,\n",
    "        title_text = \"Total Purchased EV\",\n",
    "        title_font = {\"size\": 20},\n",
    "        title_standoff = 25)\n",
    "fig2.update_layout(title_text='Total Electric Vehicles Purchased by Year', title_x=0.5)\n",
    "fig2['layout']['title']['font'] = dict(size=25)\n",
    "fig2.update_layout()\n",
    "fig2.show()"
   ]
  },
  {
   "cell_type": "code",
   "execution_count": null,
   "id": "c6f25696",
   "metadata": {},
   "outputs": [],
   "source": [
    "app.layout = html.Div(children=[\n",
    "    # All elements from the top of the page\n",
    "    html.Div([\n",
    "        html.H1(children='Hello Dash'),\n",
    "\n",
    "        html.Div(children='''\n",
    "            Dash: A web application framework for Python.\n",
    "        '''),\n",
    "\n",
    "        dcc.Graph(\n",
    "            id='graph1',\n",
    "            figure=hydrogen_refuel()\n",
    "        ),  \n",
    "    ]),\n",
    "    # New Div for all elements in the new 'row' of the page\n",
    "    html.Div([\n",
    "        html.H1(children='Hello Dash'),\n",
    "\n",
    "        html.Div(children='''\n",
    "            Dash: A web application framework for Python.\n",
    "        '''),\n",
    "\n",
    "        dcc.Graph(\n",
    "            id='graph2',\n",
    "            figure=fig2\n",
    "        ),  \n",
    "    ]),\n",
    "])"
   ]
  },
  {
   "cell_type": "code",
   "execution_count": null,
   "id": "b3b9036b",
   "metadata": {},
   "outputs": [],
   "source": [
    "fig3 = px.pie(year_df, \n",
    "              values='Total Purchased EV',\n",
    "              names='County')\n",
    "fig3.update_layout(title_text='Percentage of Electric Vehicles Purchased by County', title_x=0.12)\n",
    "fig3.update_traces(textposition='inside')\n",
    "fig3.update_layout(uniformtext_minsize=12, uniformtext_mode='hide')\n",
    "fig3['layout']['title']['font'] = dict(size=25)\n",
    "fig3.show()"
   ]
  },
  {
   "cell_type": "code",
   "execution_count": null,
   "id": "2773adbd",
   "metadata": {},
   "outputs": [],
   "source": [
    "ev_chargers = pd.read_csv(\"EV Chargers_Last updated 01-31-2022.csv\")\n",
    "ev_chargers2 = ev_chargers.drop('Total', axis=1)\n",
    "ev_chargers2[\"Public Chargers\"] = (ev_chargers2[\"Public Level 1\"] + ev_chargers2[\"Public Level 2\"] + \n",
    "                                   ev_chargers2[\"Public DC Fast\"])\n",
    "ev_chargers2[\"Private Chargers\"] = (ev_chargers2[\"Shared Private Level 1\"] + ev_chargers2[\"Shared Private Level 2\"] + \n",
    "                                   ev_chargers2[\"Shared Private DC Fast\"])\n",
    "ev_chargers2 = ev_chargers2.drop([59])"
   ]
  },
  {
   "cell_type": "code",
   "execution_count": null,
   "id": "9bb94b26",
   "metadata": {
    "scrolled": false
   },
   "outputs": [],
   "source": [
    "charger_list = list(ev_chargers2) \n",
    "charger_list.remove('County')\n",
    "charger_list.remove('Public Chargers')\n",
    "charger_list.remove('Private Chargers')\n",
    "\n",
    "ev_df = pd.DataFrame()\n",
    "for i in range(len(charger_list)):\n",
    "    placeholder = pd.melt(ev_chargers2, id_vars = ['County'], value_vars = [charger_list[i]])\n",
    "    ev_df = pd.concat([ev_df, placeholder], ignore_index = True)"
   ]
  },
  {
   "cell_type": "code",
   "execution_count": null,
   "id": "de7d468a",
   "metadata": {},
   "outputs": [],
   "source": [
    "ev_pub = ev_chargers2[[\"County\",\"Public Level 1\", \"Public Level 2\", \"Public DC Fast\", \"Public Chargers\"]]\n",
    "ev_priv = ev_chargers2[[\"County\",\"Shared Private Level 1\", \"Shared Private Level 2\", \"Shared Private DC Fast\", \n",
    "                       \"Private Chargers\"]]"
   ]
  },
  {
   "cell_type": "code",
   "execution_count": null,
   "id": "b71d4918",
   "metadata": {},
   "outputs": [],
   "source": [
    "all_fig = px.bar(ev_df, x=\"County\",y=[\"value\"], color=\"variable\", \n",
    "       labels={'_value': 'Count'}, title='All EV Chargers per County')\n",
    "all_fig.update_layout(legend = dict(title = 'Type of Charger'))"
   ]
  },
  {
   "cell_type": "code",
   "execution_count": null,
   "id": "ee42b323",
   "metadata": {},
   "outputs": [],
   "source": [
    "# pub_fig = px.bar(ev_pub, x=\"County\",y=[\"Public Level 1\", \"Public Level 2\", \"Public DC Fast\"], \n",
    "#        labels={'value': 'Count'}, title='Public EV Chargers per County')\n",
    "# pub_fig.update_layout(legend = dict(title = 'Type of Public Charger'))"
   ]
  },
  {
   "cell_type": "code",
   "execution_count": null,
   "id": "4dd2484f",
   "metadata": {
    "scrolled": true
   },
   "outputs": [],
   "source": [
    "# priv_fig = px.bar(ev_priv, x=\"County\",y=[\"Shared Private Level 1\", \"Shared Private Level 2\", \"Shared Private DC Fast\"],\n",
    "#       labels={'value': 'Count'}, title='Private EV Chargers per County')\n",
    "# priv_fig.update_layout(legend = dict(title = 'Type of Private Charger'))"
   ]
  },
  {
   "cell_type": "code",
   "execution_count": null,
   "id": "9c2ab5e9",
   "metadata": {},
   "outputs": [],
   "source": [
    "charger_amount_df = pd.read_csv('EV Chargers_Last updated 01-31-2022.csv')\n",
    "charger_amount_df = charger_amount_df.dropna()"
   ]
  },
  {
   "cell_type": "code",
   "execution_count": null,
   "id": "2e12308d",
   "metadata": {},
   "outputs": [],
   "source": [
    "af = addfips.AddFIPS()\n",
    "\n",
    "def create_fips_col(county):\n",
    "    fips = af.get_county_fips(county, state = 'California')\n",
    "    return fips\n",
    "\n",
    "# add 'fips' column to each df\n",
    "charger_amount_df['fips'] = charger_amount_df['County'].apply(create_fips_col)"
   ]
  },
  {
   "cell_type": "code",
   "execution_count": null,
   "id": "b64b70fc",
   "metadata": {},
   "outputs": [],
   "source": [
    "charger_amount_df['log_Total'] = charger_amount_df['Total'].apply(math.log)"
   ]
  },
  {
   "cell_type": "code",
   "execution_count": null,
   "id": "94a99363",
   "metadata": {},
   "outputs": [],
   "source": [
    "with urlopen('https://raw.githubusercontent.com/plotly/datasets/master/geojson-counties-fips.json') as response:\n",
    "    counties = json.load(response)\n",
    "\n",
    "target_states = ['06']\n",
    "counties['features'] = [f for f in counties['features'] if f['properties']['STATE'] in target_states] "
   ]
  },
  {
   "cell_type": "code",
   "execution_count": null,
   "id": "5d80188d",
   "metadata": {},
   "outputs": [],
   "source": [
    "charger_fig = px.choropleth(\n",
    "    charger_amount_df,\n",
    "    geojson = counties,\n",
    "    locations = 'fips',\n",
    "    color = 'log_Total',\n",
    "    scope = 'usa',\n",
    "    color_continuous_scale= 'agsunset_r',\n",
    "    hover_name = charger_amount_df['County'],\n",
    "    hover_data= {'Total': True,\n",
    "                 'fips': False,\n",
    "                 'log_Total': False\n",
    "                 },\n",
    "    basemap_visible=True\n",
    "           \n",
    ")\n",
    "\n",
    "charger_fig.update_geos(fitbounds = 'locations')\n",
    "charger_fig.update_layout(height=500,margin={\"r\":0,\"t\":0,\"l\":0,\"b\":0})\n",
    "charger_fig.layout.coloraxis.colorbar = {'title': 'Number of EV Chargers',\n",
    "                                 'x': 0.9,\n",
    "                                 'tickvals': [0,1,2,3,4,5,6,7,8,9,10, 11],\n",
    "                                 'ticktext': [0, 2, 5] + [str(int(round(math.exp(val), -1))) for val in range(2,11)]}\n",
    "charger_fig.show()"
   ]
  },
  {
   "cell_type": "code",
   "execution_count": null,
   "id": "8c61d3d8",
   "metadata": {},
   "outputs": [],
   "source": [
    "ev_df = pd.read_csv('New_ZEV_Sales.csv')"
   ]
  },
  {
   "cell_type": "code",
   "execution_count": null,
   "id": "f1fcb352",
   "metadata": {},
   "outputs": [],
   "source": [
    "out_of_state = ev_df[ (ev_df['County'] == 'Out Of State') ].index\n",
    "ev_df.drop(out_of_state , inplace=True)"
   ]
  },
  {
   "cell_type": "code",
   "execution_count": null,
   "id": "633350f7",
   "metadata": {},
   "outputs": [],
   "source": [
    "ev_year_df = ev_df.groupby(['Data Year','County']).sum(numeric_only = True)\n",
    "ev_year_df.reset_index(inplace=True)\n",
    "ev_year_df.rename(columns = {'Number of Vehicles': 'Total', 'Data Year': 'Year'}, inplace = True)"
   ]
  },
  {
   "cell_type": "code",
   "execution_count": null,
   "id": "94f2247e",
   "metadata": {},
   "outputs": [],
   "source": [
    "ev_year_df['fips'] = ev_year_df['County'].apply(create_fips_col)"
   ]
  },
  {
   "cell_type": "code",
   "execution_count": null,
   "id": "ad3148ed",
   "metadata": {},
   "outputs": [],
   "source": [
    "first_year = ev_year_df['Year'].iloc[0]\n",
    "last_year = ev_year_df['Year'].iloc[-1]"
   ]
  },
  {
   "cell_type": "code",
   "execution_count": null,
   "id": "bf3b3600",
   "metadata": {},
   "outputs": [],
   "source": [
    "counties_lst = ev_year_df['County'].unique()"
   ]
  },
  {
   "cell_type": "code",
   "execution_count": null,
   "id": "67fe2145",
   "metadata": {},
   "outputs": [],
   "source": [
    "for year in range(first_year, last_year + 1):\n",
    "    for county in counties_lst:\n",
    "        if not ((ev_year_df['Year'] == year) & (ev_year_df['County'] ==  county)).any():\n",
    "            temp_df = {'Year': [year], \n",
    "                       'County': [county], \n",
    "                       'Total': [0], \n",
    "                       'fips': [af.get_county_fips(county, state = 'California')]}\n",
    "            temp_df = pd.DataFrame(temp_df)\n",
    "            ev_year_df = pd.concat([ev_year_df, temp_df], ignore_index = True)\n",
    "\n",
    "ev_year_df = ev_year_df.sort_values(by = 'Year')"
   ]
  },
  {
   "cell_type": "code",
   "execution_count": null,
   "id": "211f4e9c",
   "metadata": {},
   "outputs": [],
   "source": [
    "def cumulative_sum(row):\n",
    "    cur_year = row['Year']\n",
    "    county = row['County']\n",
    "    cum_sum = ev_year_df[(ev_year_df['Year'] <= cur_year) & (ev_year_df['County'] == county)]['Total'].sum(numeric_only=True)\n",
    "    return cum_sum"
   ]
  },
  {
   "cell_type": "code",
   "execution_count": null,
   "id": "b34ef36f",
   "metadata": {},
   "outputs": [],
   "source": [
    "ev_year_df['Cumulative Total'] = ev_year_df.apply(cumulative_sum, axis=1)"
   ]
  },
  {
   "cell_type": "code",
   "execution_count": null,
   "id": "07b43ad8",
   "metadata": {},
   "outputs": [],
   "source": [
    "def log_0(num):\n",
    "    if num == 0:\n",
    "        return 0\n",
    "    else:\n",
    "        return math.log(num)"
   ]
  },
  {
   "cell_type": "code",
   "execution_count": null,
   "id": "0f803122",
   "metadata": {},
   "outputs": [],
   "source": [
    "ev_year_df['log_Cum_Total'] = ev_year_df['Cumulative Total'].apply(log_0)"
   ]
  },
  {
   "cell_type": "code",
   "execution_count": null,
   "id": "a96036c7",
   "metadata": {},
   "outputs": [],
   "source": [
    "ev_year_df"
   ]
  },
  {
   "cell_type": "code",
   "execution_count": null,
   "id": "e3f0e232",
   "metadata": {},
   "outputs": [],
   "source": [
    "ev_year_fig = px.choropleth(\n",
    "    ev_year_df,\n",
    "    geojson = counties,\n",
    "    locations = 'fips',\n",
    "    color = 'log_Cum_Total',\n",
    "    scope = 'usa',\n",
    "    color_continuous_scale= 'agsunset_r',\n",
    "    hover_name = ev_year_df['County'],\n",
    "    hover_data= {'Cumulative Total': True,\n",
    "                 'fips': False,\n",
    "                 'log_Cum_Total': False\n",
    "                 },\n",
    "    basemap_visible=True,\n",
    "    animation_frame='Year'\n",
    "           \n",
    ")\n",
    "\n",
    "ev_year_fig.update_geos(fitbounds = 'locations')\n",
    "ev_year_fig.update_layout(height=500,margin={\"r\":0,\"t\":5,\"l\":0,\"b\":0})\n",
    "ev_year_fig.layout.coloraxis.colorbar = {'title': 'Number of EVs',\n",
    "                                 'x': 0.9,\n",
    "                                 'tickvals': [0, 0.6, 1, 2, 3, 4, 5, 6, 7, 8, 9, 10, 11, 12, 13, 14],\n",
    "                                 'ticktext': [0, 2, 3] + [str(int(round(math.exp(val), -1))) for val in range(2,14)]\n",
    "                                 }\n",
    "ev_year_fig.show()"
   ]
  },
  {
   "cell_type": "code",
   "execution_count": null,
   "id": "5ca807d8",
   "metadata": {},
   "outputs": [],
   "source": []
  },
  {
   "cell_type": "code",
   "execution_count": null,
   "id": "5b50b37e",
   "metadata": {},
   "outputs": [],
   "source": [
    "app.layout = html.Div(children=[\n",
    "    # All elements from the top of the page\n",
    "    html.Div([\n",
    "        html.H1(children='Hydrogen Refueling'),\n",
    "\n",
    "        html.Div(children='''\n",
    "            Other counties not listed are 0.\n",
    "        '''),\n",
    "\n",
    "        dcc.Graph(\n",
    "            id='graph1',\n",
    "            figure=hydrogen_refuel()\n",
    "        ),\n",
    "        \n",
    "        html.P(\n",
    "            'Southern California and the Bay area are the leaders by far when it comes to avaialbility of hydrogen refueling stations. Approximately 50% of all the hydrogen stations in CA are private and not accessible to the public which are used specifically used only for the private sector. These private stations are typically used by industrial purposes in refining and chemical processes. With a Prop30 approval, hydrogen vehicles would likely increase in number requiring more public infrastructure for refueling. This would also allow the industrial sector to tap into these stations as well making working conditions more convenient. Hydrogen fuel cells are major proponents for the ZEV sector since their only waste is water and air.'\n",
    "        ),\n",
    "    ]),\n",
    "    # New Div for all elements in the new 'row' of the page\n",
    "    html.Div([\n",
    "        html.H1(children='EV Purchased by Year'),\n",
    "\n",
    "        html.Div(children='''\n",
    "            Dash: A web application framework for Python.\n",
    "        '''),\n",
    "\n",
    "        dcc.Graph(\n",
    "            id='graph2',\n",
    "            figure=fig2\n",
    "        ),  \n",
    "    ]),\n",
    "    \n",
    "        html.Div([\n",
    "        html.H1(children='Percentage of EVs Purchased'),\n",
    "\n",
    "        html.Div(children='''\n",
    "            Dash: A web application framework for Python.\n",
    "        '''),\n",
    "\n",
    "        dcc.Graph(\n",
    "            id='graph3',\n",
    "            figure=fig3\n",
    "        ),  \n",
    "    ]),\n",
    "    \n",
    "        html.Div([\n",
    "        html.H1(children='All EV Chargers'),\n",
    "\n",
    "        html.Div(children='''\n",
    "            Dash: A web application framework for Python.\n",
    "        '''),\n",
    "\n",
    "        dcc.Graph(\n",
    "            id='graph4',\n",
    "            figure=all_fig\n",
    "        ),  \n",
    "    ]),\n",
    "    \n",
    "        html.Div([\n",
    "        html.H1(children='Chargers Heat Map'),\n",
    "\n",
    "        html.Div(children='''\n",
    "            Dash: A web application framework for Python.\n",
    "        '''),\n",
    "\n",
    "        dcc.Graph(\n",
    "            id='graph5',\n",
    "            figure=charger_fig\n",
    "        ),  \n",
    "    ]),   \n",
    "    \n",
    "        html.Div([\n",
    "        html.H1(children='EVs Heat Map'),\n",
    "\n",
    "        html.Div(children='''\n",
    "            Dash: A web application framework for Python.\n",
    "        '''),\n",
    "\n",
    "        dcc.Graph(\n",
    "            id='graph6',\n",
    "            figure=ev_year_fig\n",
    "        ),  \n",
    "    ]),    \n",
    "])"
   ]
  },
  {
   "cell_type": "code",
   "execution_count": null,
   "id": "cd5372ea-9d2f-4dec-a540-b2dfe754ee34",
   "metadata": {},
   "outputs": [],
   "source": [
    "if __name__ == '__main__': \n",
    "    app.run_server()"
   ]
  },
  {
   "cell_type": "code",
   "execution_count": null,
   "id": "64fc87dc",
   "metadata": {},
   "outputs": [],
   "source": []
  }
 ],
 "metadata": {
  "kernelspec": {
   "display_name": "Python 3 (ipykernel)",
   "language": "python",
   "name": "python3"
  },
  "language_info": {
   "codemirror_mode": {
    "name": "ipython",
    "version": 3
   },
   "file_extension": ".py",
   "mimetype": "text/x-python",
   "name": "python",
   "nbconvert_exporter": "python",
   "pygments_lexer": "ipython3",
   "version": "3.10.7"
  }
 },
 "nbformat": 4,
 "nbformat_minor": 5
}
