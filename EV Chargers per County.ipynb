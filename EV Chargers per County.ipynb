{
 "cells": [
  {
   "cell_type": "code",
   "execution_count": 19,
   "id": "4c5499fc",
   "metadata": {},
   "outputs": [],
   "source": [
    "import pandas as pd\n",
    "import plotnine as p9\n",
    "from plotnine import theme, element_text"
   ]
  },
  {
   "cell_type": "code",
   "execution_count": 15,
   "id": "0147ebf2",
   "metadata": {
    "scrolled": true
   },
   "outputs": [
    {
     "data": {
      "text/html": [
       "<div>\n",
       "<style scoped>\n",
       "    .dataframe tbody tr th:only-of-type {\n",
       "        vertical-align: middle;\n",
       "    }\n",
       "\n",
       "    .dataframe tbody tr th {\n",
       "        vertical-align: top;\n",
       "    }\n",
       "\n",
       "    .dataframe thead th {\n",
       "        text-align: right;\n",
       "    }\n",
       "</style>\n",
       "<table border=\"1\" class=\"dataframe\">\n",
       "  <thead>\n",
       "    <tr style=\"text-align: right;\">\n",
       "      <th></th>\n",
       "      <th>County</th>\n",
       "      <th>Public Level 1</th>\n",
       "      <th>Shared Private Level 1</th>\n",
       "      <th>Public Level 2</th>\n",
       "      <th>Shared Private Level 2</th>\n",
       "      <th>Public DC Fast</th>\n",
       "      <th>Shared Private DC Fast</th>\n",
       "      <th>Total</th>\n",
       "    </tr>\n",
       "  </thead>\n",
       "  <tbody>\n",
       "    <tr>\n",
       "      <th>0</th>\n",
       "      <td>Alameda</td>\n",
       "      <td>6</td>\n",
       "      <td>70</td>\n",
       "      <td>1671</td>\n",
       "      <td>1583</td>\n",
       "      <td>332</td>\n",
       "      <td>35</td>\n",
       "      <td>3697</td>\n",
       "    </tr>\n",
       "    <tr>\n",
       "      <th>1</th>\n",
       "      <td>Alpine</td>\n",
       "      <td>0</td>\n",
       "      <td>0</td>\n",
       "      <td>14</td>\n",
       "      <td>0</td>\n",
       "      <td>0</td>\n",
       "      <td>0</td>\n",
       "      <td>14</td>\n",
       "    </tr>\n",
       "    <tr>\n",
       "      <th>2</th>\n",
       "      <td>Amador</td>\n",
       "      <td>0</td>\n",
       "      <td>0</td>\n",
       "      <td>25</td>\n",
       "      <td>6</td>\n",
       "      <td>8</td>\n",
       "      <td>0</td>\n",
       "      <td>39</td>\n",
       "    </tr>\n",
       "    <tr>\n",
       "      <th>3</th>\n",
       "      <td>Butte</td>\n",
       "      <td>6</td>\n",
       "      <td>0</td>\n",
       "      <td>41</td>\n",
       "      <td>23</td>\n",
       "      <td>24</td>\n",
       "      <td>0</td>\n",
       "      <td>94</td>\n",
       "    </tr>\n",
       "    <tr>\n",
       "      <th>4</th>\n",
       "      <td>Calaveras</td>\n",
       "      <td>0</td>\n",
       "      <td>2</td>\n",
       "      <td>7</td>\n",
       "      <td>0</td>\n",
       "      <td>12</td>\n",
       "      <td>0</td>\n",
       "      <td>21</td>\n",
       "    </tr>\n",
       "    <tr>\n",
       "      <th>5</th>\n",
       "      <td>Colusa</td>\n",
       "      <td>0</td>\n",
       "      <td>0</td>\n",
       "      <td>18</td>\n",
       "      <td>2</td>\n",
       "      <td>18</td>\n",
       "      <td>0</td>\n",
       "      <td>38</td>\n",
       "    </tr>\n",
       "    <tr>\n",
       "      <th>6</th>\n",
       "      <td>Contra Costa</td>\n",
       "      <td>3</td>\n",
       "      <td>2</td>\n",
       "      <td>600</td>\n",
       "      <td>599</td>\n",
       "      <td>245</td>\n",
       "      <td>2</td>\n",
       "      <td>1451</td>\n",
       "    </tr>\n",
       "    <tr>\n",
       "      <th>7</th>\n",
       "      <td>Del Norte</td>\n",
       "      <td>0</td>\n",
       "      <td>0</td>\n",
       "      <td>12</td>\n",
       "      <td>0</td>\n",
       "      <td>17</td>\n",
       "      <td>0</td>\n",
       "      <td>29</td>\n",
       "    </tr>\n",
       "    <tr>\n",
       "      <th>8</th>\n",
       "      <td>El Dorado</td>\n",
       "      <td>1</td>\n",
       "      <td>0</td>\n",
       "      <td>124</td>\n",
       "      <td>5</td>\n",
       "      <td>49</td>\n",
       "      <td>0</td>\n",
       "      <td>179</td>\n",
       "    </tr>\n",
       "    <tr>\n",
       "      <th>9</th>\n",
       "      <td>Fresno</td>\n",
       "      <td>8</td>\n",
       "      <td>1</td>\n",
       "      <td>574</td>\n",
       "      <td>329</td>\n",
       "      <td>208</td>\n",
       "      <td>13</td>\n",
       "      <td>1133</td>\n",
       "    </tr>\n",
       "    <tr>\n",
       "      <th>10</th>\n",
       "      <td>Glenn</td>\n",
       "      <td>0</td>\n",
       "      <td>0</td>\n",
       "      <td>4</td>\n",
       "      <td>0</td>\n",
       "      <td>10</td>\n",
       "      <td>0</td>\n",
       "      <td>14</td>\n",
       "    </tr>\n",
       "    <tr>\n",
       "      <th>11</th>\n",
       "      <td>Humboldt</td>\n",
       "      <td>0</td>\n",
       "      <td>0</td>\n",
       "      <td>116</td>\n",
       "      <td>12</td>\n",
       "      <td>21</td>\n",
       "      <td>1</td>\n",
       "      <td>150</td>\n",
       "    </tr>\n",
       "    <tr>\n",
       "      <th>12</th>\n",
       "      <td>Imperial</td>\n",
       "      <td>0</td>\n",
       "      <td>0</td>\n",
       "      <td>8</td>\n",
       "      <td>11</td>\n",
       "      <td>12</td>\n",
       "      <td>0</td>\n",
       "      <td>31</td>\n",
       "    </tr>\n",
       "    <tr>\n",
       "      <th>13</th>\n",
       "      <td>Inyo</td>\n",
       "      <td>0</td>\n",
       "      <td>0</td>\n",
       "      <td>6</td>\n",
       "      <td>6</td>\n",
       "      <td>29</td>\n",
       "      <td>1</td>\n",
       "      <td>42</td>\n",
       "    </tr>\n",
       "    <tr>\n",
       "      <th>14</th>\n",
       "      <td>Kern</td>\n",
       "      <td>4</td>\n",
       "      <td>1</td>\n",
       "      <td>155</td>\n",
       "      <td>53</td>\n",
       "      <td>199</td>\n",
       "      <td>4</td>\n",
       "      <td>416</td>\n",
       "    </tr>\n",
       "    <tr>\n",
       "      <th>15</th>\n",
       "      <td>Kings</td>\n",
       "      <td>0</td>\n",
       "      <td>0</td>\n",
       "      <td>43</td>\n",
       "      <td>60</td>\n",
       "      <td>101</td>\n",
       "      <td>0</td>\n",
       "      <td>204</td>\n",
       "    </tr>\n",
       "    <tr>\n",
       "      <th>16</th>\n",
       "      <td>Lake</td>\n",
       "      <td>0</td>\n",
       "      <td>0</td>\n",
       "      <td>14</td>\n",
       "      <td>0</td>\n",
       "      <td>0</td>\n",
       "      <td>0</td>\n",
       "      <td>14</td>\n",
       "    </tr>\n",
       "    <tr>\n",
       "      <th>17</th>\n",
       "      <td>Lassen</td>\n",
       "      <td>0</td>\n",
       "      <td>1</td>\n",
       "      <td>4</td>\n",
       "      <td>0</td>\n",
       "      <td>8</td>\n",
       "      <td>0</td>\n",
       "      <td>13</td>\n",
       "    </tr>\n",
       "    <tr>\n",
       "      <th>18</th>\n",
       "      <td>Los Angeles</td>\n",
       "      <td>31</td>\n",
       "      <td>147</td>\n",
       "      <td>7380</td>\n",
       "      <td>12252</td>\n",
       "      <td>1042</td>\n",
       "      <td>98</td>\n",
       "      <td>20950</td>\n",
       "    </tr>\n",
       "    <tr>\n",
       "      <th>19</th>\n",
       "      <td>Madera</td>\n",
       "      <td>0</td>\n",
       "      <td>1</td>\n",
       "      <td>53</td>\n",
       "      <td>17</td>\n",
       "      <td>57</td>\n",
       "      <td>2</td>\n",
       "      <td>130</td>\n",
       "    </tr>\n",
       "    <tr>\n",
       "      <th>20</th>\n",
       "      <td>Marin</td>\n",
       "      <td>1</td>\n",
       "      <td>0</td>\n",
       "      <td>463</td>\n",
       "      <td>187</td>\n",
       "      <td>87</td>\n",
       "      <td>1</td>\n",
       "      <td>739</td>\n",
       "    </tr>\n",
       "    <tr>\n",
       "      <th>21</th>\n",
       "      <td>Mariposa</td>\n",
       "      <td>0</td>\n",
       "      <td>0</td>\n",
       "      <td>14</td>\n",
       "      <td>0</td>\n",
       "      <td>10</td>\n",
       "      <td>0</td>\n",
       "      <td>24</td>\n",
       "    </tr>\n",
       "    <tr>\n",
       "      <th>22</th>\n",
       "      <td>Mendocino</td>\n",
       "      <td>0</td>\n",
       "      <td>0</td>\n",
       "      <td>112</td>\n",
       "      <td>11</td>\n",
       "      <td>37</td>\n",
       "      <td>0</td>\n",
       "      <td>160</td>\n",
       "    </tr>\n",
       "    <tr>\n",
       "      <th>23</th>\n",
       "      <td>Merced</td>\n",
       "      <td>10</td>\n",
       "      <td>2</td>\n",
       "      <td>51</td>\n",
       "      <td>21</td>\n",
       "      <td>39</td>\n",
       "      <td>2</td>\n",
       "      <td>125</td>\n",
       "    </tr>\n",
       "    <tr>\n",
       "      <th>24</th>\n",
       "      <td>Modoc</td>\n",
       "      <td>0</td>\n",
       "      <td>0</td>\n",
       "      <td>4</td>\n",
       "      <td>0</td>\n",
       "      <td>8</td>\n",
       "      <td>0</td>\n",
       "      <td>12</td>\n",
       "    </tr>\n",
       "    <tr>\n",
       "      <th>25</th>\n",
       "      <td>Mono</td>\n",
       "      <td>0</td>\n",
       "      <td>0</td>\n",
       "      <td>20</td>\n",
       "      <td>0</td>\n",
       "      <td>12</td>\n",
       "      <td>0</td>\n",
       "      <td>32</td>\n",
       "    </tr>\n",
       "    <tr>\n",
       "      <th>26</th>\n",
       "      <td>Monterey</td>\n",
       "      <td>4</td>\n",
       "      <td>0</td>\n",
       "      <td>242</td>\n",
       "      <td>78</td>\n",
       "      <td>127</td>\n",
       "      <td>1</td>\n",
       "      <td>452</td>\n",
       "    </tr>\n",
       "    <tr>\n",
       "      <th>27</th>\n",
       "      <td>Napa</td>\n",
       "      <td>0</td>\n",
       "      <td>0</td>\n",
       "      <td>316</td>\n",
       "      <td>33</td>\n",
       "      <td>43</td>\n",
       "      <td>1</td>\n",
       "      <td>393</td>\n",
       "    </tr>\n",
       "    <tr>\n",
       "      <th>28</th>\n",
       "      <td>Nevada</td>\n",
       "      <td>0</td>\n",
       "      <td>1</td>\n",
       "      <td>65</td>\n",
       "      <td>5</td>\n",
       "      <td>45</td>\n",
       "      <td>0</td>\n",
       "      <td>116</td>\n",
       "    </tr>\n",
       "    <tr>\n",
       "      <th>29</th>\n",
       "      <td>Orange</td>\n",
       "      <td>4</td>\n",
       "      <td>0</td>\n",
       "      <td>2714</td>\n",
       "      <td>2581</td>\n",
       "      <td>533</td>\n",
       "      <td>20</td>\n",
       "      <td>5852</td>\n",
       "    </tr>\n",
       "    <tr>\n",
       "      <th>30</th>\n",
       "      <td>Placer</td>\n",
       "      <td>0</td>\n",
       "      <td>1</td>\n",
       "      <td>196</td>\n",
       "      <td>106</td>\n",
       "      <td>115</td>\n",
       "      <td>1</td>\n",
       "      <td>419</td>\n",
       "    </tr>\n",
       "    <tr>\n",
       "      <th>31</th>\n",
       "      <td>Plumas</td>\n",
       "      <td>0</td>\n",
       "      <td>0</td>\n",
       "      <td>7</td>\n",
       "      <td>0</td>\n",
       "      <td>0</td>\n",
       "      <td>0</td>\n",
       "      <td>7</td>\n",
       "    </tr>\n",
       "    <tr>\n",
       "      <th>32</th>\n",
       "      <td>Riverside</td>\n",
       "      <td>3</td>\n",
       "      <td>1</td>\n",
       "      <td>981</td>\n",
       "      <td>186</td>\n",
       "      <td>367</td>\n",
       "      <td>10</td>\n",
       "      <td>1548</td>\n",
       "    </tr>\n",
       "    <tr>\n",
       "      <th>33</th>\n",
       "      <td>Sacramento</td>\n",
       "      <td>69</td>\n",
       "      <td>18</td>\n",
       "      <td>825</td>\n",
       "      <td>639</td>\n",
       "      <td>256</td>\n",
       "      <td>6</td>\n",
       "      <td>1813</td>\n",
       "    </tr>\n",
       "    <tr>\n",
       "      <th>34</th>\n",
       "      <td>San Benito</td>\n",
       "      <td>0</td>\n",
       "      <td>0</td>\n",
       "      <td>12</td>\n",
       "      <td>10</td>\n",
       "      <td>25</td>\n",
       "      <td>0</td>\n",
       "      <td>47</td>\n",
       "    </tr>\n",
       "    <tr>\n",
       "      <th>35</th>\n",
       "      <td>San Bernardino</td>\n",
       "      <td>3</td>\n",
       "      <td>11</td>\n",
       "      <td>604</td>\n",
       "      <td>373</td>\n",
       "      <td>344</td>\n",
       "      <td>32</td>\n",
       "      <td>1367</td>\n",
       "    </tr>\n",
       "    <tr>\n",
       "      <th>36</th>\n",
       "      <td>San Diego</td>\n",
       "      <td>2</td>\n",
       "      <td>17</td>\n",
       "      <td>1984</td>\n",
       "      <td>7649</td>\n",
       "      <td>379</td>\n",
       "      <td>49</td>\n",
       "      <td>10080</td>\n",
       "    </tr>\n",
       "    <tr>\n",
       "      <th>37</th>\n",
       "      <td>San Francisco</td>\n",
       "      <td>36</td>\n",
       "      <td>6</td>\n",
       "      <td>688</td>\n",
       "      <td>772</td>\n",
       "      <td>104</td>\n",
       "      <td>24</td>\n",
       "      <td>1630</td>\n",
       "    </tr>\n",
       "    <tr>\n",
       "      <th>38</th>\n",
       "      <td>San Joaquin</td>\n",
       "      <td>0</td>\n",
       "      <td>0</td>\n",
       "      <td>158</td>\n",
       "      <td>191</td>\n",
       "      <td>83</td>\n",
       "      <td>10</td>\n",
       "      <td>442</td>\n",
       "    </tr>\n",
       "    <tr>\n",
       "      <th>39</th>\n",
       "      <td>San Luis Obispo</td>\n",
       "      <td>0</td>\n",
       "      <td>1</td>\n",
       "      <td>338</td>\n",
       "      <td>98</td>\n",
       "      <td>128</td>\n",
       "      <td>1</td>\n",
       "      <td>566</td>\n",
       "    </tr>\n",
       "    <tr>\n",
       "      <th>40</th>\n",
       "      <td>San Mateo</td>\n",
       "      <td>2</td>\n",
       "      <td>36</td>\n",
       "      <td>2112</td>\n",
       "      <td>2054</td>\n",
       "      <td>281</td>\n",
       "      <td>26</td>\n",
       "      <td>4511</td>\n",
       "    </tr>\n",
       "    <tr>\n",
       "      <th>41</th>\n",
       "      <td>Santa Barbara</td>\n",
       "      <td>4</td>\n",
       "      <td>2</td>\n",
       "      <td>328</td>\n",
       "      <td>157</td>\n",
       "      <td>64</td>\n",
       "      <td>2</td>\n",
       "      <td>557</td>\n",
       "    </tr>\n",
       "    <tr>\n",
       "      <th>42</th>\n",
       "      <td>Santa Clara</td>\n",
       "      <td>3</td>\n",
       "      <td>75</td>\n",
       "      <td>3849</td>\n",
       "      <td>11440</td>\n",
       "      <td>565</td>\n",
       "      <td>55</td>\n",
       "      <td>15987</td>\n",
       "    </tr>\n",
       "    <tr>\n",
       "      <th>43</th>\n",
       "      <td>Santa Cruz</td>\n",
       "      <td>1</td>\n",
       "      <td>0</td>\n",
       "      <td>166</td>\n",
       "      <td>78</td>\n",
       "      <td>62</td>\n",
       "      <td>0</td>\n",
       "      <td>307</td>\n",
       "    </tr>\n",
       "    <tr>\n",
       "      <th>44</th>\n",
       "      <td>Shasta</td>\n",
       "      <td>0</td>\n",
       "      <td>0</td>\n",
       "      <td>38</td>\n",
       "      <td>38</td>\n",
       "      <td>7</td>\n",
       "      <td>3</td>\n",
       "      <td>86</td>\n",
       "    </tr>\n",
       "    <tr>\n",
       "      <th>45</th>\n",
       "      <td>Sierra</td>\n",
       "      <td>0</td>\n",
       "      <td>0</td>\n",
       "      <td>1</td>\n",
       "      <td>0</td>\n",
       "      <td>0</td>\n",
       "      <td>0</td>\n",
       "      <td>1</td>\n",
       "    </tr>\n",
       "    <tr>\n",
       "      <th>46</th>\n",
       "      <td>Siskiyou</td>\n",
       "      <td>0</td>\n",
       "      <td>1</td>\n",
       "      <td>24</td>\n",
       "      <td>4</td>\n",
       "      <td>43</td>\n",
       "      <td>0</td>\n",
       "      <td>72</td>\n",
       "    </tr>\n",
       "    <tr>\n",
       "      <th>47</th>\n",
       "      <td>Solano</td>\n",
       "      <td>5</td>\n",
       "      <td>0</td>\n",
       "      <td>250</td>\n",
       "      <td>126</td>\n",
       "      <td>85</td>\n",
       "      <td>5</td>\n",
       "      <td>471</td>\n",
       "    </tr>\n",
       "    <tr>\n",
       "      <th>48</th>\n",
       "      <td>Sonoma</td>\n",
       "      <td>4</td>\n",
       "      <td>0</td>\n",
       "      <td>434</td>\n",
       "      <td>228</td>\n",
       "      <td>113</td>\n",
       "      <td>15</td>\n",
       "      <td>794</td>\n",
       "    </tr>\n",
       "    <tr>\n",
       "      <th>49</th>\n",
       "      <td>Stanislaus</td>\n",
       "      <td>1</td>\n",
       "      <td>1</td>\n",
       "      <td>57</td>\n",
       "      <td>35</td>\n",
       "      <td>44</td>\n",
       "      <td>13</td>\n",
       "      <td>151</td>\n",
       "    </tr>\n",
       "    <tr>\n",
       "      <th>50</th>\n",
       "      <td>Sutter</td>\n",
       "      <td>0</td>\n",
       "      <td>0</td>\n",
       "      <td>5</td>\n",
       "      <td>6</td>\n",
       "      <td>16</td>\n",
       "      <td>0</td>\n",
       "      <td>27</td>\n",
       "    </tr>\n",
       "    <tr>\n",
       "      <th>51</th>\n",
       "      <td>Tehama</td>\n",
       "      <td>0</td>\n",
       "      <td>0</td>\n",
       "      <td>11</td>\n",
       "      <td>4</td>\n",
       "      <td>20</td>\n",
       "      <td>0</td>\n",
       "      <td>35</td>\n",
       "    </tr>\n",
       "    <tr>\n",
       "      <th>52</th>\n",
       "      <td>Trinity</td>\n",
       "      <td>0</td>\n",
       "      <td>0</td>\n",
       "      <td>4</td>\n",
       "      <td>0</td>\n",
       "      <td>2</td>\n",
       "      <td>0</td>\n",
       "      <td>6</td>\n",
       "    </tr>\n",
       "    <tr>\n",
       "      <th>53</th>\n",
       "      <td>Tulare</td>\n",
       "      <td>0</td>\n",
       "      <td>3</td>\n",
       "      <td>42</td>\n",
       "      <td>11</td>\n",
       "      <td>45</td>\n",
       "      <td>22</td>\n",
       "      <td>123</td>\n",
       "    </tr>\n",
       "    <tr>\n",
       "      <th>54</th>\n",
       "      <td>Tuolumne</td>\n",
       "      <td>0</td>\n",
       "      <td>0</td>\n",
       "      <td>34</td>\n",
       "      <td>6</td>\n",
       "      <td>38</td>\n",
       "      <td>0</td>\n",
       "      <td>78</td>\n",
       "    </tr>\n",
       "    <tr>\n",
       "      <th>55</th>\n",
       "      <td>Unknown</td>\n",
       "      <td>0</td>\n",
       "      <td>0</td>\n",
       "      <td>0</td>\n",
       "      <td>14</td>\n",
       "      <td>0</td>\n",
       "      <td>0</td>\n",
       "      <td>14</td>\n",
       "    </tr>\n",
       "    <tr>\n",
       "      <th>56</th>\n",
       "      <td>Ventura</td>\n",
       "      <td>5</td>\n",
       "      <td>0</td>\n",
       "      <td>423</td>\n",
       "      <td>332</td>\n",
       "      <td>126</td>\n",
       "      <td>8</td>\n",
       "      <td>894</td>\n",
       "    </tr>\n",
       "    <tr>\n",
       "      <th>57</th>\n",
       "      <td>Yolo</td>\n",
       "      <td>12</td>\n",
       "      <td>0</td>\n",
       "      <td>205</td>\n",
       "      <td>127</td>\n",
       "      <td>50</td>\n",
       "      <td>0</td>\n",
       "      <td>394</td>\n",
       "    </tr>\n",
       "    <tr>\n",
       "      <th>58</th>\n",
       "      <td>Yuba</td>\n",
       "      <td>0</td>\n",
       "      <td>0</td>\n",
       "      <td>25</td>\n",
       "      <td>7</td>\n",
       "      <td>0</td>\n",
       "      <td>0</td>\n",
       "      <td>32</td>\n",
       "    </tr>\n",
       "    <tr>\n",
       "      <th>59</th>\n",
       "      <td>Total</td>\n",
       "      <td>228</td>\n",
       "      <td>401</td>\n",
       "      <td>28671</td>\n",
       "      <td>42565</td>\n",
       "      <td>6695</td>\n",
       "      <td>463</td>\n",
       "      <td>79023</td>\n",
       "    </tr>\n",
       "  </tbody>\n",
       "</table>\n",
       "</div>"
      ],
      "text/plain": [
       "             County  Public Level 1  Shared Private Level 1  Public Level 2  \\\n",
       "0           Alameda               6                      70            1671   \n",
       "1            Alpine               0                       0              14   \n",
       "2            Amador               0                       0              25   \n",
       "3             Butte               6                       0              41   \n",
       "4         Calaveras               0                       2               7   \n",
       "5            Colusa               0                       0              18   \n",
       "6      Contra Costa               3                       2             600   \n",
       "7         Del Norte               0                       0              12   \n",
       "8         El Dorado               1                       0             124   \n",
       "9            Fresno               8                       1             574   \n",
       "10            Glenn               0                       0               4   \n",
       "11         Humboldt               0                       0             116   \n",
       "12         Imperial               0                       0               8   \n",
       "13             Inyo               0                       0               6   \n",
       "14             Kern               4                       1             155   \n",
       "15            Kings               0                       0              43   \n",
       "16             Lake               0                       0              14   \n",
       "17           Lassen               0                       1               4   \n",
       "18      Los Angeles              31                     147            7380   \n",
       "19           Madera               0                       1              53   \n",
       "20            Marin               1                       0             463   \n",
       "21         Mariposa               0                       0              14   \n",
       "22        Mendocino               0                       0             112   \n",
       "23           Merced              10                       2              51   \n",
       "24            Modoc               0                       0               4   \n",
       "25             Mono               0                       0              20   \n",
       "26         Monterey               4                       0             242   \n",
       "27             Napa               0                       0             316   \n",
       "28           Nevada               0                       1              65   \n",
       "29           Orange               4                       0            2714   \n",
       "30           Placer               0                       1             196   \n",
       "31           Plumas               0                       0               7   \n",
       "32        Riverside               3                       1             981   \n",
       "33       Sacramento              69                      18             825   \n",
       "34       San Benito               0                       0              12   \n",
       "35   San Bernardino               3                      11             604   \n",
       "36        San Diego               2                      17            1984   \n",
       "37    San Francisco              36                       6             688   \n",
       "38      San Joaquin               0                       0             158   \n",
       "39  San Luis Obispo               0                       1             338   \n",
       "40        San Mateo               2                      36            2112   \n",
       "41    Santa Barbara               4                       2             328   \n",
       "42      Santa Clara               3                      75            3849   \n",
       "43       Santa Cruz               1                       0             166   \n",
       "44           Shasta               0                       0              38   \n",
       "45           Sierra               0                       0               1   \n",
       "46         Siskiyou               0                       1              24   \n",
       "47           Solano               5                       0             250   \n",
       "48           Sonoma               4                       0             434   \n",
       "49       Stanislaus               1                       1              57   \n",
       "50           Sutter               0                       0               5   \n",
       "51           Tehama               0                       0              11   \n",
       "52          Trinity               0                       0               4   \n",
       "53           Tulare               0                       3              42   \n",
       "54         Tuolumne               0                       0              34   \n",
       "55          Unknown               0                       0               0   \n",
       "56          Ventura               5                       0             423   \n",
       "57             Yolo              12                       0             205   \n",
       "58             Yuba               0                       0              25   \n",
       "59            Total             228                     401           28671   \n",
       "\n",
       "    Shared Private Level 2  Public DC Fast  Shared Private DC Fast  Total  \n",
       "0                     1583             332                      35   3697  \n",
       "1                        0               0                       0     14  \n",
       "2                        6               8                       0     39  \n",
       "3                       23              24                       0     94  \n",
       "4                        0              12                       0     21  \n",
       "5                        2              18                       0     38  \n",
       "6                      599             245                       2   1451  \n",
       "7                        0              17                       0     29  \n",
       "8                        5              49                       0    179  \n",
       "9                      329             208                      13   1133  \n",
       "10                       0              10                       0     14  \n",
       "11                      12              21                       1    150  \n",
       "12                      11              12                       0     31  \n",
       "13                       6              29                       1     42  \n",
       "14                      53             199                       4    416  \n",
       "15                      60             101                       0    204  \n",
       "16                       0               0                       0     14  \n",
       "17                       0               8                       0     13  \n",
       "18                   12252            1042                      98  20950  \n",
       "19                      17              57                       2    130  \n",
       "20                     187              87                       1    739  \n",
       "21                       0              10                       0     24  \n",
       "22                      11              37                       0    160  \n",
       "23                      21              39                       2    125  \n",
       "24                       0               8                       0     12  \n",
       "25                       0              12                       0     32  \n",
       "26                      78             127                       1    452  \n",
       "27                      33              43                       1    393  \n",
       "28                       5              45                       0    116  \n",
       "29                    2581             533                      20   5852  \n",
       "30                     106             115                       1    419  \n",
       "31                       0               0                       0      7  \n",
       "32                     186             367                      10   1548  \n",
       "33                     639             256                       6   1813  \n",
       "34                      10              25                       0     47  \n",
       "35                     373             344                      32   1367  \n",
       "36                    7649             379                      49  10080  \n",
       "37                     772             104                      24   1630  \n",
       "38                     191              83                      10    442  \n",
       "39                      98             128                       1    566  \n",
       "40                    2054             281                      26   4511  \n",
       "41                     157              64                       2    557  \n",
       "42                   11440             565                      55  15987  \n",
       "43                      78              62                       0    307  \n",
       "44                      38               7                       3     86  \n",
       "45                       0               0                       0      1  \n",
       "46                       4              43                       0     72  \n",
       "47                     126              85                       5    471  \n",
       "48                     228             113                      15    794  \n",
       "49                      35              44                      13    151  \n",
       "50                       6              16                       0     27  \n",
       "51                       4              20                       0     35  \n",
       "52                       0               2                       0      6  \n",
       "53                      11              45                      22    123  \n",
       "54                       6              38                       0     78  \n",
       "55                      14               0                       0     14  \n",
       "56                     332             126                       8    894  \n",
       "57                     127              50                       0    394  \n",
       "58                       7               0                       0     32  \n",
       "59                   42565            6695                     463  79023  "
      ]
     },
     "execution_count": 15,
     "metadata": {},
     "output_type": "execute_result"
    }
   ],
   "source": [
    "ev_chargers = pd.read_csv(\"EV Chargers_Last updated 01-31-2022.csv\")\n",
    "ev_chargers"
   ]
  },
  {
   "cell_type": "code",
   "execution_count": 124,
   "id": "9542521d",
   "metadata": {
    "scrolled": true
   },
   "outputs": [
    {
     "data": {
      "text/html": [
       "<div>\n",
       "<style scoped>\n",
       "    .dataframe tbody tr th:only-of-type {\n",
       "        vertical-align: middle;\n",
       "    }\n",
       "\n",
       "    .dataframe tbody tr th {\n",
       "        vertical-align: top;\n",
       "    }\n",
       "\n",
       "    .dataframe thead th {\n",
       "        text-align: right;\n",
       "    }\n",
       "</style>\n",
       "<table border=\"1\" class=\"dataframe\">\n",
       "  <thead>\n",
       "    <tr style=\"text-align: right;\">\n",
       "      <th></th>\n",
       "      <th>County</th>\n",
       "      <th>Public Level 1</th>\n",
       "      <th>Shared Private Level 1</th>\n",
       "      <th>Public Level 2</th>\n",
       "      <th>Shared Private Level 2</th>\n",
       "      <th>Public DC Fast</th>\n",
       "      <th>Shared Private DC Fast</th>\n",
       "    </tr>\n",
       "  </thead>\n",
       "  <tbody>\n",
       "    <tr>\n",
       "      <th>0</th>\n",
       "      <td>Alameda</td>\n",
       "      <td>6</td>\n",
       "      <td>70</td>\n",
       "      <td>1671</td>\n",
       "      <td>1583</td>\n",
       "      <td>332</td>\n",
       "      <td>35</td>\n",
       "    </tr>\n",
       "    <tr>\n",
       "      <th>1</th>\n",
       "      <td>Alpine</td>\n",
       "      <td>0</td>\n",
       "      <td>0</td>\n",
       "      <td>14</td>\n",
       "      <td>0</td>\n",
       "      <td>0</td>\n",
       "      <td>0</td>\n",
       "    </tr>\n",
       "    <tr>\n",
       "      <th>2</th>\n",
       "      <td>Amador</td>\n",
       "      <td>0</td>\n",
       "      <td>0</td>\n",
       "      <td>25</td>\n",
       "      <td>6</td>\n",
       "      <td>8</td>\n",
       "      <td>0</td>\n",
       "    </tr>\n",
       "    <tr>\n",
       "      <th>3</th>\n",
       "      <td>Butte</td>\n",
       "      <td>6</td>\n",
       "      <td>0</td>\n",
       "      <td>41</td>\n",
       "      <td>23</td>\n",
       "      <td>24</td>\n",
       "      <td>0</td>\n",
       "    </tr>\n",
       "    <tr>\n",
       "      <th>4</th>\n",
       "      <td>Calaveras</td>\n",
       "      <td>0</td>\n",
       "      <td>2</td>\n",
       "      <td>7</td>\n",
       "      <td>0</td>\n",
       "      <td>12</td>\n",
       "      <td>0</td>\n",
       "    </tr>\n",
       "  </tbody>\n",
       "</table>\n",
       "</div>"
      ],
      "text/plain": [
       "      County  Public Level 1  Shared Private Level 1  Public Level 2  \\\n",
       "0    Alameda               6                      70            1671   \n",
       "1     Alpine               0                       0              14   \n",
       "2     Amador               0                       0              25   \n",
       "3      Butte               6                       0              41   \n",
       "4  Calaveras               0                       2               7   \n",
       "\n",
       "   Shared Private Level 2  Public DC Fast  Shared Private DC Fast  \n",
       "0                    1583             332                      35  \n",
       "1                       0               0                       0  \n",
       "2                       6               8                       0  \n",
       "3                      23              24                       0  \n",
       "4                       0              12                       0  "
      ]
     },
     "execution_count": 124,
     "metadata": {},
     "output_type": "execute_result"
    }
   ],
   "source": [
    "ev_chargers2 = ev_chargers.drop('Total', axis=1)\n",
    "ev_chargers2.head()"
   ]
  },
  {
   "cell_type": "code",
   "execution_count": 126,
   "id": "936ee329",
   "metadata": {
    "scrolled": false
   },
   "outputs": [
    {
     "data": {
      "text/html": [
       "<div>\n",
       "<style scoped>\n",
       "    .dataframe tbody tr th:only-of-type {\n",
       "        vertical-align: middle;\n",
       "    }\n",
       "\n",
       "    .dataframe tbody tr th {\n",
       "        vertical-align: top;\n",
       "    }\n",
       "\n",
       "    .dataframe thead th {\n",
       "        text-align: right;\n",
       "    }\n",
       "</style>\n",
       "<table border=\"1\" class=\"dataframe\">\n",
       "  <thead>\n",
       "    <tr style=\"text-align: right;\">\n",
       "      <th></th>\n",
       "      <th>County</th>\n",
       "      <th>Public Level 1</th>\n",
       "      <th>Shared Private Level 1</th>\n",
       "      <th>Public Level 2</th>\n",
       "      <th>Shared Private Level 2</th>\n",
       "      <th>Public DC Fast</th>\n",
       "      <th>Shared Private DC Fast</th>\n",
       "      <th>Public Chargers</th>\n",
       "      <th>Private Chargers</th>\n",
       "    </tr>\n",
       "  </thead>\n",
       "  <tbody>\n",
       "    <tr>\n",
       "      <th>54</th>\n",
       "      <td>Tuolumne</td>\n",
       "      <td>0</td>\n",
       "      <td>0</td>\n",
       "      <td>34</td>\n",
       "      <td>6</td>\n",
       "      <td>38</td>\n",
       "      <td>0</td>\n",
       "      <td>72</td>\n",
       "      <td>6</td>\n",
       "    </tr>\n",
       "    <tr>\n",
       "      <th>55</th>\n",
       "      <td>Unknown</td>\n",
       "      <td>0</td>\n",
       "      <td>0</td>\n",
       "      <td>0</td>\n",
       "      <td>14</td>\n",
       "      <td>0</td>\n",
       "      <td>0</td>\n",
       "      <td>0</td>\n",
       "      <td>14</td>\n",
       "    </tr>\n",
       "    <tr>\n",
       "      <th>56</th>\n",
       "      <td>Ventura</td>\n",
       "      <td>5</td>\n",
       "      <td>0</td>\n",
       "      <td>423</td>\n",
       "      <td>332</td>\n",
       "      <td>126</td>\n",
       "      <td>8</td>\n",
       "      <td>554</td>\n",
       "      <td>340</td>\n",
       "    </tr>\n",
       "    <tr>\n",
       "      <th>57</th>\n",
       "      <td>Yolo</td>\n",
       "      <td>12</td>\n",
       "      <td>0</td>\n",
       "      <td>205</td>\n",
       "      <td>127</td>\n",
       "      <td>50</td>\n",
       "      <td>0</td>\n",
       "      <td>267</td>\n",
       "      <td>127</td>\n",
       "    </tr>\n",
       "    <tr>\n",
       "      <th>58</th>\n",
       "      <td>Yuba</td>\n",
       "      <td>0</td>\n",
       "      <td>0</td>\n",
       "      <td>25</td>\n",
       "      <td>7</td>\n",
       "      <td>0</td>\n",
       "      <td>0</td>\n",
       "      <td>25</td>\n",
       "      <td>7</td>\n",
       "    </tr>\n",
       "  </tbody>\n",
       "</table>\n",
       "</div>"
      ],
      "text/plain": [
       "      County  Public Level 1  Shared Private Level 1  Public Level 2  \\\n",
       "54  Tuolumne               0                       0              34   \n",
       "55   Unknown               0                       0               0   \n",
       "56   Ventura               5                       0             423   \n",
       "57      Yolo              12                       0             205   \n",
       "58      Yuba               0                       0              25   \n",
       "\n",
       "    Shared Private Level 2  Public DC Fast  Shared Private DC Fast  \\\n",
       "54                       6              38                       0   \n",
       "55                      14               0                       0   \n",
       "56                     332             126                       8   \n",
       "57                     127              50                       0   \n",
       "58                       7               0                       0   \n",
       "\n",
       "    Public Chargers  Private Chargers  \n",
       "54               72                 6  \n",
       "55                0                14  \n",
       "56              554               340  \n",
       "57              267               127  \n",
       "58               25                 7  "
      ]
     },
     "execution_count": 126,
     "metadata": {},
     "output_type": "execute_result"
    }
   ],
   "source": [
    "ev_chargers2 = ev_chargers.drop('Total', axis=1)\n",
    "ev_chargers2[\"Public Chargers\"] = (ev_chargers2[\"Public Level 1\"] + ev_chargers2[\"Public Level 2\"] + \n",
    "                                   ev_chargers2[\"Public DC Fast\"])\n",
    "ev_chargers2[\"Private Chargers\"] = (ev_chargers2[\"Shared Private Level 1\"] + ev_chargers2[\"Shared Private Level 2\"] + \n",
    "                                   ev_chargers2[\"Shared Private DC Fast\"])\n",
    "ev_chargers2 = ev_chargers2.drop([59])\n",
    "ev_chargers2.tail()"
   ]
  },
  {
   "cell_type": "code",
   "execution_count": 128,
   "id": "af9289ab",
   "metadata": {
    "scrolled": true
   },
   "outputs": [
    {
     "data": {
      "text/html": [
       "<div>\n",
       "<style scoped>\n",
       "    .dataframe tbody tr th:only-of-type {\n",
       "        vertical-align: middle;\n",
       "    }\n",
       "\n",
       "    .dataframe tbody tr th {\n",
       "        vertical-align: top;\n",
       "    }\n",
       "\n",
       "    .dataframe thead th {\n",
       "        text-align: right;\n",
       "    }\n",
       "</style>\n",
       "<table border=\"1\" class=\"dataframe\">\n",
       "  <thead>\n",
       "    <tr style=\"text-align: right;\">\n",
       "      <th></th>\n",
       "      <th>County</th>\n",
       "      <th>variable</th>\n",
       "      <th>value</th>\n",
       "    </tr>\n",
       "  </thead>\n",
       "  <tbody>\n",
       "    <tr>\n",
       "      <th>0</th>\n",
       "      <td>Alameda</td>\n",
       "      <td>Public Level 1</td>\n",
       "      <td>6</td>\n",
       "    </tr>\n",
       "    <tr>\n",
       "      <th>1</th>\n",
       "      <td>Alpine</td>\n",
       "      <td>Public Level 1</td>\n",
       "      <td>0</td>\n",
       "    </tr>\n",
       "    <tr>\n",
       "      <th>2</th>\n",
       "      <td>Amador</td>\n",
       "      <td>Public Level 1</td>\n",
       "      <td>0</td>\n",
       "    </tr>\n",
       "    <tr>\n",
       "      <th>3</th>\n",
       "      <td>Butte</td>\n",
       "      <td>Public Level 1</td>\n",
       "      <td>6</td>\n",
       "    </tr>\n",
       "    <tr>\n",
       "      <th>4</th>\n",
       "      <td>Calaveras</td>\n",
       "      <td>Public Level 1</td>\n",
       "      <td>0</td>\n",
       "    </tr>\n",
       "    <tr>\n",
       "      <th>...</th>\n",
       "      <td>...</td>\n",
       "      <td>...</td>\n",
       "      <td>...</td>\n",
       "    </tr>\n",
       "    <tr>\n",
       "      <th>349</th>\n",
       "      <td>Tuolumne</td>\n",
       "      <td>Shared Private DC Fast</td>\n",
       "      <td>0</td>\n",
       "    </tr>\n",
       "    <tr>\n",
       "      <th>350</th>\n",
       "      <td>Unknown</td>\n",
       "      <td>Shared Private DC Fast</td>\n",
       "      <td>0</td>\n",
       "    </tr>\n",
       "    <tr>\n",
       "      <th>351</th>\n",
       "      <td>Ventura</td>\n",
       "      <td>Shared Private DC Fast</td>\n",
       "      <td>8</td>\n",
       "    </tr>\n",
       "    <tr>\n",
       "      <th>352</th>\n",
       "      <td>Yolo</td>\n",
       "      <td>Shared Private DC Fast</td>\n",
       "      <td>0</td>\n",
       "    </tr>\n",
       "    <tr>\n",
       "      <th>353</th>\n",
       "      <td>Yuba</td>\n",
       "      <td>Shared Private DC Fast</td>\n",
       "      <td>0</td>\n",
       "    </tr>\n",
       "  </tbody>\n",
       "</table>\n",
       "<p>354 rows × 3 columns</p>\n",
       "</div>"
      ],
      "text/plain": [
       "        County                variable  value\n",
       "0      Alameda          Public Level 1      6\n",
       "1       Alpine          Public Level 1      0\n",
       "2       Amador          Public Level 1      0\n",
       "3        Butte          Public Level 1      6\n",
       "4    Calaveras          Public Level 1      0\n",
       "..         ...                     ...    ...\n",
       "349   Tuolumne  Shared Private DC Fast      0\n",
       "350    Unknown  Shared Private DC Fast      0\n",
       "351    Ventura  Shared Private DC Fast      8\n",
       "352       Yolo  Shared Private DC Fast      0\n",
       "353       Yuba  Shared Private DC Fast      0\n",
       "\n",
       "[354 rows x 3 columns]"
      ]
     },
     "execution_count": 128,
     "metadata": {},
     "output_type": "execute_result"
    }
   ],
   "source": [
    "charger_list = list(ev_chargers2) \n",
    "charger_list.remove('County')\n",
    "charger_list.remove('Public Chargers')\n",
    "charger_list.remove('Private Chargers')\n",
    "\n",
    "ev_df = pd.DataFrame()\n",
    "for i in range(len(charger_list)):\n",
    "    placeholder = pd.melt(ev_chargers2, id_vars = ['County'], value_vars = [charger_list[i]])\n",
    "    ev_df = pd.concat([ev_df, placeholder], ignore_index = True)\n",
    "    \n",
    "ev_df"
   ]
  },
  {
   "cell_type": "code",
   "execution_count": 76,
   "id": "24ad2c4d",
   "metadata": {
    "scrolled": true
   },
   "outputs": [
    {
     "data": {
      "image/png": "[encoded data removed]",
      "text/plain": [
       "<Figure size 640x480 with 7 Axes>"
      ]
     },
     "metadata": {},
     "output_type": "display_data"
    },
    {
     "data": {
      "text/plain": [
       "<ggplot: (93582601670)>"
      ]
     },
     "execution_count": 76,
     "metadata": {},
     "output_type": "execute_result"
    }
   ],
   "source": [
    "(p9.ggplot(ev_df, p9.aes(x = 'County', y = 'value')) \n",
    "+ p9.geom_col() \n",
    "+ p9.labs(title = \"EV Chargers per County\", x = \"County\", y = \"Count\")\n",
    "+ theme(axis_text_x=element_text(rotation=45, hjust = 1))\n",
    "+ p9.facet_wrap('~variable'))"
   ]
  },
  {
   "cell_type": "code",
   "execution_count": 89,
   "id": "68476046",
   "metadata": {},
   "outputs": [],
   "source": [
    "import plotly.express as px"
   ]
  },
  {
   "cell_type": "code",
   "execution_count": 141,
   "id": "8d6bc15a",
   "metadata": {
    "scrolled": true
   },
   "outputs": [
    {
     "data": {
      "text/html": [
       "<div>\n",
       "<style scoped>\n",
       "    .dataframe tbody tr th:only-of-type {\n",
       "        vertical-align: middle;\n",
       "    }\n",
       "\n",
       "    .dataframe tbody tr th {\n",
       "        vertical-align: top;\n",
       "    }\n",
       "\n",
       "    .dataframe thead th {\n",
       "        text-align: right;\n",
       "    }\n",
       "</style>\n",
       "<table border=\"1\" class=\"dataframe\">\n",
       "  <thead>\n",
       "    <tr style=\"text-align: right;\">\n",
       "      <th></th>\n",
       "      <th>County</th>\n",
       "      <th>Public Level 1</th>\n",
       "      <th>Public Level 2</th>\n",
       "      <th>Public DC Fast</th>\n",
       "      <th>Public Chargers</th>\n",
       "    </tr>\n",
       "  </thead>\n",
       "  <tbody>\n",
       "    <tr>\n",
       "      <th>54</th>\n",
       "      <td>Tuolumne</td>\n",
       "      <td>0</td>\n",
       "      <td>34</td>\n",
       "      <td>38</td>\n",
       "      <td>72</td>\n",
       "    </tr>\n",
       "    <tr>\n",
       "      <th>55</th>\n",
       "      <td>Unknown</td>\n",
       "      <td>0</td>\n",
       "      <td>0</td>\n",
       "      <td>0</td>\n",
       "      <td>0</td>\n",
       "    </tr>\n",
       "    <tr>\n",
       "      <th>56</th>\n",
       "      <td>Ventura</td>\n",
       "      <td>5</td>\n",
       "      <td>423</td>\n",
       "      <td>126</td>\n",
       "      <td>554</td>\n",
       "    </tr>\n",
       "    <tr>\n",
       "      <th>57</th>\n",
       "      <td>Yolo</td>\n",
       "      <td>12</td>\n",
       "      <td>205</td>\n",
       "      <td>50</td>\n",
       "      <td>267</td>\n",
       "    </tr>\n",
       "    <tr>\n",
       "      <th>58</th>\n",
       "      <td>Yuba</td>\n",
       "      <td>0</td>\n",
       "      <td>25</td>\n",
       "      <td>0</td>\n",
       "      <td>25</td>\n",
       "    </tr>\n",
       "  </tbody>\n",
       "</table>\n",
       "</div>"
      ],
      "text/plain": [
       "      County  Public Level 1  Public Level 2  Public DC Fast  Public Chargers\n",
       "54  Tuolumne               0              34              38               72\n",
       "55   Unknown               0               0               0                0\n",
       "56   Ventura               5             423             126              554\n",
       "57      Yolo              12             205              50              267\n",
       "58      Yuba               0              25               0               25"
      ]
     },
     "execution_count": 141,
     "metadata": {},
     "output_type": "execute_result"
    }
   ],
   "source": [
    "ev_pub = ev_chargers2[[\"County\",\"Public Level 1\", \"Public Level 2\", \"Public DC Fast\", \"Public Chargers\"]]\n",
    "ev_pub.tail()"
   ]
  },
  {
   "cell_type": "code",
   "execution_count": 142,
   "id": "d5dd0cbb",
   "metadata": {},
   "outputs": [
    {
     "data": {
      "text/html": [
       "<div>\n",
       "<style scoped>\n",
       "    .dataframe tbody tr th:only-of-type {\n",
       "        vertical-align: middle;\n",
       "    }\n",
       "\n",
       "    .dataframe tbody tr th {\n",
       "        vertical-align: top;\n",
       "    }\n",
       "\n",
       "    .dataframe thead th {\n",
       "        text-align: right;\n",
       "    }\n",
       "</style>\n",
       "<table border=\"1\" class=\"dataframe\">\n",
       "  <thead>\n",
       "    <tr style=\"text-align: right;\">\n",
       "      <th></th>\n",
       "      <th>County</th>\n",
       "      <th>Shared Private Level 1</th>\n",
       "      <th>Shared Private Level 2</th>\n",
       "      <th>Shared Private DC Fast</th>\n",
       "      <th>Private Chargers</th>\n",
       "    </tr>\n",
       "  </thead>\n",
       "  <tbody>\n",
       "    <tr>\n",
       "      <th>0</th>\n",
       "      <td>Alameda</td>\n",
       "      <td>70</td>\n",
       "      <td>1583</td>\n",
       "      <td>35</td>\n",
       "      <td>1688</td>\n",
       "    </tr>\n",
       "    <tr>\n",
       "      <th>1</th>\n",
       "      <td>Alpine</td>\n",
       "      <td>0</td>\n",
       "      <td>0</td>\n",
       "      <td>0</td>\n",
       "      <td>0</td>\n",
       "    </tr>\n",
       "    <tr>\n",
       "      <th>2</th>\n",
       "      <td>Amador</td>\n",
       "      <td>0</td>\n",
       "      <td>6</td>\n",
       "      <td>0</td>\n",
       "      <td>6</td>\n",
       "    </tr>\n",
       "    <tr>\n",
       "      <th>3</th>\n",
       "      <td>Butte</td>\n",
       "      <td>0</td>\n",
       "      <td>23</td>\n",
       "      <td>0</td>\n",
       "      <td>23</td>\n",
       "    </tr>\n",
       "    <tr>\n",
       "      <th>4</th>\n",
       "      <td>Calaveras</td>\n",
       "      <td>2</td>\n",
       "      <td>0</td>\n",
       "      <td>0</td>\n",
       "      <td>2</td>\n",
       "    </tr>\n",
       "  </tbody>\n",
       "</table>\n",
       "</div>"
      ],
      "text/plain": [
       "      County  Shared Private Level 1  Shared Private Level 2  \\\n",
       "0    Alameda                      70                    1583   \n",
       "1     Alpine                       0                       0   \n",
       "2     Amador                       0                       6   \n",
       "3      Butte                       0                      23   \n",
       "4  Calaveras                       2                       0   \n",
       "\n",
       "   Shared Private DC Fast  Private Chargers  \n",
       "0                      35              1688  \n",
       "1                       0                 0  \n",
       "2                       0                 6  \n",
       "3                       0                23  \n",
       "4                       0                 2  "
      ]
     },
     "execution_count": 142,
     "metadata": {},
     "output_type": "execute_result"
    }
   ],
   "source": [
    "ev_priv = ev_chargers2[[\"County\",\"Shared Private Level 1\", \"Shared Private Level 2\", \"Shared Private DC Fast\", \n",
    "                       \"Private Chargers\"]]\n",
    "ev_priv.head()"
   ]
  },
  {
   "cell_type": "code",
   "execution_count": 134,
   "id": "0911e139",
   "metadata": {
    "scrolled": false
   },
   "outputs": [
    {
     "data": {
      "application/vnd.plotly.v1+json": {
       "config": {
        "plotlyServerURL": "https://plot.ly"
       },
       "data": [
        {
         "alignmentgroup": "True",
         "hovertemplate": "variable=Public Level 1<br>County=%{x}<br>Count=%{y}<extra></extra>",
         "legendgroup": "Public Level 1",
         "marker": {
          "color": "#636efa",
          "pattern": {
           "shape": ""
          }
         },
         "name": "Public Level 1",
         "offsetgroup": "Public Level 1",
         "orientation": "v",
         "showlegend": true,
         "textposition": "auto",
         "type": "bar",
         "x": [
          "Alameda",
          "Alpine",
          "Amador",
          "Butte",
          "Calaveras",
          "Colusa",
          "Contra Costa",
          "Del Norte",
          "El Dorado",
          "Fresno",
          "Glenn",
          "Humboldt",
          "Imperial",
          "Inyo",
          "Kern",
          "Kings",
          "Lake",
          "Lassen",
          "Los Angeles",
          "Madera",
          "Marin",
          "Mariposa",
          "Mendocino",
          "Merced",
          "Modoc",
          "Mono",
          "Monterey",
          "Napa",
          "Nevada",
          "Orange",
          "Placer",
          "Plumas",
          "Riverside",
          "Sacramento",
          "San Benito",
          "San Bernardino",
          "San Diego",
          "San Francisco",
          "San Joaquin",
          "San Luis Obispo",
          "San Mateo",
          "Santa Barbara",
          "Santa Clara",
          "Santa Cruz",
          "Shasta",
          "Sierra",
          "Siskiyou",
          "Solano",
          "Sonoma",
          "Stanislaus",
          "Sutter",
          "Tehama",
          "Trinity",
          "Tulare",
          "Tuolumne",
          "Unknown",
          "Ventura",
          "Yolo",
          "Yuba"
         ],
         "xaxis": "x",
         "y": [
          6,
          0,
          0,
          6,
          0,
          0,
          3,
          0,
          1,
          8,
          0,
          0,
          0,
          0,
          4,
          0,
          0,
          0,
          31,
          0,
          1,
          0,
          0,
          10,
          0,
          0,
          4,
          0,
          0,
          4,
          0,
          0,
          3,
          69,
          0,
          3,
          2,
          36,
          0,
          0,
          2,
          4,
          3,
          1,
          0,
          0,
          0,
          5,
          4,
          1,
          0,
          0,
          0,
          0,
          0,
          0,
          5,
          12,
          0
         ],
         "yaxis": "y"
        },
        {
         "alignmentgroup": "True",
         "hovertemplate": "variable=Shared Private Level 1<br>County=%{x}<br>Count=%{y}<extra></extra>",
         "legendgroup": "Shared Private Level 1",
         "marker": {
          "color": "#EF553B",
          "pattern": {
           "shape": ""
          }
         },
         "name": "Shared Private Level 1",
         "offsetgroup": "Shared Private Level 1",
         "orientation": "v",
         "showlegend": true,
         "textposition": "auto",
         "type": "bar",
         "x": [
          "Alameda",
          "Alpine",
          "Amador",
          "Butte",
          "Calaveras",
          "Colusa",
          "Contra Costa",
          "Del Norte",
          "El Dorado",
          "Fresno",
          "Glenn",
          "Humboldt",
          "Imperial",
          "Inyo",
          "Kern",
          "Kings",
          "Lake",
          "Lassen",
          "Los Angeles",
          "Madera",
          "Marin",
          "Mariposa",
          "Mendocino",
          "Merced",
          "Modoc",
          "Mono",
          "Monterey",
          "Napa",
          "Nevada",
          "Orange",
          "Placer",
          "Plumas",
          "Riverside",
          "Sacramento",
          "San Benito",
          "San Bernardino",
          "San Diego",
          "San Francisco",
          "San Joaquin",
          "San Luis Obispo",
          "San Mateo",
          "Santa Barbara",
          "Santa Clara",
          "Santa Cruz",
          "Shasta",
          "Sierra",
          "Siskiyou",
          "Solano",
          "Sonoma",
          "Stanislaus",
          "Sutter",
          "Tehama",
          "Trinity",
          "Tulare",
          "Tuolumne",
          "Unknown",
          "Ventura",
          "Yolo",
          "Yuba"
         ],
         "xaxis": "x",
         "y": [
          70,
          0,
          0,
          0,
          2,
          0,
          2,
          0,
          0,
          1,
          0,
          0,
          0,
          0,
          1,
          0,
          0,
          1,
          147,
          1,
          0,
          0,
          0,
          2,
          0,
          0,
          0,
          0,
          1,
          0,
          1,
          0,
          1,
          18,
          0,
          11,
          17,
          6,
          0,
          1,
          36,
          2,
          75,
          0,
          0,
          0,
          1,
          0,
          0,
          1,
          0,
          0,
          0,
          3,
          0,
          0,
          0,
          0,
          0
         ],
         "yaxis": "y"
        },
        {
         "alignmentgroup": "True",
         "hovertemplate": "variable=Public Level 2<br>County=%{x}<br>Count=%{y}<extra></extra>",
         "legendgroup": "Public Level 2",
         "marker": {
          "color": "#00cc96",
          "pattern": {
           "shape": ""
          }
         },
         "name": "Public Level 2",
         "offsetgroup": "Public Level 2",
         "orientation": "v",
         "showlegend": true,
         "textposition": "auto",
         "type": "bar",
         "x": [
          "Alameda",
          "Alpine",
          "Amador",
          "Butte",
          "Calaveras",
          "Colusa",
          "Contra Costa",
          "Del Norte",
          "El Dorado",
          "Fresno",
          "Glenn",
          "Humboldt",
          "Imperial",
          "Inyo",
          "Kern",
          "Kings",
          "Lake",
          "Lassen",
          "Los Angeles",
          "Madera",
          "Marin",
          "Mariposa",
          "Mendocino",
          "Merced",
          "Modoc",
          "Mono",
          "Monterey",
          "Napa",
          "Nevada",
          "Orange",
          "Placer",
          "Plumas",
          "Riverside",
          "Sacramento",
          "San Benito",
          "San Bernardino",
          "San Diego",
          "San Francisco",
          "San Joaquin",
          "San Luis Obispo",
          "San Mateo",
          "Santa Barbara",
          "Santa Clara",
          "Santa Cruz",
          "Shasta",
          "Sierra",
          "Siskiyou",
          "Solano",
          "Sonoma",
          "Stanislaus",
          "Sutter",
          "Tehama",
          "Trinity",
          "Tulare",
          "Tuolumne",
          "Unknown",
          "Ventura",
          "Yolo",
          "Yuba"
         ],
         "xaxis": "x",
         "y": [
          1671,
          14,
          25,
          41,
          7,
          18,
          600,
          12,
          124,
          574,
          4,
          116,
          8,
          6,
          155,
          43,
          14,
          4,
          7380,
          53,
          463,
          14,
          112,
          51,
          4,
          20,
          242,
          316,
          65,
          2714,
          196,
          7,
          981,
          825,
          12,
          604,
          1984,
          688,
          158,
          338,
          2112,
          328,
          3849,
          166,
          38,
          1,
          24,
          250,
          434,
          57,
          5,
          11,
          4,
          42,
          34,
          0,
          423,
          205,
          25
         ],
         "yaxis": "y"
        },
        {
         "alignmentgroup": "True",
         "hovertemplate": "variable=Shared Private Level 2<br>County=%{x}<br>Count=%{y}<extra></extra>",
         "legendgroup": "Shared Private Level 2",
         "marker": {
          "color": "#ab63fa",
          "pattern": {
           "shape": ""
          }
         },
         "name": "Shared Private Level 2",
         "offsetgroup": "Shared Private Level 2",
         "orientation": "v",
         "showlegend": true,
         "textposition": "auto",
         "type": "bar",
         "x": [
          "Alameda",
          "Alpine",
          "Amador",
          "Butte",
          "Calaveras",
          "Colusa",
          "Contra Costa",
          "Del Norte",
          "El Dorado",
          "Fresno",
          "Glenn",
          "Humboldt",
          "Imperial",
          "Inyo",
          "Kern",
          "Kings",
          "Lake",
          "Lassen",
          "Los Angeles",
          "Madera",
          "Marin",
          "Mariposa",
          "Mendocino",
          "Merced",
          "Modoc",
          "Mono",
          "Monterey",
          "Napa",
          "Nevada",
          "Orange",
          "Placer",
          "Plumas",
          "Riverside",
          "Sacramento",
          "San Benito",
          "San Bernardino",
          "San Diego",
          "San Francisco",
          "San Joaquin",
          "San Luis Obispo",
          "San Mateo",
          "Santa Barbara",
          "Santa Clara",
          "Santa Cruz",
          "Shasta",
          "Sierra",
          "Siskiyou",
          "Solano",
          "Sonoma",
          "Stanislaus",
          "Sutter",
          "Tehama",
          "Trinity",
          "Tulare",
          "Tuolumne",
          "Unknown",
          "Ventura",
          "Yolo",
          "Yuba"
         ],
         "xaxis": "x",
         "y": [
          1583,
          0,
          6,
          23,
          0,
          2,
          599,
          0,
          5,
          329,
          0,
          12,
          11,
          6,
          53,
          60,
          0,
          0,
          12252,
          17,
          187,
          0,
          11,
          21,
          0,
          0,
          78,
          33,
          5,
          2581,
          106,
          0,
          186,
          639,
          10,
          373,
          7649,
          772,
          191,
          98,
          2054,
          157,
          11440,
          78,
          38,
          0,
          4,
          126,
          228,
          35,
          6,
          4,
          0,
          11,
          6,
          14,
          332,
          127,
          7
         ],
         "yaxis": "y"
        },
        {
         "alignmentgroup": "True",
         "hovertemplate": "variable=Public DC Fast<br>County=%{x}<br>Count=%{y}<extra></extra>",
         "legendgroup": "Public DC Fast",
         "marker": {
          "color": "#FFA15A",
          "pattern": {
           "shape": ""
          }
         },
         "name": "Public DC Fast",
         "offsetgroup": "Public DC Fast",
         "orientation": "v",
         "showlegend": true,
         "textposition": "auto",
         "type": "bar",
         "x": [
          "Alameda",
          "Alpine",
          "Amador",
          "Butte",
          "Calaveras",
          "Colusa",
          "Contra Costa",
          "Del Norte",
          "El Dorado",
          "Fresno",
          "Glenn",
          "Humboldt",
          "Imperial",
          "Inyo",
          "Kern",
          "Kings",
          "Lake",
          "Lassen",
          "Los Angeles",
          "Madera",
          "Marin",
          "Mariposa",
          "Mendocino",
          "Merced",
          "Modoc",
          "Mono",
          "Monterey",
          "Napa",
          "Nevada",
          "Orange",
          "Placer",
          "Plumas",
          "Riverside",
          "Sacramento",
          "San Benito",
          "San Bernardino",
          "San Diego",
          "San Francisco",
          "San Joaquin",
          "San Luis Obispo",
          "San Mateo",
          "Santa Barbara",
          "Santa Clara",
          "Santa Cruz",
          "Shasta",
          "Sierra",
          "Siskiyou",
          "Solano",
          "Sonoma",
          "Stanislaus",
          "Sutter",
          "Tehama",
          "Trinity",
          "Tulare",
          "Tuolumne",
          "Unknown",
          "Ventura",
          "Yolo",
          "Yuba"
         ],
         "xaxis": "x",
         "y": [
          332,
          0,
          8,
          24,
          12,
          18,
          245,
          17,
          49,
          208,
          10,
          21,
          12,
          29,
          199,
          101,
          0,
          8,
          1042,
          57,
          87,
          10,
          37,
          39,
          8,
          12,
          127,
          43,
          45,
          533,
          115,
          0,
          367,
          256,
          25,
          344,
          379,
          104,
          83,
          128,
          281,
          64,
          565,
          62,
          7,
          0,
          43,
          85,
          113,
          44,
          16,
          20,
          2,
          45,
          38,
          0,
          126,
          50,
          0
         ],
         "yaxis": "y"
        },
        {
         "alignmentgroup": "True",
         "hovertemplate": "variable=Shared Private DC Fast<br>County=%{x}<br>Count=%{y}<extra></extra>",
         "legendgroup": "Shared Private DC Fast",
         "marker": {
          "color": "#19d3f3",
          "pattern": {
           "shape": ""
          }
         },
         "name": "Shared Private DC Fast",
         "offsetgroup": "Shared Private DC Fast",
         "orientation": "v",
         "showlegend": true,
         "textposition": "auto",
         "type": "bar",
         "x": [
          "Alameda",
          "Alpine",
          "Amador",
          "Butte",
          "Calaveras",
          "Colusa",
          "Contra Costa",
          "Del Norte",
          "El Dorado",
          "Fresno",
          "Glenn",
          "Humboldt",
          "Imperial",
          "Inyo",
          "Kern",
          "Kings",
          "Lake",
          "Lassen",
          "Los Angeles",
          "Madera",
          "Marin",
          "Mariposa",
          "Mendocino",
          "Merced",
          "Modoc",
          "Mono",
          "Monterey",
          "Napa",
          "Nevada",
          "Orange",
          "Placer",
          "Plumas",
          "Riverside",
          "Sacramento",
          "San Benito",
          "San Bernardino",
          "San Diego",
          "San Francisco",
          "San Joaquin",
          "San Luis Obispo",
          "San Mateo",
          "Santa Barbara",
          "Santa Clara",
          "Santa Cruz",
          "Shasta",
          "Sierra",
          "Siskiyou",
          "Solano",
          "Sonoma",
          "Stanislaus",
          "Sutter",
          "Tehama",
          "Trinity",
          "Tulare",
          "Tuolumne",
          "Unknown",
          "Ventura",
          "Yolo",
          "Yuba"
         ],
         "xaxis": "x",
         "y": [
          35,
          0,
          0,
          0,
          0,
          0,
          2,
          0,
          0,
          13,
          0,
          1,
          0,
          1,
          4,
          0,
          0,
          0,
          98,
          2,
          1,
          0,
          0,
          2,
          0,
          0,
          1,
          1,
          0,
          20,
          1,
          0,
          10,
          6,
          0,
          32,
          49,
          24,
          10,
          1,
          26,
          2,
          55,
          0,
          3,
          0,
          0,
          5,
          15,
          13,
          0,
          0,
          0,
          22,
          0,
          0,
          8,
          0,
          0
         ],
         "yaxis": "y"
        }
       ],
       "layout": {
        "barmode": "relative",
        "legend": {
         "title": {
          "text": "variable"
         },
         "tracegroupgap": 0
        },
        "template": {
         "data": {
          "bar": [
           {
            "error_x": {
             "color": "#2a3f5f"
            },
            "error_y": {
             "color": "#2a3f5f"
            },
            "marker": {
             "line": {
              "color": "#E5ECF6",
              "width": 0.5
             },
             "pattern": {
              "fillmode": "overlay",
              "size": 10,
              "solidity": 0.2
             }
            },
            "type": "bar"
           }
          ],
          "barpolar": [
           {
            "marker": {
             "line": {
              "color": "#E5ECF6",
              "width": 0.5
             },
             "pattern": {
              "fillmode": "overlay",
              "size": 10,
              "solidity": 0.2
             }
            },
            "type": "barpolar"
           }
          ],
          "carpet": [
           {
            "aaxis": {
             "endlinecolor": "#2a3f5f",
             "gridcolor": "white",
             "linecolor": "white",
             "minorgridcolor": "white",
             "startlinecolor": "#2a3f5f"
            },
            "baxis": {
             "endlinecolor": "#2a3f5f",
             "gridcolor": "white",
             "linecolor": "white",
             "minorgridcolor": "white",
             "startlinecolor": "#2a3f5f"
            },
            "type": "carpet"
           }
          ],
          "choropleth": [
           {
            "colorbar": {
             "outlinewidth": 0,
             "ticks": ""
            },
            "type": "choropleth"
           }
          ],
          "contour": [
           {
            "colorbar": {
             "outlinewidth": 0,
             "ticks": ""
            },
            "colorscale": [
             [
              0,
              "#0d0887"
             ],
             [
              0.1111111111111111,
              "#46039f"
             ],
             [
              0.2222222222222222,
              "#7201a8"
             ],
             [
              0.3333333333333333,
              "#9c179e"
             ],
             [
              0.4444444444444444,
              "#bd3786"
             ],
             [
              0.5555555555555556,
              "#d8576b"
             ],
             [
              0.6666666666666666,
              "#ed7953"
             ],
             [
              0.7777777777777778,
              "#fb9f3a"
             ],
             [
              0.8888888888888888,
              "#fdca26"
             ],
             [
              1,
              "#f0f921"
             ]
            ],
            "type": "contour"
           }
          ],
          "contourcarpet": [
           {
            "colorbar": {
             "outlinewidth": 0,
             "ticks": ""
            },
            "type": "contourcarpet"
           }
          ],
          "heatmap": [
           {
            "colorbar": {
             "outlinewidth": 0,
             "ticks": ""
            },
            "colorscale": [
             [
              0,
              "#0d0887"
             ],
             [
              0.1111111111111111,
              "#46039f"
             ],
             [
              0.2222222222222222,
              "#7201a8"
             ],
             [
              0.3333333333333333,
              "#9c179e"
             ],
             [
              0.4444444444444444,
              "#bd3786"
             ],
             [
              0.5555555555555556,
              "#d8576b"
             ],
             [
              0.6666666666666666,
              "#ed7953"
             ],
             [
              0.7777777777777778,
              "#fb9f3a"
             ],
             [
              0.8888888888888888,
              "#fdca26"
             ],
             [
              1,
              "#f0f921"
             ]
            ],
            "type": "heatmap"
           }
          ],
          "heatmapgl": [
           {
            "colorbar": {
             "outlinewidth": 0,
             "ticks": ""
            },
            "colorscale": [
             [
              0,
              "#0d0887"
             ],
             [
              0.1111111111111111,
              "#46039f"
             ],
             [
              0.2222222222222222,
              "#7201a8"
             ],
             [
              0.3333333333333333,
              "#9c179e"
             ],
             [
              0.4444444444444444,
              "#bd3786"
             ],
             [
              0.5555555555555556,
              "#d8576b"
             ],
             [
              0.6666666666666666,
              "#ed7953"
             ],
             [
              0.7777777777777778,
              "#fb9f3a"
             ],
             [
              0.8888888888888888,
              "#fdca26"
             ],
             [
              1,
              "#f0f921"
             ]
            ],
            "type": "heatmapgl"
           }
          ],
          "histogram": [
           {
            "marker": {
             "pattern": {
              "fillmode": "overlay",
              "size": 10,
              "solidity": 0.2
             }
            },
            "type": "histogram"
           }
          ],
          "histogram2d": [
           {
            "colorbar": {
             "outlinewidth": 0,
             "ticks": ""
            },
            "colorscale": [
             [
              0,
              "#0d0887"
             ],
             [
              0.1111111111111111,
              "#46039f"
             ],
             [
              0.2222222222222222,
              "#7201a8"
             ],
             [
              0.3333333333333333,
              "#9c179e"
             ],
             [
              0.4444444444444444,
              "#bd3786"
             ],
             [
              0.5555555555555556,
              "#d8576b"
             ],
             [
              0.6666666666666666,
              "#ed7953"
             ],
             [
              0.7777777777777778,
              "#fb9f3a"
             ],
             [
              0.8888888888888888,
              "#fdca26"
             ],
             [
              1,
              "#f0f921"
             ]
            ],
            "type": "histogram2d"
           }
          ],
          "histogram2dcontour": [
           {
            "colorbar": {
             "outlinewidth": 0,
             "ticks": ""
            },
            "colorscale": [
             [
              0,
              "#0d0887"
             ],
             [
              0.1111111111111111,
              "#46039f"
             ],
             [
              0.2222222222222222,
              "#7201a8"
             ],
             [
              0.3333333333333333,
              "#9c179e"
             ],
             [
              0.4444444444444444,
              "#bd3786"
             ],
             [
              0.5555555555555556,
              "#d8576b"
             ],
             [
              0.6666666666666666,
              "#ed7953"
             ],
             [
              0.7777777777777778,
              "#fb9f3a"
             ],
             [
              0.8888888888888888,
              "#fdca26"
             ],
             [
              1,
              "#f0f921"
             ]
            ],
            "type": "histogram2dcontour"
           }
          ],
          "mesh3d": [
           {
            "colorbar": {
             "outlinewidth": 0,
             "ticks": ""
            },
            "type": "mesh3d"
           }
          ],
          "parcoords": [
           {
            "line": {
             "colorbar": {
              "outlinewidth": 0,
              "ticks": ""
             }
            },
            "type": "parcoords"
           }
          ],
          "pie": [
           {
            "automargin": true,
            "type": "pie"
           }
          ],
          "scatter": [
           {
            "fillpattern": {
             "fillmode": "overlay",
             "size": 10,
             "solidity": 0.2
            },
            "type": "scatter"
           }
          ],
          "scatter3d": [
           {
            "line": {
             "colorbar": {
              "outlinewidth": 0,
              "ticks": ""
             }
            },
            "marker": {
             "colorbar": {
              "outlinewidth": 0,
              "ticks": ""
             }
            },
            "type": "scatter3d"
           }
          ],
          "scattercarpet": [
           {
            "marker": {
             "colorbar": {
              "outlinewidth": 0,
              "ticks": ""
             }
            },
            "type": "scattercarpet"
           }
          ],
          "scattergeo": [
           {
            "marker": {
             "colorbar": {
              "outlinewidth": 0,
              "ticks": ""
             }
            },
            "type": "scattergeo"
           }
          ],
          "scattergl": [
           {
            "marker": {
             "colorbar": {
              "outlinewidth": 0,
              "ticks": ""
             }
            },
            "type": "scattergl"
           }
          ],
          "scattermapbox": [
           {
            "marker": {
             "colorbar": {
              "outlinewidth": 0,
              "ticks": ""
             }
            },
            "type": "scattermapbox"
           }
          ],
          "scatterpolar": [
           {
            "marker": {
             "colorbar": {
              "outlinewidth": 0,
              "ticks": ""
             }
            },
            "type": "scatterpolar"
           }
          ],
          "scatterpolargl": [
           {
            "marker": {
             "colorbar": {
              "outlinewidth": 0,
              "ticks": ""
             }
            },
            "type": "scatterpolargl"
           }
          ],
          "scatterternary": [
           {
            "marker": {
             "colorbar": {
              "outlinewidth": 0,
              "ticks": ""
             }
            },
            "type": "scatterternary"
           }
          ],
          "surface": [
           {
            "colorbar": {
             "outlinewidth": 0,
             "ticks": ""
            },
            "colorscale": [
             [
              0,
              "#0d0887"
             ],
             [
              0.1111111111111111,
              "#46039f"
             ],
             [
              0.2222222222222222,
              "#7201a8"
             ],
             [
              0.3333333333333333,
              "#9c179e"
             ],
             [
              0.4444444444444444,
              "#bd3786"
             ],
             [
              0.5555555555555556,
              "#d8576b"
             ],
             [
              0.6666666666666666,
              "#ed7953"
             ],
             [
              0.7777777777777778,
              "#fb9f3a"
             ],
             [
              0.8888888888888888,
              "#fdca26"
             ],
             [
              1,
              "#f0f921"
             ]
            ],
            "type": "surface"
           }
          ],
          "table": [
           {
            "cells": {
             "fill": {
              "color": "#EBF0F8"
             },
             "line": {
              "color": "white"
             }
            },
            "header": {
             "fill": {
              "color": "#C8D4E3"
             },
             "line": {
              "color": "white"
             }
            },
            "type": "table"
           }
          ]
         },
         "layout": {
          "annotationdefaults": {
           "arrowcolor": "#2a3f5f",
           "arrowhead": 0,
           "arrowwidth": 1
          },
          "autotypenumbers": "strict",
          "coloraxis": {
           "colorbar": {
            "outlinewidth": 0,
            "ticks": ""
           }
          },
          "colorscale": {
           "diverging": [
            [
             0,
             "#8e0152"
            ],
            [
             0.1,
             "#c51b7d"
            ],
            [
             0.2,
             "#de77ae"
            ],
            [
             0.3,
             "#f1b6da"
            ],
            [
             0.4,
             "#fde0ef"
            ],
            [
             0.5,
             "#f7f7f7"
            ],
            [
             0.6,
             "#e6f5d0"
            ],
            [
             0.7,
             "#b8e186"
            ],
            [
             0.8,
             "#7fbc41"
            ],
            [
             0.9,
             "#4d9221"
            ],
            [
             1,
             "#276419"
            ]
           ],
           "sequential": [
            [
             0,
             "#0d0887"
            ],
            [
             0.1111111111111111,
             "#46039f"
            ],
            [
             0.2222222222222222,
             "#7201a8"
            ],
            [
             0.3333333333333333,
             "#9c179e"
            ],
            [
             0.4444444444444444,
             "#bd3786"
            ],
            [
             0.5555555555555556,
             "#d8576b"
            ],
            [
             0.6666666666666666,
             "#ed7953"
            ],
            [
             0.7777777777777778,
             "#fb9f3a"
            ],
            [
             0.8888888888888888,
             "#fdca26"
            ],
            [
             1,
             "#f0f921"
            ]
           ],
           "sequentialminus": [
            [
             0,
             "#0d0887"
            ],
            [
             0.1111111111111111,
             "#46039f"
            ],
            [
             0.2222222222222222,
             "#7201a8"
            ],
            [
             0.3333333333333333,
             "#9c179e"
            ],
            [
             0.4444444444444444,
             "#bd3786"
            ],
            [
             0.5555555555555556,
             "#d8576b"
            ],
            [
             0.6666666666666666,
             "#ed7953"
            ],
            [
             0.7777777777777778,
             "#fb9f3a"
            ],
            [
             0.8888888888888888,
             "#fdca26"
            ],
            [
             1,
             "#f0f921"
            ]
           ]
          },
          "colorway": [
           "#636efa",
           "#EF553B",
           "#00cc96",
           "#ab63fa",
           "#FFA15A",
           "#19d3f3",
           "#FF6692",
           "#B6E880",
           "#FF97FF",
           "#FECB52"
          ],
          "font": {
           "color": "#2a3f5f"
          },
          "geo": {
           "bgcolor": "white",
           "lakecolor": "white",
           "landcolor": "#E5ECF6",
           "showlakes": true,
           "showland": true,
           "subunitcolor": "white"
          },
          "hoverlabel": {
           "align": "left"
          },
          "hovermode": "closest",
          "mapbox": {
           "style": "light"
          },
          "paper_bgcolor": "white",
          "plot_bgcolor": "#E5ECF6",
          "polar": {
           "angularaxis": {
            "gridcolor": "white",
            "linecolor": "white",
            "ticks": ""
           },
           "bgcolor": "#E5ECF6",
           "radialaxis": {
            "gridcolor": "white",
            "linecolor": "white",
            "ticks": ""
           }
          },
          "scene": {
           "xaxis": {
            "backgroundcolor": "#E5ECF6",
            "gridcolor": "white",
            "gridwidth": 2,
            "linecolor": "white",
            "showbackground": true,
            "ticks": "",
            "zerolinecolor": "white"
           },
           "yaxis": {
            "backgroundcolor": "#E5ECF6",
            "gridcolor": "white",
            "gridwidth": 2,
            "linecolor": "white",
            "showbackground": true,
            "ticks": "",
            "zerolinecolor": "white"
           },
           "zaxis": {
            "backgroundcolor": "#E5ECF6",
            "gridcolor": "white",
            "gridwidth": 2,
            "linecolor": "white",
            "showbackground": true,
            "ticks": "",
            "zerolinecolor": "white"
           }
          },
          "shapedefaults": {
           "line": {
            "color": "#2a3f5f"
           }
          },
          "ternary": {
           "aaxis": {
            "gridcolor": "white",
            "linecolor": "white",
            "ticks": ""
           },
           "baxis": {
            "gridcolor": "white",
            "linecolor": "white",
            "ticks": ""
           },
           "bgcolor": "#E5ECF6",
           "caxis": {
            "gridcolor": "white",
            "linecolor": "white",
            "ticks": ""
           }
          },
          "title": {
           "x": 0.05
          },
          "xaxis": {
           "automargin": true,
           "gridcolor": "white",
           "linecolor": "white",
           "ticks": "",
           "title": {
            "standoff": 15
           },
           "zerolinecolor": "white",
           "zerolinewidth": 2
          },
          "yaxis": {
           "automargin": true,
           "gridcolor": "white",
           "linecolor": "white",
           "ticks": "",
           "title": {
            "standoff": 15
           },
           "zerolinecolor": "white",
           "zerolinewidth": 2
          }
         }
        },
        "title": {
         "text": "All EV Chargers per County"
        },
        "xaxis": {
         "anchor": "y",
         "domain": [
          0,
          1
         ],
         "title": {
          "text": "County"
         }
        },
        "yaxis": {
         "anchor": "x",
         "domain": [
          0,
          1
         ],
         "title": {
          "text": "Count"
         }
        }
       }
      },
      "text/html": [
       "<div>                            <div id=\"28349c57-5833-4a01-b18c-a8cf74df63fb\" class=\"plotly-graph-div\" style=\"height:525px; width:100%;\"></div>            <script type=\"text/javascript\">                require([\"plotly\"], function(Plotly) {                    window.PLOTLYENV=window.PLOTLYENV || {};                                    if (document.getElementById(\"28349c57-5833-4a01-b18c-a8cf74df63fb\")) {                    Plotly.newPlot(                        \"28349c57-5833-4a01-b18c-a8cf74df63fb\",                        [{\"alignmentgroup\":\"True\",\"hovertemplate\":\"variable=Public Level 1<br>County=%{x}<br>Count=%{y}<extra></extra>\",\"legendgroup\":\"Public Level 1\",\"marker\":{\"color\":\"#636efa\",\"pattern\":{\"shape\":\"\"}},\"name\":\"Public Level 1\",\"offsetgroup\":\"Public Level 1\",\"orientation\":\"v\",\"showlegend\":true,\"textposition\":\"auto\",\"x\":[\"Alameda\",\"Alpine\",\"Amador\",\"Butte\",\"Calaveras\",\"Colusa\",\"Contra Costa\",\"Del Norte\",\"El Dorado\",\"Fresno\",\"Glenn\",\"Humboldt\",\"Imperial\",\"Inyo\",\"Kern\",\"Kings\",\"Lake\",\"Lassen\",\"Los Angeles\",\"Madera\",\"Marin\",\"Mariposa\",\"Mendocino\",\"Merced\",\"Modoc\",\"Mono\",\"Monterey\",\"Napa\",\"Nevada\",\"Orange\",\"Placer\",\"Plumas\",\"Riverside\",\"Sacramento\",\"San Benito\",\"San Bernardino\",\"San Diego\",\"San Francisco\",\"San Joaquin\",\"San Luis Obispo\",\"San Mateo\",\"Santa Barbara\",\"Santa Clara\",\"Santa Cruz\",\"Shasta\",\"Sierra\",\"Siskiyou\",\"Solano\",\"Sonoma\",\"Stanislaus\",\"Sutter\",\"Tehama\",\"Trinity\",\"Tulare\",\"Tuolumne\",\"Unknown\",\"Ventura\",\"Yolo\",\"Yuba\"],\"xaxis\":\"x\",\"y\":[6,0,0,6,0,0,3,0,1,8,0,0,0,0,4,0,0,0,31,0,1,0,0,10,0,0,4,0,0,4,0,0,3,69,0,3,2,36,0,0,2,4,3,1,0,0,0,5,4,1,0,0,0,0,0,0,5,12,0],\"yaxis\":\"y\",\"type\":\"bar\"},{\"alignmentgroup\":\"True\",\"hovertemplate\":\"variable=Shared Private Level 1<br>County=%{x}<br>Count=%{y}<extra></extra>\",\"legendgroup\":\"Shared Private Level 1\",\"marker\":{\"color\":\"#EF553B\",\"pattern\":{\"shape\":\"\"}},\"name\":\"Shared Private Level 1\",\"offsetgroup\":\"Shared Private Level 1\",\"orientation\":\"v\",\"showlegend\":true,\"textposition\":\"auto\",\"x\":[\"Alameda\",\"Alpine\",\"Amador\",\"Butte\",\"Calaveras\",\"Colusa\",\"Contra Costa\",\"Del Norte\",\"El Dorado\",\"Fresno\",\"Glenn\",\"Humboldt\",\"Imperial\",\"Inyo\",\"Kern\",\"Kings\",\"Lake\",\"Lassen\",\"Los Angeles\",\"Madera\",\"Marin\",\"Mariposa\",\"Mendocino\",\"Merced\",\"Modoc\",\"Mono\",\"Monterey\",\"Napa\",\"Nevada\",\"Orange\",\"Placer\",\"Plumas\",\"Riverside\",\"Sacramento\",\"San Benito\",\"San Bernardino\",\"San Diego\",\"San Francisco\",\"San Joaquin\",\"San Luis Obispo\",\"San Mateo\",\"Santa Barbara\",\"Santa Clara\",\"Santa Cruz\",\"Shasta\",\"Sierra\",\"Siskiyou\",\"Solano\",\"Sonoma\",\"Stanislaus\",\"Sutter\",\"Tehama\",\"Trinity\",\"Tulare\",\"Tuolumne\",\"Unknown\",\"Ventura\",\"Yolo\",\"Yuba\"],\"xaxis\":\"x\",\"y\":[70,0,0,0,2,0,2,0,0,1,0,0,0,0,1,0,0,1,147,1,0,0,0,2,0,0,0,0,1,0,1,0,1,18,0,11,17,6,0,1,36,2,75,0,0,0,1,0,0,1,0,0,0,3,0,0,0,0,0],\"yaxis\":\"y\",\"type\":\"bar\"},{\"alignmentgroup\":\"True\",\"hovertemplate\":\"variable=Public Level 2<br>County=%{x}<br>Count=%{y}<extra></extra>\",\"legendgroup\":\"Public Level 2\",\"marker\":{\"color\":\"#00cc96\",\"pattern\":{\"shape\":\"\"}},\"name\":\"Public Level 2\",\"offsetgroup\":\"Public Level 2\",\"orientation\":\"v\",\"showlegend\":true,\"textposition\":\"auto\",\"x\":[\"Alameda\",\"Alpine\",\"Amador\",\"Butte\",\"Calaveras\",\"Colusa\",\"Contra Costa\",\"Del Norte\",\"El Dorado\",\"Fresno\",\"Glenn\",\"Humboldt\",\"Imperial\",\"Inyo\",\"Kern\",\"Kings\",\"Lake\",\"Lassen\",\"Los Angeles\",\"Madera\",\"Marin\",\"Mariposa\",\"Mendocino\",\"Merced\",\"Modoc\",\"Mono\",\"Monterey\",\"Napa\",\"Nevada\",\"Orange\",\"Placer\",\"Plumas\",\"Riverside\",\"Sacramento\",\"San Benito\",\"San Bernardino\",\"San Diego\",\"San Francisco\",\"San Joaquin\",\"San Luis Obispo\",\"San Mateo\",\"Santa Barbara\",\"Santa Clara\",\"Santa Cruz\",\"Shasta\",\"Sierra\",\"Siskiyou\",\"Solano\",\"Sonoma\",\"Stanislaus\",\"Sutter\",\"Tehama\",\"Trinity\",\"Tulare\",\"Tuolumne\",\"Unknown\",\"Ventura\",\"Yolo\",\"Yuba\"],\"xaxis\":\"x\",\"y\":[1671,14,25,41,7,18,600,12,124,574,4,116,8,6,155,43,14,4,7380,53,463,14,112,51,4,20,242,316,65,2714,196,7,981,825,12,604,1984,688,158,338,2112,328,3849,166,38,1,24,250,434,57,5,11,4,42,34,0,423,205,25],\"yaxis\":\"y\",\"type\":\"bar\"},{\"alignmentgroup\":\"True\",\"hovertemplate\":\"variable=Shared Private Level 2<br>County=%{x}<br>Count=%{y}<extra></extra>\",\"legendgroup\":\"Shared Private Level 2\",\"marker\":{\"color\":\"#ab63fa\",\"pattern\":{\"shape\":\"\"}},\"name\":\"Shared Private Level 2\",\"offsetgroup\":\"Shared Private Level 2\",\"orientation\":\"v\",\"showlegend\":true,\"textposition\":\"auto\",\"x\":[\"Alameda\",\"Alpine\",\"Amador\",\"Butte\",\"Calaveras\",\"Colusa\",\"Contra Costa\",\"Del Norte\",\"El Dorado\",\"Fresno\",\"Glenn\",\"Humboldt\",\"Imperial\",\"Inyo\",\"Kern\",\"Kings\",\"Lake\",\"Lassen\",\"Los Angeles\",\"Madera\",\"Marin\",\"Mariposa\",\"Mendocino\",\"Merced\",\"Modoc\",\"Mono\",\"Monterey\",\"Napa\",\"Nevada\",\"Orange\",\"Placer\",\"Plumas\",\"Riverside\",\"Sacramento\",\"San Benito\",\"San Bernardino\",\"San Diego\",\"San Francisco\",\"San Joaquin\",\"San Luis Obispo\",\"San Mateo\",\"Santa Barbara\",\"Santa Clara\",\"Santa Cruz\",\"Shasta\",\"Sierra\",\"Siskiyou\",\"Solano\",\"Sonoma\",\"Stanislaus\",\"Sutter\",\"Tehama\",\"Trinity\",\"Tulare\",\"Tuolumne\",\"Unknown\",\"Ventura\",\"Yolo\",\"Yuba\"],\"xaxis\":\"x\",\"y\":[1583,0,6,23,0,2,599,0,5,329,0,12,11,6,53,60,0,0,12252,17,187,0,11,21,0,0,78,33,5,2581,106,0,186,639,10,373,7649,772,191,98,2054,157,11440,78,38,0,4,126,228,35,6,4,0,11,6,14,332,127,7],\"yaxis\":\"y\",\"type\":\"bar\"},{\"alignmentgroup\":\"True\",\"hovertemplate\":\"variable=Public DC Fast<br>County=%{x}<br>Count=%{y}<extra></extra>\",\"legendgroup\":\"Public DC Fast\",\"marker\":{\"color\":\"#FFA15A\",\"pattern\":{\"shape\":\"\"}},\"name\":\"Public DC Fast\",\"offsetgroup\":\"Public DC Fast\",\"orientation\":\"v\",\"showlegend\":true,\"textposition\":\"auto\",\"x\":[\"Alameda\",\"Alpine\",\"Amador\",\"Butte\",\"Calaveras\",\"Colusa\",\"Contra Costa\",\"Del Norte\",\"El Dorado\",\"Fresno\",\"Glenn\",\"Humboldt\",\"Imperial\",\"Inyo\",\"Kern\",\"Kings\",\"Lake\",\"Lassen\",\"Los Angeles\",\"Madera\",\"Marin\",\"Mariposa\",\"Mendocino\",\"Merced\",\"Modoc\",\"Mono\",\"Monterey\",\"Napa\",\"Nevada\",\"Orange\",\"Placer\",\"Plumas\",\"Riverside\",\"Sacramento\",\"San Benito\",\"San Bernardino\",\"San Diego\",\"San Francisco\",\"San Joaquin\",\"San Luis Obispo\",\"San Mateo\",\"Santa Barbara\",\"Santa Clara\",\"Santa Cruz\",\"Shasta\",\"Sierra\",\"Siskiyou\",\"Solano\",\"Sonoma\",\"Stanislaus\",\"Sutter\",\"Tehama\",\"Trinity\",\"Tulare\",\"Tuolumne\",\"Unknown\",\"Ventura\",\"Yolo\",\"Yuba\"],\"xaxis\":\"x\",\"y\":[332,0,8,24,12,18,245,17,49,208,10,21,12,29,199,101,0,8,1042,57,87,10,37,39,8,12,127,43,45,533,115,0,367,256,25,344,379,104,83,128,281,64,565,62,7,0,43,85,113,44,16,20,2,45,38,0,126,50,0],\"yaxis\":\"y\",\"type\":\"bar\"},{\"alignmentgroup\":\"True\",\"hovertemplate\":\"variable=Shared Private DC Fast<br>County=%{x}<br>Count=%{y}<extra></extra>\",\"legendgroup\":\"Shared Private DC Fast\",\"marker\":{\"color\":\"#19d3f3\",\"pattern\":{\"shape\":\"\"}},\"name\":\"Shared Private DC Fast\",\"offsetgroup\":\"Shared Private DC Fast\",\"orientation\":\"v\",\"showlegend\":true,\"textposition\":\"auto\",\"x\":[\"Alameda\",\"Alpine\",\"Amador\",\"Butte\",\"Calaveras\",\"Colusa\",\"Contra Costa\",\"Del Norte\",\"El Dorado\",\"Fresno\",\"Glenn\",\"Humboldt\",\"Imperial\",\"Inyo\",\"Kern\",\"Kings\",\"Lake\",\"Lassen\",\"Los Angeles\",\"Madera\",\"Marin\",\"Mariposa\",\"Mendocino\",\"Merced\",\"Modoc\",\"Mono\",\"Monterey\",\"Napa\",\"Nevada\",\"Orange\",\"Placer\",\"Plumas\",\"Riverside\",\"Sacramento\",\"San Benito\",\"San Bernardino\",\"San Diego\",\"San Francisco\",\"San Joaquin\",\"San Luis Obispo\",\"San Mateo\",\"Santa Barbara\",\"Santa Clara\",\"Santa Cruz\",\"Shasta\",\"Sierra\",\"Siskiyou\",\"Solano\",\"Sonoma\",\"Stanislaus\",\"Sutter\",\"Tehama\",\"Trinity\",\"Tulare\",\"Tuolumne\",\"Unknown\",\"Ventura\",\"Yolo\",\"Yuba\"],\"xaxis\":\"x\",\"y\":[35,0,0,0,0,0,2,0,0,13,0,1,0,1,4,0,0,0,98,2,1,0,0,2,0,0,1,1,0,20,1,0,10,6,0,32,49,24,10,1,26,2,55,0,3,0,0,5,15,13,0,0,0,22,0,0,8,0,0],\"yaxis\":\"y\",\"type\":\"bar\"}],                        {\"template\":{\"data\":{\"histogram2dcontour\":[{\"type\":\"histogram2dcontour\",\"colorbar\":{\"outlinewidth\":0,\"ticks\":\"\"},\"colorscale\":[[0.0,\"#0d0887\"],[0.1111111111111111,\"#46039f\"],[0.2222222222222222,\"#7201a8\"],[0.3333333333333333,\"#9c179e\"],[0.4444444444444444,\"#bd3786\"],[0.5555555555555556,\"#d8576b\"],[0.6666666666666666,\"#ed7953\"],[0.7777777777777778,\"#fb9f3a\"],[0.8888888888888888,\"#fdca26\"],[1.0,\"#f0f921\"]]}],\"choropleth\":[{\"type\":\"choropleth\",\"colorbar\":{\"outlinewidth\":0,\"ticks\":\"\"}}],\"histogram2d\":[{\"type\":\"histogram2d\",\"colorbar\":{\"outlinewidth\":0,\"ticks\":\"\"},\"colorscale\":[[0.0,\"#0d0887\"],[0.1111111111111111,\"#46039f\"],[0.2222222222222222,\"#7201a8\"],[0.3333333333333333,\"#9c179e\"],[0.4444444444444444,\"#bd3786\"],[0.5555555555555556,\"#d8576b\"],[0.6666666666666666,\"#ed7953\"],[0.7777777777777778,\"#fb9f3a\"],[0.8888888888888888,\"#fdca26\"],[1.0,\"#f0f921\"]]}],\"heatmap\":[{\"type\":\"heatmap\",\"colorbar\":{\"outlinewidth\":0,\"ticks\":\"\"},\"colorscale\":[[0.0,\"#0d0887\"],[0.1111111111111111,\"#46039f\"],[0.2222222222222222,\"#7201a8\"],[0.3333333333333333,\"#9c179e\"],[0.4444444444444444,\"#bd3786\"],[0.5555555555555556,\"#d8576b\"],[0.6666666666666666,\"#ed7953\"],[0.7777777777777778,\"#fb9f3a\"],[0.8888888888888888,\"#fdca26\"],[1.0,\"#f0f921\"]]}],\"heatmapgl\":[{\"type\":\"heatmapgl\",\"colorbar\":{\"outlinewidth\":0,\"ticks\":\"\"},\"colorscale\":[[0.0,\"#0d0887\"],[0.1111111111111111,\"#46039f\"],[0.2222222222222222,\"#7201a8\"],[0.3333333333333333,\"#9c179e\"],[0.4444444444444444,\"#bd3786\"],[0.5555555555555556,\"#d8576b\"],[0.6666666666666666,\"#ed7953\"],[0.7777777777777778,\"#fb9f3a\"],[0.8888888888888888,\"#fdca26\"],[1.0,\"#f0f921\"]]}],\"contourcarpet\":[{\"type\":\"contourcarpet\",\"colorbar\":{\"outlinewidth\":0,\"ticks\":\"\"}}],\"contour\":[{\"type\":\"contour\",\"colorbar\":{\"outlinewidth\":0,\"ticks\":\"\"},\"colorscale\":[[0.0,\"#0d0887\"],[0.1111111111111111,\"#46039f\"],[0.2222222222222222,\"#7201a8\"],[0.3333333333333333,\"#9c179e\"],[0.4444444444444444,\"#bd3786\"],[0.5555555555555556,\"#d8576b\"],[0.6666666666666666,\"#ed7953\"],[0.7777777777777778,\"#fb9f3a\"],[0.8888888888888888,\"#fdca26\"],[1.0,\"#f0f921\"]]}],\"surface\":[{\"type\":\"surface\",\"colorbar\":{\"outlinewidth\":0,\"ticks\":\"\"},\"colorscale\":[[0.0,\"#0d0887\"],[0.1111111111111111,\"#46039f\"],[0.2222222222222222,\"#7201a8\"],[0.3333333333333333,\"#9c179e\"],[0.4444444444444444,\"#bd3786\"],[0.5555555555555556,\"#d8576b\"],[0.6666666666666666,\"#ed7953\"],[0.7777777777777778,\"#fb9f3a\"],[0.8888888888888888,\"#fdca26\"],[1.0,\"#f0f921\"]]}],\"mesh3d\":[{\"type\":\"mesh3d\",\"colorbar\":{\"outlinewidth\":0,\"ticks\":\"\"}}],\"scatter\":[{\"fillpattern\":{\"fillmode\":\"overlay\",\"size\":10,\"solidity\":0.2},\"type\":\"scatter\"}],\"parcoords\":[{\"type\":\"parcoords\",\"line\":{\"colorbar\":{\"outlinewidth\":0,\"ticks\":\"\"}}}],\"scatterpolargl\":[{\"type\":\"scatterpolargl\",\"marker\":{\"colorbar\":{\"outlinewidth\":0,\"ticks\":\"\"}}}],\"bar\":[{\"error_x\":{\"color\":\"#2a3f5f\"},\"error_y\":{\"color\":\"#2a3f5f\"},\"marker\":{\"line\":{\"color\":\"#E5ECF6\",\"width\":0.5},\"pattern\":{\"fillmode\":\"overlay\",\"size\":10,\"solidity\":0.2}},\"type\":\"bar\"}],\"scattergeo\":[{\"type\":\"scattergeo\",\"marker\":{\"colorbar\":{\"outlinewidth\":0,\"ticks\":\"\"}}}],\"scatterpolar\":[{\"type\":\"scatterpolar\",\"marker\":{\"colorbar\":{\"outlinewidth\":0,\"ticks\":\"\"}}}],\"histogram\":[{\"marker\":{\"pattern\":{\"fillmode\":\"overlay\",\"size\":10,\"solidity\":0.2}},\"type\":\"histogram\"}],\"scattergl\":[{\"type\":\"scattergl\",\"marker\":{\"colorbar\":{\"outlinewidth\":0,\"ticks\":\"\"}}}],\"scatter3d\":[{\"type\":\"scatter3d\",\"line\":{\"colorbar\":{\"outlinewidth\":0,\"ticks\":\"\"}},\"marker\":{\"colorbar\":{\"outlinewidth\":0,\"ticks\":\"\"}}}],\"scattermapbox\":[{\"type\":\"scattermapbox\",\"marker\":{\"colorbar\":{\"outlinewidth\":0,\"ticks\":\"\"}}}],\"scatterternary\":[{\"type\":\"scatterternary\",\"marker\":{\"colorbar\":{\"outlinewidth\":0,\"ticks\":\"\"}}}],\"scattercarpet\":[{\"type\":\"scattercarpet\",\"marker\":{\"colorbar\":{\"outlinewidth\":0,\"ticks\":\"\"}}}],\"carpet\":[{\"aaxis\":{\"endlinecolor\":\"#2a3f5f\",\"gridcolor\":\"white\",\"linecolor\":\"white\",\"minorgridcolor\":\"white\",\"startlinecolor\":\"#2a3f5f\"},\"baxis\":{\"endlinecolor\":\"#2a3f5f\",\"gridcolor\":\"white\",\"linecolor\":\"white\",\"minorgridcolor\":\"white\",\"startlinecolor\":\"#2a3f5f\"},\"type\":\"carpet\"}],\"table\":[{\"cells\":{\"fill\":{\"color\":\"#EBF0F8\"},\"line\":{\"color\":\"white\"}},\"header\":{\"fill\":{\"color\":\"#C8D4E3\"},\"line\":{\"color\":\"white\"}},\"type\":\"table\"}],\"barpolar\":[{\"marker\":{\"line\":{\"color\":\"#E5ECF6\",\"width\":0.5},\"pattern\":{\"fillmode\":\"overlay\",\"size\":10,\"solidity\":0.2}},\"type\":\"barpolar\"}],\"pie\":[{\"automargin\":true,\"type\":\"pie\"}]},\"layout\":{\"autotypenumbers\":\"strict\",\"colorway\":[\"#636efa\",\"#EF553B\",\"#00cc96\",\"#ab63fa\",\"#FFA15A\",\"#19d3f3\",\"#FF6692\",\"#B6E880\",\"#FF97FF\",\"#FECB52\"],\"font\":{\"color\":\"#2a3f5f\"},\"hovermode\":\"closest\",\"hoverlabel\":{\"align\":\"left\"},\"paper_bgcolor\":\"white\",\"plot_bgcolor\":\"#E5ECF6\",\"polar\":{\"bgcolor\":\"#E5ECF6\",\"angularaxis\":{\"gridcolor\":\"white\",\"linecolor\":\"white\",\"ticks\":\"\"},\"radialaxis\":{\"gridcolor\":\"white\",\"linecolor\":\"white\",\"ticks\":\"\"}},\"ternary\":{\"bgcolor\":\"#E5ECF6\",\"aaxis\":{\"gridcolor\":\"white\",\"linecolor\":\"white\",\"ticks\":\"\"},\"baxis\":{\"gridcolor\":\"white\",\"linecolor\":\"white\",\"ticks\":\"\"},\"caxis\":{\"gridcolor\":\"white\",\"linecolor\":\"white\",\"ticks\":\"\"}},\"coloraxis\":{\"colorbar\":{\"outlinewidth\":0,\"ticks\":\"\"}},\"colorscale\":{\"sequential\":[[0.0,\"#0d0887\"],[0.1111111111111111,\"#46039f\"],[0.2222222222222222,\"#7201a8\"],[0.3333333333333333,\"#9c179e\"],[0.4444444444444444,\"#bd3786\"],[0.5555555555555556,\"#d8576b\"],[0.6666666666666666,\"#ed7953\"],[0.7777777777777778,\"#fb9f3a\"],[0.8888888888888888,\"#fdca26\"],[1.0,\"#f0f921\"]],\"sequentialminus\":[[0.0,\"#0d0887\"],[0.1111111111111111,\"#46039f\"],[0.2222222222222222,\"#7201a8\"],[0.3333333333333333,\"#9c179e\"],[0.4444444444444444,\"#bd3786\"],[0.5555555555555556,\"#d8576b\"],[0.6666666666666666,\"#ed7953\"],[0.7777777777777778,\"#fb9f3a\"],[0.8888888888888888,\"#fdca26\"],[1.0,\"#f0f921\"]],\"diverging\":[[0,\"#8e0152\"],[0.1,\"#c51b7d\"],[0.2,\"#de77ae\"],[0.3,\"#f1b6da\"],[0.4,\"#fde0ef\"],[0.5,\"#f7f7f7\"],[0.6,\"#e6f5d0\"],[0.7,\"#b8e186\"],[0.8,\"#7fbc41\"],[0.9,\"#4d9221\"],[1,\"#276419\"]]},\"xaxis\":{\"gridcolor\":\"white\",\"linecolor\":\"white\",\"ticks\":\"\",\"title\":{\"standoff\":15},\"zerolinecolor\":\"white\",\"automargin\":true,\"zerolinewidth\":2},\"yaxis\":{\"gridcolor\":\"white\",\"linecolor\":\"white\",\"ticks\":\"\",\"title\":{\"standoff\":15},\"zerolinecolor\":\"white\",\"automargin\":true,\"zerolinewidth\":2},\"scene\":{\"xaxis\":{\"backgroundcolor\":\"#E5ECF6\",\"gridcolor\":\"white\",\"linecolor\":\"white\",\"showbackground\":true,\"ticks\":\"\",\"zerolinecolor\":\"white\",\"gridwidth\":2},\"yaxis\":{\"backgroundcolor\":\"#E5ECF6\",\"gridcolor\":\"white\",\"linecolor\":\"white\",\"showbackground\":true,\"ticks\":\"\",\"zerolinecolor\":\"white\",\"gridwidth\":2},\"zaxis\":{\"backgroundcolor\":\"#E5ECF6\",\"gridcolor\":\"white\",\"linecolor\":\"white\",\"showbackground\":true,\"ticks\":\"\",\"zerolinecolor\":\"white\",\"gridwidth\":2}},\"shapedefaults\":{\"line\":{\"color\":\"#2a3f5f\"}},\"annotationdefaults\":{\"arrowcolor\":\"#2a3f5f\",\"arrowhead\":0,\"arrowwidth\":1},\"geo\":{\"bgcolor\":\"white\",\"landcolor\":\"#E5ECF6\",\"subunitcolor\":\"white\",\"showland\":true,\"showlakes\":true,\"lakecolor\":\"white\"},\"title\":{\"x\":0.05},\"mapbox\":{\"style\":\"light\"}}},\"xaxis\":{\"anchor\":\"y\",\"domain\":[0.0,1.0],\"title\":{\"text\":\"County\"}},\"yaxis\":{\"anchor\":\"x\",\"domain\":[0.0,1.0],\"title\":{\"text\":\"Count\"}},\"legend\":{\"title\":{\"text\":\"variable\"},\"tracegroupgap\":0},\"title\":{\"text\":\"All EV Chargers per County\"},\"barmode\":\"relative\"},                        {\"responsive\": true}                    ).then(function(){\n",
       "                            \n",
       "var gd = document.getElementById('28349c57-5833-4a01-b18c-a8cf74df63fb');\n",
       "var x = new MutationObserver(function (mutations, observer) {{\n",
       "        var display = window.getComputedStyle(gd).display;\n",
       "        if (!display || display === 'none') {{\n",
       "            console.log([gd, 'removed!']);\n",
       "            Plotly.purge(gd);\n",
       "            observer.disconnect();\n",
       "        }}\n",
       "}});\n",
       "\n",
       "// Listen for the removal of the full notebook cells\n",
       "var notebookContainer = gd.closest('#notebook-container');\n",
       "if (notebookContainer) {{\n",
       "    x.observe(notebookContainer, {childList: true});\n",
       "}}\n",
       "\n",
       "// Listen for the clearing of the current output cell\n",
       "var outputEl = gd.closest('.output');\n",
       "if (outputEl) {{\n",
       "    x.observe(outputEl, {childList: true});\n",
       "}}\n",
       "\n",
       "                        })                };                });            </script>        </div>"
      ]
     },
     "metadata": {},
     "output_type": "display_data"
    }
   ],
   "source": [
    "px.bar(ev_df, x=\"County\",y=[\"value\"], color=\"variable\", \n",
    "       labels={'_value': 'Count'}, title='All EV Chargers per County')"
   ]
  },
  {
   "cell_type": "code",
   "execution_count": 136,
   "id": "1ac75b6d",
   "metadata": {},
   "outputs": [
    {
     "data": {
      "application/vnd.plotly.v1+json": {
       "config": {
        "plotlyServerURL": "https://plot.ly"
       },
       "data": [
        {
         "alignmentgroup": "True",
         "hovertemplate": "variable=Public Level 1<br>County=%{x}<br>Count=%{y}<extra></extra>",
         "legendgroup": "Public Level 1",
         "marker": {
          "color": "#636efa",
          "pattern": {
           "shape": ""
          }
         },
         "name": "Public Level 1",
         "offsetgroup": "Public Level 1",
         "orientation": "v",
         "showlegend": true,
         "textposition": "auto",
         "type": "bar",
         "x": [
          "Alameda",
          "Alpine",
          "Amador",
          "Butte",
          "Calaveras",
          "Colusa",
          "Contra Costa",
          "Del Norte",
          "El Dorado",
          "Fresno",
          "Glenn",
          "Humboldt",
          "Imperial",
          "Inyo",
          "Kern",
          "Kings",
          "Lake",
          "Lassen",
          "Los Angeles",
          "Madera",
          "Marin",
          "Mariposa",
          "Mendocino",
          "Merced",
          "Modoc",
          "Mono",
          "Monterey",
          "Napa",
          "Nevada",
          "Orange",
          "Placer",
          "Plumas",
          "Riverside",
          "Sacramento",
          "San Benito",
          "San Bernardino",
          "San Diego",
          "San Francisco",
          "San Joaquin",
          "San Luis Obispo",
          "San Mateo",
          "Santa Barbara",
          "Santa Clara",
          "Santa Cruz",
          "Shasta",
          "Sierra",
          "Siskiyou",
          "Solano",
          "Sonoma",
          "Stanislaus",
          "Sutter",
          "Tehama",
          "Trinity",
          "Tulare",
          "Tuolumne",
          "Unknown",
          "Ventura",
          "Yolo",
          "Yuba"
         ],
         "xaxis": "x",
         "y": [
          6,
          0,
          0,
          6,
          0,
          0,
          3,
          0,
          1,
          8,
          0,
          0,
          0,
          0,
          4,
          0,
          0,
          0,
          31,
          0,
          1,
          0,
          0,
          10,
          0,
          0,
          4,
          0,
          0,
          4,
          0,
          0,
          3,
          69,
          0,
          3,
          2,
          36,
          0,
          0,
          2,
          4,
          3,
          1,
          0,
          0,
          0,
          5,
          4,
          1,
          0,
          0,
          0,
          0,
          0,
          0,
          5,
          12,
          0
         ],
         "yaxis": "y"
        },
        {
         "alignmentgroup": "True",
         "hovertemplate": "variable=Public Level 2<br>County=%{x}<br>Count=%{y}<extra></extra>",
         "legendgroup": "Public Level 2",
         "marker": {
          "color": "#EF553B",
          "pattern": {
           "shape": ""
          }
         },
         "name": "Public Level 2",
         "offsetgroup": "Public Level 2",
         "orientation": "v",
         "showlegend": true,
         "textposition": "auto",
         "type": "bar",
         "x": [
          "Alameda",
          "Alpine",
          "Amador",
          "Butte",
          "Calaveras",
          "Colusa",
          "Contra Costa",
          "Del Norte",
          "El Dorado",
          "Fresno",
          "Glenn",
          "Humboldt",
          "Imperial",
          "Inyo",
          "Kern",
          "Kings",
          "Lake",
          "Lassen",
          "Los Angeles",
          "Madera",
          "Marin",
          "Mariposa",
          "Mendocino",
          "Merced",
          "Modoc",
          "Mono",
          "Monterey",
          "Napa",
          "Nevada",
          "Orange",
          "Placer",
          "Plumas",
          "Riverside",
          "Sacramento",
          "San Benito",
          "San Bernardino",
          "San Diego",
          "San Francisco",
          "San Joaquin",
          "San Luis Obispo",
          "San Mateo",
          "Santa Barbara",
          "Santa Clara",
          "Santa Cruz",
          "Shasta",
          "Sierra",
          "Siskiyou",
          "Solano",
          "Sonoma",
          "Stanislaus",
          "Sutter",
          "Tehama",
          "Trinity",
          "Tulare",
          "Tuolumne",
          "Unknown",
          "Ventura",
          "Yolo",
          "Yuba"
         ],
         "xaxis": "x",
         "y": [
          1671,
          14,
          25,
          41,
          7,
          18,
          600,
          12,
          124,
          574,
          4,
          116,
          8,
          6,
          155,
          43,
          14,
          4,
          7380,
          53,
          463,
          14,
          112,
          51,
          4,
          20,
          242,
          316,
          65,
          2714,
          196,
          7,
          981,
          825,
          12,
          604,
          1984,
          688,
          158,
          338,
          2112,
          328,
          3849,
          166,
          38,
          1,
          24,
          250,
          434,
          57,
          5,
          11,
          4,
          42,
          34,
          0,
          423,
          205,
          25
         ],
         "yaxis": "y"
        },
        {
         "alignmentgroup": "True",
         "hovertemplate": "variable=Public DC Fast<br>County=%{x}<br>Count=%{y}<extra></extra>",
         "legendgroup": "Public DC Fast",
         "marker": {
          "color": "#00cc96",
          "pattern": {
           "shape": ""
          }
         },
         "name": "Public DC Fast",
         "offsetgroup": "Public DC Fast",
         "orientation": "v",
         "showlegend": true,
         "textposition": "auto",
         "type": "bar",
         "x": [
          "Alameda",
          "Alpine",
          "Amador",
          "Butte",
          "Calaveras",
          "Colusa",
          "Contra Costa",
          "Del Norte",
          "El Dorado",
          "Fresno",
          "Glenn",
          "Humboldt",
          "Imperial",
          "Inyo",
          "Kern",
          "Kings",
          "Lake",
          "Lassen",
          "Los Angeles",
          "Madera",
          "Marin",
          "Mariposa",
          "Mendocino",
          "Merced",
          "Modoc",
          "Mono",
          "Monterey",
          "Napa",
          "Nevada",
          "Orange",
          "Placer",
          "Plumas",
          "Riverside",
          "Sacramento",
          "San Benito",
          "San Bernardino",
          "San Diego",
          "San Francisco",
          "San Joaquin",
          "San Luis Obispo",
          "San Mateo",
          "Santa Barbara",
          "Santa Clara",
          "Santa Cruz",
          "Shasta",
          "Sierra",
          "Siskiyou",
          "Solano",
          "Sonoma",
          "Stanislaus",
          "Sutter",
          "Tehama",
          "Trinity",
          "Tulare",
          "Tuolumne",
          "Unknown",
          "Ventura",
          "Yolo",
          "Yuba"
         ],
         "xaxis": "x",
         "y": [
          332,
          0,
          8,
          24,
          12,
          18,
          245,
          17,
          49,
          208,
          10,
          21,
          12,
          29,
          199,
          101,
          0,
          8,
          1042,
          57,
          87,
          10,
          37,
          39,
          8,
          12,
          127,
          43,
          45,
          533,
          115,
          0,
          367,
          256,
          25,
          344,
          379,
          104,
          83,
          128,
          281,
          64,
          565,
          62,
          7,
          0,
          43,
          85,
          113,
          44,
          16,
          20,
          2,
          45,
          38,
          0,
          126,
          50,
          0
         ],
         "yaxis": "y"
        }
       ],
       "layout": {
        "barmode": "relative",
        "legend": {
         "title": {
          "text": "variable"
         },
         "tracegroupgap": 0
        },
        "template": {
         "data": {
          "bar": [
           {
            "error_x": {
             "color": "#2a3f5f"
            },
            "error_y": {
             "color": "#2a3f5f"
            },
            "marker": {
             "line": {
              "color": "#E5ECF6",
              "width": 0.5
             },
             "pattern": {
              "fillmode": "overlay",
              "size": 10,
              "solidity": 0.2
             }
            },
            "type": "bar"
           }
          ],
          "barpolar": [
           {
            "marker": {
             "line": {
              "color": "#E5ECF6",
              "width": 0.5
             },
             "pattern": {
              "fillmode": "overlay",
              "size": 10,
              "solidity": 0.2
             }
            },
            "type": "barpolar"
           }
          ],
          "carpet": [
           {
            "aaxis": {
             "endlinecolor": "#2a3f5f",
             "gridcolor": "white",
             "linecolor": "white",
             "minorgridcolor": "white",
             "startlinecolor": "#2a3f5f"
            },
            "baxis": {
             "endlinecolor": "#2a3f5f",
             "gridcolor": "white",
             "linecolor": "white",
             "minorgridcolor": "white",
             "startlinecolor": "#2a3f5f"
            },
            "type": "carpet"
           }
          ],
          "choropleth": [
           {
            "colorbar": {
             "outlinewidth": 0,
             "ticks": ""
            },
            "type": "choropleth"
           }
          ],
          "contour": [
           {
            "colorbar": {
             "outlinewidth": 0,
             "ticks": ""
            },
            "colorscale": [
             [
              0,
              "#0d0887"
             ],
             [
              0.1111111111111111,
              "#46039f"
             ],
             [
              0.2222222222222222,
              "#7201a8"
             ],
             [
              0.3333333333333333,
              "#9c179e"
             ],
             [
              0.4444444444444444,
              "#bd3786"
             ],
             [
              0.5555555555555556,
              "#d8576b"
             ],
             [
              0.6666666666666666,
              "#ed7953"
             ],
             [
              0.7777777777777778,
              "#fb9f3a"
             ],
             [
              0.8888888888888888,
              "#fdca26"
             ],
             [
              1,
              "#f0f921"
             ]
            ],
            "type": "contour"
           }
          ],
          "contourcarpet": [
           {
            "colorbar": {
             "outlinewidth": 0,
             "ticks": ""
            },
            "type": "contourcarpet"
           }
          ],
          "heatmap": [
           {
            "colorbar": {
             "outlinewidth": 0,
             "ticks": ""
            },
            "colorscale": [
             [
              0,
              "#0d0887"
             ],
             [
              0.1111111111111111,
              "#46039f"
             ],
             [
              0.2222222222222222,
              "#7201a8"
             ],
             [
              0.3333333333333333,
              "#9c179e"
             ],
             [
              0.4444444444444444,
              "#bd3786"
             ],
             [
              0.5555555555555556,
              "#d8576b"
             ],
             [
              0.6666666666666666,
              "#ed7953"
             ],
             [
              0.7777777777777778,
              "#fb9f3a"
             ],
             [
              0.8888888888888888,
              "#fdca26"
             ],
             [
              1,
              "#f0f921"
             ]
            ],
            "type": "heatmap"
           }
          ],
          "heatmapgl": [
           {
            "colorbar": {
             "outlinewidth": 0,
             "ticks": ""
            },
            "colorscale": [
             [
              0,
              "#0d0887"
             ],
             [
              0.1111111111111111,
              "#46039f"
             ],
             [
              0.2222222222222222,
              "#7201a8"
             ],
             [
              0.3333333333333333,
              "#9c179e"
             ],
             [
              0.4444444444444444,
              "#bd3786"
             ],
             [
              0.5555555555555556,
              "#d8576b"
             ],
             [
              0.6666666666666666,
              "#ed7953"
             ],
             [
              0.7777777777777778,
              "#fb9f3a"
             ],
             [
              0.8888888888888888,
              "#fdca26"
             ],
             [
              1,
              "#f0f921"
             ]
            ],
            "type": "heatmapgl"
           }
          ],
          "histogram": [
           {
            "marker": {
             "pattern": {
              "fillmode": "overlay",
              "size": 10,
              "solidity": 0.2
             }
            },
            "type": "histogram"
           }
          ],
          "histogram2d": [
           {
            "colorbar": {
             "outlinewidth": 0,
             "ticks": ""
            },
            "colorscale": [
             [
              0,
              "#0d0887"
             ],
             [
              0.1111111111111111,
              "#46039f"
             ],
             [
              0.2222222222222222,
              "#7201a8"
             ],
             [
              0.3333333333333333,
              "#9c179e"
             ],
             [
              0.4444444444444444,
              "#bd3786"
             ],
             [
              0.5555555555555556,
              "#d8576b"
             ],
             [
              0.6666666666666666,
              "#ed7953"
             ],
             [
              0.7777777777777778,
              "#fb9f3a"
             ],
             [
              0.8888888888888888,
              "#fdca26"
             ],
             [
              1,
              "#f0f921"
             ]
            ],
            "type": "histogram2d"
           }
          ],
          "histogram2dcontour": [
           {
            "colorbar": {
             "outlinewidth": 0,
             "ticks": ""
            },
            "colorscale": [
             [
              0,
              "#0d0887"
             ],
             [
              0.1111111111111111,
              "#46039f"
             ],
             [
              0.2222222222222222,
              "#7201a8"
             ],
             [
              0.3333333333333333,
              "#9c179e"
             ],
             [
              0.4444444444444444,
              "#bd3786"
             ],
             [
              0.5555555555555556,
              "#d8576b"
             ],
             [
              0.6666666666666666,
              "#ed7953"
             ],
             [
              0.7777777777777778,
              "#fb9f3a"
             ],
             [
              0.8888888888888888,
              "#fdca26"
             ],
             [
              1,
              "#f0f921"
             ]
            ],
            "type": "histogram2dcontour"
           }
          ],
          "mesh3d": [
           {
            "colorbar": {
             "outlinewidth": 0,
             "ticks": ""
            },
            "type": "mesh3d"
           }
          ],
          "parcoords": [
           {
            "line": {
             "colorbar": {
              "outlinewidth": 0,
              "ticks": ""
             }
            },
            "type": "parcoords"
           }
          ],
          "pie": [
           {
            "automargin": true,
            "type": "pie"
           }
          ],
          "scatter": [
           {
            "fillpattern": {
             "fillmode": "overlay",
             "size": 10,
             "solidity": 0.2
            },
            "type": "scatter"
           }
          ],
          "scatter3d": [
           {
            "line": {
             "colorbar": {
              "outlinewidth": 0,
              "ticks": ""
             }
            },
            "marker": {
             "colorbar": {
              "outlinewidth": 0,
              "ticks": ""
             }
            },
            "type": "scatter3d"
           }
          ],
          "scattercarpet": [
           {
            "marker": {
             "colorbar": {
              "outlinewidth": 0,
              "ticks": ""
             }
            },
            "type": "scattercarpet"
           }
          ],
          "scattergeo": [
           {
            "marker": {
             "colorbar": {
              "outlinewidth": 0,
              "ticks": ""
             }
            },
            "type": "scattergeo"
           }
          ],
          "scattergl": [
           {
            "marker": {
             "colorbar": {
              "outlinewidth": 0,
              "ticks": ""
             }
            },
            "type": "scattergl"
           }
          ],
          "scattermapbox": [
           {
            "marker": {
             "colorbar": {
              "outlinewidth": 0,
              "ticks": ""
             }
            },
            "type": "scattermapbox"
           }
          ],
          "scatterpolar": [
           {
            "marker": {
             "colorbar": {
              "outlinewidth": 0,
              "ticks": ""
             }
            },
            "type": "scatterpolar"
           }
          ],
          "scatterpolargl": [
           {
            "marker": {
             "colorbar": {
              "outlinewidth": 0,
              "ticks": ""
             }
            },
            "type": "scatterpolargl"
           }
          ],
          "scatterternary": [
           {
            "marker": {
             "colorbar": {
              "outlinewidth": 0,
              "ticks": ""
             }
            },
            "type": "scatterternary"
           }
          ],
          "surface": [
           {
            "colorbar": {
             "outlinewidth": 0,
             "ticks": ""
            },
            "colorscale": [
             [
              0,
              "#0d0887"
             ],
             [
              0.1111111111111111,
              "#46039f"
             ],
             [
              0.2222222222222222,
              "#7201a8"
             ],
             [
              0.3333333333333333,
              "#9c179e"
             ],
             [
              0.4444444444444444,
              "#bd3786"
             ],
             [
              0.5555555555555556,
              "#d8576b"
             ],
             [
              0.6666666666666666,
              "#ed7953"
             ],
             [
              0.7777777777777778,
              "#fb9f3a"
             ],
             [
              0.8888888888888888,
              "#fdca26"
             ],
             [
              1,
              "#f0f921"
             ]
            ],
            "type": "surface"
           }
          ],
          "table": [
           {
            "cells": {
             "fill": {
              "color": "#EBF0F8"
             },
             "line": {
              "color": "white"
             }
            },
            "header": {
             "fill": {
              "color": "#C8D4E3"
             },
             "line": {
              "color": "white"
             }
            },
            "type": "table"
           }
          ]
         },
         "layout": {
          "annotationdefaults": {
           "arrowcolor": "#2a3f5f",
           "arrowhead": 0,
           "arrowwidth": 1
          },
          "autotypenumbers": "strict",
          "coloraxis": {
           "colorbar": {
            "outlinewidth": 0,
            "ticks": ""
           }
          },
          "colorscale": {
           "diverging": [
            [
             0,
             "#8e0152"
            ],
            [
             0.1,
             "#c51b7d"
            ],
            [
             0.2,
             "#de77ae"
            ],
            [
             0.3,
             "#f1b6da"
            ],
            [
             0.4,
             "#fde0ef"
            ],
            [
             0.5,
             "#f7f7f7"
            ],
            [
             0.6,
             "#e6f5d0"
            ],
            [
             0.7,
             "#b8e186"
            ],
            [
             0.8,
             "#7fbc41"
            ],
            [
             0.9,
             "#4d9221"
            ],
            [
             1,
             "#276419"
            ]
           ],
           "sequential": [
            [
             0,
             "#0d0887"
            ],
            [
             0.1111111111111111,
             "#46039f"
            ],
            [
             0.2222222222222222,
             "#7201a8"
            ],
            [
             0.3333333333333333,
             "#9c179e"
            ],
            [
             0.4444444444444444,
             "#bd3786"
            ],
            [
             0.5555555555555556,
             "#d8576b"
            ],
            [
             0.6666666666666666,
             "#ed7953"
            ],
            [
             0.7777777777777778,
             "#fb9f3a"
            ],
            [
             0.8888888888888888,
             "#fdca26"
            ],
            [
             1,
             "#f0f921"
            ]
           ],
           "sequentialminus": [
            [
             0,
             "#0d0887"
            ],
            [
             0.1111111111111111,
             "#46039f"
            ],
            [
             0.2222222222222222,
             "#7201a8"
            ],
            [
             0.3333333333333333,
             "#9c179e"
            ],
            [
             0.4444444444444444,
             "#bd3786"
            ],
            [
             0.5555555555555556,
             "#d8576b"
            ],
            [
             0.6666666666666666,
             "#ed7953"
            ],
            [
             0.7777777777777778,
             "#fb9f3a"
            ],
            [
             0.8888888888888888,
             "#fdca26"
            ],
            [
             1,
             "#f0f921"
            ]
           ]
          },
          "colorway": [
           "#636efa",
           "#EF553B",
           "#00cc96",
           "#ab63fa",
           "#FFA15A",
           "#19d3f3",
           "#FF6692",
           "#B6E880",
           "#FF97FF",
           "#FECB52"
          ],
          "font": {
           "color": "#2a3f5f"
          },
          "geo": {
           "bgcolor": "white",
           "lakecolor": "white",
           "landcolor": "#E5ECF6",
           "showlakes": true,
           "showland": true,
           "subunitcolor": "white"
          },
          "hoverlabel": {
           "align": "left"
          },
          "hovermode": "closest",
          "mapbox": {
           "style": "light"
          },
          "paper_bgcolor": "white",
          "plot_bgcolor": "#E5ECF6",
          "polar": {
           "angularaxis": {
            "gridcolor": "white",
            "linecolor": "white",
            "ticks": ""
           },
           "bgcolor": "#E5ECF6",
           "radialaxis": {
            "gridcolor": "white",
            "linecolor": "white",
            "ticks": ""
           }
          },
          "scene": {
           "xaxis": {
            "backgroundcolor": "#E5ECF6",
            "gridcolor": "white",
            "gridwidth": 2,
            "linecolor": "white",
            "showbackground": true,
            "ticks": "",
            "zerolinecolor": "white"
           },
           "yaxis": {
            "backgroundcolor": "#E5ECF6",
            "gridcolor": "white",
            "gridwidth": 2,
            "linecolor": "white",
            "showbackground": true,
            "ticks": "",
            "zerolinecolor": "white"
           },
           "zaxis": {
            "backgroundcolor": "#E5ECF6",
            "gridcolor": "white",
            "gridwidth": 2,
            "linecolor": "white",
            "showbackground": true,
            "ticks": "",
            "zerolinecolor": "white"
           }
          },
          "shapedefaults": {
           "line": {
            "color": "#2a3f5f"
           }
          },
          "ternary": {
           "aaxis": {
            "gridcolor": "white",
            "linecolor": "white",
            "ticks": ""
           },
           "baxis": {
            "gridcolor": "white",
            "linecolor": "white",
            "ticks": ""
           },
           "bgcolor": "#E5ECF6",
           "caxis": {
            "gridcolor": "white",
            "linecolor": "white",
            "ticks": ""
           }
          },
          "title": {
           "x": 0.05
          },
          "xaxis": {
           "automargin": true,
           "gridcolor": "white",
           "linecolor": "white",
           "ticks": "",
           "title": {
            "standoff": 15
           },
           "zerolinecolor": "white",
           "zerolinewidth": 2
          },
          "yaxis": {
           "automargin": true,
           "gridcolor": "white",
           "linecolor": "white",
           "ticks": "",
           "title": {
            "standoff": 15
           },
           "zerolinecolor": "white",
           "zerolinewidth": 2
          }
         }
        },
        "title": {
         "text": "Public EV Chargers per County"
        },
        "xaxis": {
         "anchor": "y",
         "domain": [
          0,
          1
         ],
         "title": {
          "text": "County"
         }
        },
        "yaxis": {
         "anchor": "x",
         "domain": [
          0,
          1
         ],
         "title": {
          "text": "Count"
         }
        }
       }
      },
      "text/html": [
       "<div>                            <div id=\"212a8763-7079-40f0-b0ac-83ba8a7eb25e\" class=\"plotly-graph-div\" style=\"height:525px; width:100%;\"></div>            <script type=\"text/javascript\">                require([\"plotly\"], function(Plotly) {                    window.PLOTLYENV=window.PLOTLYENV || {};                                    if (document.getElementById(\"212a8763-7079-40f0-b0ac-83ba8a7eb25e\")) {                    Plotly.newPlot(                        \"212a8763-7079-40f0-b0ac-83ba8a7eb25e\",                        [{\"alignmentgroup\":\"True\",\"hovertemplate\":\"variable=Public Level 1<br>County=%{x}<br>Count=%{y}<extra></extra>\",\"legendgroup\":\"Public Level 1\",\"marker\":{\"color\":\"#636efa\",\"pattern\":{\"shape\":\"\"}},\"name\":\"Public Level 1\",\"offsetgroup\":\"Public Level 1\",\"orientation\":\"v\",\"showlegend\":true,\"textposition\":\"auto\",\"x\":[\"Alameda\",\"Alpine\",\"Amador\",\"Butte\",\"Calaveras\",\"Colusa\",\"Contra Costa\",\"Del Norte\",\"El Dorado\",\"Fresno\",\"Glenn\",\"Humboldt\",\"Imperial\",\"Inyo\",\"Kern\",\"Kings\",\"Lake\",\"Lassen\",\"Los Angeles\",\"Madera\",\"Marin\",\"Mariposa\",\"Mendocino\",\"Merced\",\"Modoc\",\"Mono\",\"Monterey\",\"Napa\",\"Nevada\",\"Orange\",\"Placer\",\"Plumas\",\"Riverside\",\"Sacramento\",\"San Benito\",\"San Bernardino\",\"San Diego\",\"San Francisco\",\"San Joaquin\",\"San Luis Obispo\",\"San Mateo\",\"Santa Barbara\",\"Santa Clara\",\"Santa Cruz\",\"Shasta\",\"Sierra\",\"Siskiyou\",\"Solano\",\"Sonoma\",\"Stanislaus\",\"Sutter\",\"Tehama\",\"Trinity\",\"Tulare\",\"Tuolumne\",\"Unknown\",\"Ventura\",\"Yolo\",\"Yuba\"],\"xaxis\":\"x\",\"y\":[6,0,0,6,0,0,3,0,1,8,0,0,0,0,4,0,0,0,31,0,1,0,0,10,0,0,4,0,0,4,0,0,3,69,0,3,2,36,0,0,2,4,3,1,0,0,0,5,4,1,0,0,0,0,0,0,5,12,0],\"yaxis\":\"y\",\"type\":\"bar\"},{\"alignmentgroup\":\"True\",\"hovertemplate\":\"variable=Public Level 2<br>County=%{x}<br>Count=%{y}<extra></extra>\",\"legendgroup\":\"Public Level 2\",\"marker\":{\"color\":\"#EF553B\",\"pattern\":{\"shape\":\"\"}},\"name\":\"Public Level 2\",\"offsetgroup\":\"Public Level 2\",\"orientation\":\"v\",\"showlegend\":true,\"textposition\":\"auto\",\"x\":[\"Alameda\",\"Alpine\",\"Amador\",\"Butte\",\"Calaveras\",\"Colusa\",\"Contra Costa\",\"Del Norte\",\"El Dorado\",\"Fresno\",\"Glenn\",\"Humboldt\",\"Imperial\",\"Inyo\",\"Kern\",\"Kings\",\"Lake\",\"Lassen\",\"Los Angeles\",\"Madera\",\"Marin\",\"Mariposa\",\"Mendocino\",\"Merced\",\"Modoc\",\"Mono\",\"Monterey\",\"Napa\",\"Nevada\",\"Orange\",\"Placer\",\"Plumas\",\"Riverside\",\"Sacramento\",\"San Benito\",\"San Bernardino\",\"San Diego\",\"San Francisco\",\"San Joaquin\",\"San Luis Obispo\",\"San Mateo\",\"Santa Barbara\",\"Santa Clara\",\"Santa Cruz\",\"Shasta\",\"Sierra\",\"Siskiyou\",\"Solano\",\"Sonoma\",\"Stanislaus\",\"Sutter\",\"Tehama\",\"Trinity\",\"Tulare\",\"Tuolumne\",\"Unknown\",\"Ventura\",\"Yolo\",\"Yuba\"],\"xaxis\":\"x\",\"y\":[1671,14,25,41,7,18,600,12,124,574,4,116,8,6,155,43,14,4,7380,53,463,14,112,51,4,20,242,316,65,2714,196,7,981,825,12,604,1984,688,158,338,2112,328,3849,166,38,1,24,250,434,57,5,11,4,42,34,0,423,205,25],\"yaxis\":\"y\",\"type\":\"bar\"},{\"alignmentgroup\":\"True\",\"hovertemplate\":\"variable=Public DC Fast<br>County=%{x}<br>Count=%{y}<extra></extra>\",\"legendgroup\":\"Public DC Fast\",\"marker\":{\"color\":\"#00cc96\",\"pattern\":{\"shape\":\"\"}},\"name\":\"Public DC Fast\",\"offsetgroup\":\"Public DC Fast\",\"orientation\":\"v\",\"showlegend\":true,\"textposition\":\"auto\",\"x\":[\"Alameda\",\"Alpine\",\"Amador\",\"Butte\",\"Calaveras\",\"Colusa\",\"Contra Costa\",\"Del Norte\",\"El Dorado\",\"Fresno\",\"Glenn\",\"Humboldt\",\"Imperial\",\"Inyo\",\"Kern\",\"Kings\",\"Lake\",\"Lassen\",\"Los Angeles\",\"Madera\",\"Marin\",\"Mariposa\",\"Mendocino\",\"Merced\",\"Modoc\",\"Mono\",\"Monterey\",\"Napa\",\"Nevada\",\"Orange\",\"Placer\",\"Plumas\",\"Riverside\",\"Sacramento\",\"San Benito\",\"San Bernardino\",\"San Diego\",\"San Francisco\",\"San Joaquin\",\"San Luis Obispo\",\"San Mateo\",\"Santa Barbara\",\"Santa Clara\",\"Santa Cruz\",\"Shasta\",\"Sierra\",\"Siskiyou\",\"Solano\",\"Sonoma\",\"Stanislaus\",\"Sutter\",\"Tehama\",\"Trinity\",\"Tulare\",\"Tuolumne\",\"Unknown\",\"Ventura\",\"Yolo\",\"Yuba\"],\"xaxis\":\"x\",\"y\":[332,0,8,24,12,18,245,17,49,208,10,21,12,29,199,101,0,8,1042,57,87,10,37,39,8,12,127,43,45,533,115,0,367,256,25,344,379,104,83,128,281,64,565,62,7,0,43,85,113,44,16,20,2,45,38,0,126,50,0],\"yaxis\":\"y\",\"type\":\"bar\"}],                        {\"template\":{\"data\":{\"histogram2dcontour\":[{\"type\":\"histogram2dcontour\",\"colorbar\":{\"outlinewidth\":0,\"ticks\":\"\"},\"colorscale\":[[0.0,\"#0d0887\"],[0.1111111111111111,\"#46039f\"],[0.2222222222222222,\"#7201a8\"],[0.3333333333333333,\"#9c179e\"],[0.4444444444444444,\"#bd3786\"],[0.5555555555555556,\"#d8576b\"],[0.6666666666666666,\"#ed7953\"],[0.7777777777777778,\"#fb9f3a\"],[0.8888888888888888,\"#fdca26\"],[1.0,\"#f0f921\"]]}],\"choropleth\":[{\"type\":\"choropleth\",\"colorbar\":{\"outlinewidth\":0,\"ticks\":\"\"}}],\"histogram2d\":[{\"type\":\"histogram2d\",\"colorbar\":{\"outlinewidth\":0,\"ticks\":\"\"},\"colorscale\":[[0.0,\"#0d0887\"],[0.1111111111111111,\"#46039f\"],[0.2222222222222222,\"#7201a8\"],[0.3333333333333333,\"#9c179e\"],[0.4444444444444444,\"#bd3786\"],[0.5555555555555556,\"#d8576b\"],[0.6666666666666666,\"#ed7953\"],[0.7777777777777778,\"#fb9f3a\"],[0.8888888888888888,\"#fdca26\"],[1.0,\"#f0f921\"]]}],\"heatmap\":[{\"type\":\"heatmap\",\"colorbar\":{\"outlinewidth\":0,\"ticks\":\"\"},\"colorscale\":[[0.0,\"#0d0887\"],[0.1111111111111111,\"#46039f\"],[0.2222222222222222,\"#7201a8\"],[0.3333333333333333,\"#9c179e\"],[0.4444444444444444,\"#bd3786\"],[0.5555555555555556,\"#d8576b\"],[0.6666666666666666,\"#ed7953\"],[0.7777777777777778,\"#fb9f3a\"],[0.8888888888888888,\"#fdca26\"],[1.0,\"#f0f921\"]]}],\"heatmapgl\":[{\"type\":\"heatmapgl\",\"colorbar\":{\"outlinewidth\":0,\"ticks\":\"\"},\"colorscale\":[[0.0,\"#0d0887\"],[0.1111111111111111,\"#46039f\"],[0.2222222222222222,\"#7201a8\"],[0.3333333333333333,\"#9c179e\"],[0.4444444444444444,\"#bd3786\"],[0.5555555555555556,\"#d8576b\"],[0.6666666666666666,\"#ed7953\"],[0.7777777777777778,\"#fb9f3a\"],[0.8888888888888888,\"#fdca26\"],[1.0,\"#f0f921\"]]}],\"contourcarpet\":[{\"type\":\"contourcarpet\",\"colorbar\":{\"outlinewidth\":0,\"ticks\":\"\"}}],\"contour\":[{\"type\":\"contour\",\"colorbar\":{\"outlinewidth\":0,\"ticks\":\"\"},\"colorscale\":[[0.0,\"#0d0887\"],[0.1111111111111111,\"#46039f\"],[0.2222222222222222,\"#7201a8\"],[0.3333333333333333,\"#9c179e\"],[0.4444444444444444,\"#bd3786\"],[0.5555555555555556,\"#d8576b\"],[0.6666666666666666,\"#ed7953\"],[0.7777777777777778,\"#fb9f3a\"],[0.8888888888888888,\"#fdca26\"],[1.0,\"#f0f921\"]]}],\"surface\":[{\"type\":\"surface\",\"colorbar\":{\"outlinewidth\":0,\"ticks\":\"\"},\"colorscale\":[[0.0,\"#0d0887\"],[0.1111111111111111,\"#46039f\"],[0.2222222222222222,\"#7201a8\"],[0.3333333333333333,\"#9c179e\"],[0.4444444444444444,\"#bd3786\"],[0.5555555555555556,\"#d8576b\"],[0.6666666666666666,\"#ed7953\"],[0.7777777777777778,\"#fb9f3a\"],[0.8888888888888888,\"#fdca26\"],[1.0,\"#f0f921\"]]}],\"mesh3d\":[{\"type\":\"mesh3d\",\"colorbar\":{\"outlinewidth\":0,\"ticks\":\"\"}}],\"scatter\":[{\"fillpattern\":{\"fillmode\":\"overlay\",\"size\":10,\"solidity\":0.2},\"type\":\"scatter\"}],\"parcoords\":[{\"type\":\"parcoords\",\"line\":{\"colorbar\":{\"outlinewidth\":0,\"ticks\":\"\"}}}],\"scatterpolargl\":[{\"type\":\"scatterpolargl\",\"marker\":{\"colorbar\":{\"outlinewidth\":0,\"ticks\":\"\"}}}],\"bar\":[{\"error_x\":{\"color\":\"#2a3f5f\"},\"error_y\":{\"color\":\"#2a3f5f\"},\"marker\":{\"line\":{\"color\":\"#E5ECF6\",\"width\":0.5},\"pattern\":{\"fillmode\":\"overlay\",\"size\":10,\"solidity\":0.2}},\"type\":\"bar\"}],\"scattergeo\":[{\"type\":\"scattergeo\",\"marker\":{\"colorbar\":{\"outlinewidth\":0,\"ticks\":\"\"}}}],\"scatterpolar\":[{\"type\":\"scatterpolar\",\"marker\":{\"colorbar\":{\"outlinewidth\":0,\"ticks\":\"\"}}}],\"histogram\":[{\"marker\":{\"pattern\":{\"fillmode\":\"overlay\",\"size\":10,\"solidity\":0.2}},\"type\":\"histogram\"}],\"scattergl\":[{\"type\":\"scattergl\",\"marker\":{\"colorbar\":{\"outlinewidth\":0,\"ticks\":\"\"}}}],\"scatter3d\":[{\"type\":\"scatter3d\",\"line\":{\"colorbar\":{\"outlinewidth\":0,\"ticks\":\"\"}},\"marker\":{\"colorbar\":{\"outlinewidth\":0,\"ticks\":\"\"}}}],\"scattermapbox\":[{\"type\":\"scattermapbox\",\"marker\":{\"colorbar\":{\"outlinewidth\":0,\"ticks\":\"\"}}}],\"scatterternary\":[{\"type\":\"scatterternary\",\"marker\":{\"colorbar\":{\"outlinewidth\":0,\"ticks\":\"\"}}}],\"scattercarpet\":[{\"type\":\"scattercarpet\",\"marker\":{\"colorbar\":{\"outlinewidth\":0,\"ticks\":\"\"}}}],\"carpet\":[{\"aaxis\":{\"endlinecolor\":\"#2a3f5f\",\"gridcolor\":\"white\",\"linecolor\":\"white\",\"minorgridcolor\":\"white\",\"startlinecolor\":\"#2a3f5f\"},\"baxis\":{\"endlinecolor\":\"#2a3f5f\",\"gridcolor\":\"white\",\"linecolor\":\"white\",\"minorgridcolor\":\"white\",\"startlinecolor\":\"#2a3f5f\"},\"type\":\"carpet\"}],\"table\":[{\"cells\":{\"fill\":{\"color\":\"#EBF0F8\"},\"line\":{\"color\":\"white\"}},\"header\":{\"fill\":{\"color\":\"#C8D4E3\"},\"line\":{\"color\":\"white\"}},\"type\":\"table\"}],\"barpolar\":[{\"marker\":{\"line\":{\"color\":\"#E5ECF6\",\"width\":0.5},\"pattern\":{\"fillmode\":\"overlay\",\"size\":10,\"solidity\":0.2}},\"type\":\"barpolar\"}],\"pie\":[{\"automargin\":true,\"type\":\"pie\"}]},\"layout\":{\"autotypenumbers\":\"strict\",\"colorway\":[\"#636efa\",\"#EF553B\",\"#00cc96\",\"#ab63fa\",\"#FFA15A\",\"#19d3f3\",\"#FF6692\",\"#B6E880\",\"#FF97FF\",\"#FECB52\"],\"font\":{\"color\":\"#2a3f5f\"},\"hovermode\":\"closest\",\"hoverlabel\":{\"align\":\"left\"},\"paper_bgcolor\":\"white\",\"plot_bgcolor\":\"#E5ECF6\",\"polar\":{\"bgcolor\":\"#E5ECF6\",\"angularaxis\":{\"gridcolor\":\"white\",\"linecolor\":\"white\",\"ticks\":\"\"},\"radialaxis\":{\"gridcolor\":\"white\",\"linecolor\":\"white\",\"ticks\":\"\"}},\"ternary\":{\"bgcolor\":\"#E5ECF6\",\"aaxis\":{\"gridcolor\":\"white\",\"linecolor\":\"white\",\"ticks\":\"\"},\"baxis\":{\"gridcolor\":\"white\",\"linecolor\":\"white\",\"ticks\":\"\"},\"caxis\":{\"gridcolor\":\"white\",\"linecolor\":\"white\",\"ticks\":\"\"}},\"coloraxis\":{\"colorbar\":{\"outlinewidth\":0,\"ticks\":\"\"}},\"colorscale\":{\"sequential\":[[0.0,\"#0d0887\"],[0.1111111111111111,\"#46039f\"],[0.2222222222222222,\"#7201a8\"],[0.3333333333333333,\"#9c179e\"],[0.4444444444444444,\"#bd3786\"],[0.5555555555555556,\"#d8576b\"],[0.6666666666666666,\"#ed7953\"],[0.7777777777777778,\"#fb9f3a\"],[0.8888888888888888,\"#fdca26\"],[1.0,\"#f0f921\"]],\"sequentialminus\":[[0.0,\"#0d0887\"],[0.1111111111111111,\"#46039f\"],[0.2222222222222222,\"#7201a8\"],[0.3333333333333333,\"#9c179e\"],[0.4444444444444444,\"#bd3786\"],[0.5555555555555556,\"#d8576b\"],[0.6666666666666666,\"#ed7953\"],[0.7777777777777778,\"#fb9f3a\"],[0.8888888888888888,\"#fdca26\"],[1.0,\"#f0f921\"]],\"diverging\":[[0,\"#8e0152\"],[0.1,\"#c51b7d\"],[0.2,\"#de77ae\"],[0.3,\"#f1b6da\"],[0.4,\"#fde0ef\"],[0.5,\"#f7f7f7\"],[0.6,\"#e6f5d0\"],[0.7,\"#b8e186\"],[0.8,\"#7fbc41\"],[0.9,\"#4d9221\"],[1,\"#276419\"]]},\"xaxis\":{\"gridcolor\":\"white\",\"linecolor\":\"white\",\"ticks\":\"\",\"title\":{\"standoff\":15},\"zerolinecolor\":\"white\",\"automargin\":true,\"zerolinewidth\":2},\"yaxis\":{\"gridcolor\":\"white\",\"linecolor\":\"white\",\"ticks\":\"\",\"title\":{\"standoff\":15},\"zerolinecolor\":\"white\",\"automargin\":true,\"zerolinewidth\":2},\"scene\":{\"xaxis\":{\"backgroundcolor\":\"#E5ECF6\",\"gridcolor\":\"white\",\"linecolor\":\"white\",\"showbackground\":true,\"ticks\":\"\",\"zerolinecolor\":\"white\",\"gridwidth\":2},\"yaxis\":{\"backgroundcolor\":\"#E5ECF6\",\"gridcolor\":\"white\",\"linecolor\":\"white\",\"showbackground\":true,\"ticks\":\"\",\"zerolinecolor\":\"white\",\"gridwidth\":2},\"zaxis\":{\"backgroundcolor\":\"#E5ECF6\",\"gridcolor\":\"white\",\"linecolor\":\"white\",\"showbackground\":true,\"ticks\":\"\",\"zerolinecolor\":\"white\",\"gridwidth\":2}},\"shapedefaults\":{\"line\":{\"color\":\"#2a3f5f\"}},\"annotationdefaults\":{\"arrowcolor\":\"#2a3f5f\",\"arrowhead\":0,\"arrowwidth\":1},\"geo\":{\"bgcolor\":\"white\",\"landcolor\":\"#E5ECF6\",\"subunitcolor\":\"white\",\"showland\":true,\"showlakes\":true,\"lakecolor\":\"white\"},\"title\":{\"x\":0.05},\"mapbox\":{\"style\":\"light\"}}},\"xaxis\":{\"anchor\":\"y\",\"domain\":[0.0,1.0],\"title\":{\"text\":\"County\"}},\"yaxis\":{\"anchor\":\"x\",\"domain\":[0.0,1.0],\"title\":{\"text\":\"Count\"}},\"legend\":{\"title\":{\"text\":\"variable\"},\"tracegroupgap\":0},\"title\":{\"text\":\"Public EV Chargers per County\"},\"barmode\":\"relative\"},                        {\"responsive\": true}                    ).then(function(){\n",
       "                            \n",
       "var gd = document.getElementById('212a8763-7079-40f0-b0ac-83ba8a7eb25e');\n",
       "var x = new MutationObserver(function (mutations, observer) {{\n",
       "        var display = window.getComputedStyle(gd).display;\n",
       "        if (!display || display === 'none') {{\n",
       "            console.log([gd, 'removed!']);\n",
       "            Plotly.purge(gd);\n",
       "            observer.disconnect();\n",
       "        }}\n",
       "}});\n",
       "\n",
       "// Listen for the removal of the full notebook cells\n",
       "var notebookContainer = gd.closest('#notebook-container');\n",
       "if (notebookContainer) {{\n",
       "    x.observe(notebookContainer, {childList: true});\n",
       "}}\n",
       "\n",
       "// Listen for the clearing of the current output cell\n",
       "var outputEl = gd.closest('.output');\n",
       "if (outputEl) {{\n",
       "    x.observe(outputEl, {childList: true});\n",
       "}}\n",
       "\n",
       "                        })                };                });            </script>        </div>"
      ]
     },
     "metadata": {},
     "output_type": "display_data"
    }
   ],
   "source": [
    "px.bar(ev_pub, x=\"County\",y=[\"Public Level 1\", \"Public Level 2\", \"Public DC Fast\"], \n",
    "       labels={'value': 'Count'}, title='Public EV Chargers per County')"
   ]
  },
  {
   "cell_type": "code",
   "execution_count": 138,
   "id": "6d57b457",
   "metadata": {},
   "outputs": [
    {
     "data": {
      "application/vnd.plotly.v1+json": {
       "config": {
        "plotlyServerURL": "https://plot.ly"
       },
       "data": [
        {
         "alignmentgroup": "True",
         "hovertemplate": "variable=Shared Private Level 1<br>County=%{x}<br>Count=%{y}<extra></extra>",
         "legendgroup": "Shared Private Level 1",
         "marker": {
          "color": "#636efa",
          "pattern": {
           "shape": ""
          }
         },
         "name": "Shared Private Level 1",
         "offsetgroup": "Shared Private Level 1",
         "orientation": "v",
         "showlegend": true,
         "textposition": "auto",
         "type": "bar",
         "x": [
          "Alameda",
          "Alpine",
          "Amador",
          "Butte",
          "Calaveras",
          "Colusa",
          "Contra Costa",
          "Del Norte",
          "El Dorado",
          "Fresno",
          "Glenn",
          "Humboldt",
          "Imperial",
          "Inyo",
          "Kern",
          "Kings",
          "Lake",
          "Lassen",
          "Los Angeles",
          "Madera",
          "Marin",
          "Mariposa",
          "Mendocino",
          "Merced",
          "Modoc",
          "Mono",
          "Monterey",
          "Napa",
          "Nevada",
          "Orange",
          "Placer",
          "Plumas",
          "Riverside",
          "Sacramento",
          "San Benito",
          "San Bernardino",
          "San Diego",
          "San Francisco",
          "San Joaquin",
          "San Luis Obispo",
          "San Mateo",
          "Santa Barbara",
          "Santa Clara",
          "Santa Cruz",
          "Shasta",
          "Sierra",
          "Siskiyou",
          "Solano",
          "Sonoma",
          "Stanislaus",
          "Sutter",
          "Tehama",
          "Trinity",
          "Tulare",
          "Tuolumne",
          "Unknown",
          "Ventura",
          "Yolo",
          "Yuba"
         ],
         "xaxis": "x",
         "y": [
          70,
          0,
          0,
          0,
          2,
          0,
          2,
          0,
          0,
          1,
          0,
          0,
          0,
          0,
          1,
          0,
          0,
          1,
          147,
          1,
          0,
          0,
          0,
          2,
          0,
          0,
          0,
          0,
          1,
          0,
          1,
          0,
          1,
          18,
          0,
          11,
          17,
          6,
          0,
          1,
          36,
          2,
          75,
          0,
          0,
          0,
          1,
          0,
          0,
          1,
          0,
          0,
          0,
          3,
          0,
          0,
          0,
          0,
          0
         ],
         "yaxis": "y"
        },
        {
         "alignmentgroup": "True",
         "hovertemplate": "variable=Shared Private Level 2<br>County=%{x}<br>Count=%{y}<extra></extra>",
         "legendgroup": "Shared Private Level 2",
         "marker": {
          "color": "#EF553B",
          "pattern": {
           "shape": ""
          }
         },
         "name": "Shared Private Level 2",
         "offsetgroup": "Shared Private Level 2",
         "orientation": "v",
         "showlegend": true,
         "textposition": "auto",
         "type": "bar",
         "x": [
          "Alameda",
          "Alpine",
          "Amador",
          "Butte",
          "Calaveras",
          "Colusa",
          "Contra Costa",
          "Del Norte",
          "El Dorado",
          "Fresno",
          "Glenn",
          "Humboldt",
          "Imperial",
          "Inyo",
          "Kern",
          "Kings",
          "Lake",
          "Lassen",
          "Los Angeles",
          "Madera",
          "Marin",
          "Mariposa",
          "Mendocino",
          "Merced",
          "Modoc",
          "Mono",
          "Monterey",
          "Napa",
          "Nevada",
          "Orange",
          "Placer",
          "Plumas",
          "Riverside",
          "Sacramento",
          "San Benito",
          "San Bernardino",
          "San Diego",
          "San Francisco",
          "San Joaquin",
          "San Luis Obispo",
          "San Mateo",
          "Santa Barbara",
          "Santa Clara",
          "Santa Cruz",
          "Shasta",
          "Sierra",
          "Siskiyou",
          "Solano",
          "Sonoma",
          "Stanislaus",
          "Sutter",
          "Tehama",
          "Trinity",
          "Tulare",
          "Tuolumne",
          "Unknown",
          "Ventura",
          "Yolo",
          "Yuba"
         ],
         "xaxis": "x",
         "y": [
          1583,
          0,
          6,
          23,
          0,
          2,
          599,
          0,
          5,
          329,
          0,
          12,
          11,
          6,
          53,
          60,
          0,
          0,
          12252,
          17,
          187,
          0,
          11,
          21,
          0,
          0,
          78,
          33,
          5,
          2581,
          106,
          0,
          186,
          639,
          10,
          373,
          7649,
          772,
          191,
          98,
          2054,
          157,
          11440,
          78,
          38,
          0,
          4,
          126,
          228,
          35,
          6,
          4,
          0,
          11,
          6,
          14,
          332,
          127,
          7
         ],
         "yaxis": "y"
        },
        {
         "alignmentgroup": "True",
         "hovertemplate": "variable=Shared Private DC Fast<br>County=%{x}<br>Count=%{y}<extra></extra>",
         "legendgroup": "Shared Private DC Fast",
         "marker": {
          "color": "#00cc96",
          "pattern": {
           "shape": ""
          }
         },
         "name": "Shared Private DC Fast",
         "offsetgroup": "Shared Private DC Fast",
         "orientation": "v",
         "showlegend": true,
         "textposition": "auto",
         "type": "bar",
         "x": [
          "Alameda",
          "Alpine",
          "Amador",
          "Butte",
          "Calaveras",
          "Colusa",
          "Contra Costa",
          "Del Norte",
          "El Dorado",
          "Fresno",
          "Glenn",
          "Humboldt",
          "Imperial",
          "Inyo",
          "Kern",
          "Kings",
          "Lake",
          "Lassen",
          "Los Angeles",
          "Madera",
          "Marin",
          "Mariposa",
          "Mendocino",
          "Merced",
          "Modoc",
          "Mono",
          "Monterey",
          "Napa",
          "Nevada",
          "Orange",
          "Placer",
          "Plumas",
          "Riverside",
          "Sacramento",
          "San Benito",
          "San Bernardino",
          "San Diego",
          "San Francisco",
          "San Joaquin",
          "San Luis Obispo",
          "San Mateo",
          "Santa Barbara",
          "Santa Clara",
          "Santa Cruz",
          "Shasta",
          "Sierra",
          "Siskiyou",
          "Solano",
          "Sonoma",
          "Stanislaus",
          "Sutter",
          "Tehama",
          "Trinity",
          "Tulare",
          "Tuolumne",
          "Unknown",
          "Ventura",
          "Yolo",
          "Yuba"
         ],
         "xaxis": "x",
         "y": [
          35,
          0,
          0,
          0,
          0,
          0,
          2,
          0,
          0,
          13,
          0,
          1,
          0,
          1,
          4,
          0,
          0,
          0,
          98,
          2,
          1,
          0,
          0,
          2,
          0,
          0,
          1,
          1,
          0,
          20,
          1,
          0,
          10,
          6,
          0,
          32,
          49,
          24,
          10,
          1,
          26,
          2,
          55,
          0,
          3,
          0,
          0,
          5,
          15,
          13,
          0,
          0,
          0,
          22,
          0,
          0,
          8,
          0,
          0
         ],
         "yaxis": "y"
        }
       ],
       "layout": {
        "barmode": "relative",
        "legend": {
         "title": {
          "text": "variable"
         },
         "tracegroupgap": 0
        },
        "template": {
         "data": {
          "bar": [
           {
            "error_x": {
             "color": "#2a3f5f"
            },
            "error_y": {
             "color": "#2a3f5f"
            },
            "marker": {
             "line": {
              "color": "#E5ECF6",
              "width": 0.5
             },
             "pattern": {
              "fillmode": "overlay",
              "size": 10,
              "solidity": 0.2
             }
            },
            "type": "bar"
           }
          ],
          "barpolar": [
           {
            "marker": {
             "line": {
              "color": "#E5ECF6",
              "width": 0.5
             },
             "pattern": {
              "fillmode": "overlay",
              "size": 10,
              "solidity": 0.2
             }
            },
            "type": "barpolar"
           }
          ],
          "carpet": [
           {
            "aaxis": {
             "endlinecolor": "#2a3f5f",
             "gridcolor": "white",
             "linecolor": "white",
             "minorgridcolor": "white",
             "startlinecolor": "#2a3f5f"
            },
            "baxis": {
             "endlinecolor": "#2a3f5f",
             "gridcolor": "white",
             "linecolor": "white",
             "minorgridcolor": "white",
             "startlinecolor": "#2a3f5f"
            },
            "type": "carpet"
           }
          ],
          "choropleth": [
           {
            "colorbar": {
             "outlinewidth": 0,
             "ticks": ""
            },
            "type": "choropleth"
           }
          ],
          "contour": [
           {
            "colorbar": {
             "outlinewidth": 0,
             "ticks": ""
            },
            "colorscale": [
             [
              0,
              "#0d0887"
             ],
             [
              0.1111111111111111,
              "#46039f"
             ],
             [
              0.2222222222222222,
              "#7201a8"
             ],
             [
              0.3333333333333333,
              "#9c179e"
             ],
             [
              0.4444444444444444,
              "#bd3786"
             ],
             [
              0.5555555555555556,
              "#d8576b"
             ],
             [
              0.6666666666666666,
              "#ed7953"
             ],
             [
              0.7777777777777778,
              "#fb9f3a"
             ],
             [
              0.8888888888888888,
              "#fdca26"
             ],
             [
              1,
              "#f0f921"
             ]
            ],
            "type": "contour"
           }
          ],
          "contourcarpet": [
           {
            "colorbar": {
             "outlinewidth": 0,
             "ticks": ""
            },
            "type": "contourcarpet"
           }
          ],
          "heatmap": [
           {
            "colorbar": {
             "outlinewidth": 0,
             "ticks": ""
            },
            "colorscale": [
             [
              0,
              "#0d0887"
             ],
             [
              0.1111111111111111,
              "#46039f"
             ],
             [
              0.2222222222222222,
              "#7201a8"
             ],
             [
              0.3333333333333333,
              "#9c179e"
             ],
             [
              0.4444444444444444,
              "#bd3786"
             ],
             [
              0.5555555555555556,
              "#d8576b"
             ],
             [
              0.6666666666666666,
              "#ed7953"
             ],
             [
              0.7777777777777778,
              "#fb9f3a"
             ],
             [
              0.8888888888888888,
              "#fdca26"
             ],
             [
              1,
              "#f0f921"
             ]
            ],
            "type": "heatmap"
           }
          ],
          "heatmapgl": [
           {
            "colorbar": {
             "outlinewidth": 0,
             "ticks": ""
            },
            "colorscale": [
             [
              0,
              "#0d0887"
             ],
             [
              0.1111111111111111,
              "#46039f"
             ],
             [
              0.2222222222222222,
              "#7201a8"
             ],
             [
              0.3333333333333333,
              "#9c179e"
             ],
             [
              0.4444444444444444,
              "#bd3786"
             ],
             [
              0.5555555555555556,
              "#d8576b"
             ],
             [
              0.6666666666666666,
              "#ed7953"
             ],
             [
              0.7777777777777778,
              "#fb9f3a"
             ],
             [
              0.8888888888888888,
              "#fdca26"
             ],
             [
              1,
              "#f0f921"
             ]
            ],
            "type": "heatmapgl"
           }
          ],
          "histogram": [
           {
            "marker": {
             "pattern": {
              "fillmode": "overlay",
              "size": 10,
              "solidity": 0.2
             }
            },
            "type": "histogram"
           }
          ],
          "histogram2d": [
           {
            "colorbar": {
             "outlinewidth": 0,
             "ticks": ""
            },
            "colorscale": [
             [
              0,
              "#0d0887"
             ],
             [
              0.1111111111111111,
              "#46039f"
             ],
             [
              0.2222222222222222,
              "#7201a8"
             ],
             [
              0.3333333333333333,
              "#9c179e"
             ],
             [
              0.4444444444444444,
              "#bd3786"
             ],
             [
              0.5555555555555556,
              "#d8576b"
             ],
             [
              0.6666666666666666,
              "#ed7953"
             ],
             [
              0.7777777777777778,
              "#fb9f3a"
             ],
             [
              0.8888888888888888,
              "#fdca26"
             ],
             [
              1,
              "#f0f921"
             ]
            ],
            "type": "histogram2d"
           }
          ],
          "histogram2dcontour": [
           {
            "colorbar": {
             "outlinewidth": 0,
             "ticks": ""
            },
            "colorscale": [
             [
              0,
              "#0d0887"
             ],
             [
              0.1111111111111111,
              "#46039f"
             ],
             [
              0.2222222222222222,
              "#7201a8"
             ],
             [
              0.3333333333333333,
              "#9c179e"
             ],
             [
              0.4444444444444444,
              "#bd3786"
             ],
             [
              0.5555555555555556,
              "#d8576b"
             ],
             [
              0.6666666666666666,
              "#ed7953"
             ],
             [
              0.7777777777777778,
              "#fb9f3a"
             ],
             [
              0.8888888888888888,
              "#fdca26"
             ],
             [
              1,
              "#f0f921"
             ]
            ],
            "type": "histogram2dcontour"
           }
          ],
          "mesh3d": [
           {
            "colorbar": {
             "outlinewidth": 0,
             "ticks": ""
            },
            "type": "mesh3d"
           }
          ],
          "parcoords": [
           {
            "line": {
             "colorbar": {
              "outlinewidth": 0,
              "ticks": ""
             }
            },
            "type": "parcoords"
           }
          ],
          "pie": [
           {
            "automargin": true,
            "type": "pie"
           }
          ],
          "scatter": [
           {
            "fillpattern": {
             "fillmode": "overlay",
             "size": 10,
             "solidity": 0.2
            },
            "type": "scatter"
           }
          ],
          "scatter3d": [
           {
            "line": {
             "colorbar": {
              "outlinewidth": 0,
              "ticks": ""
             }
            },
            "marker": {
             "colorbar": {
              "outlinewidth": 0,
              "ticks": ""
             }
            },
            "type": "scatter3d"
           }
          ],
          "scattercarpet": [
           {
            "marker": {
             "colorbar": {
              "outlinewidth": 0,
              "ticks": ""
             }
            },
            "type": "scattercarpet"
           }
          ],
          "scattergeo": [
           {
            "marker": {
             "colorbar": {
              "outlinewidth": 0,
              "ticks": ""
             }
            },
            "type": "scattergeo"
           }
          ],
          "scattergl": [
           {
            "marker": {
             "colorbar": {
              "outlinewidth": 0,
              "ticks": ""
             }
            },
            "type": "scattergl"
           }
          ],
          "scattermapbox": [
           {
            "marker": {
             "colorbar": {
              "outlinewidth": 0,
              "ticks": ""
             }
            },
            "type": "scattermapbox"
           }
          ],
          "scatterpolar": [
           {
            "marker": {
             "colorbar": {
              "outlinewidth": 0,
              "ticks": ""
             }
            },
            "type": "scatterpolar"
           }
          ],
          "scatterpolargl": [
           {
            "marker": {
             "colorbar": {
              "outlinewidth": 0,
              "ticks": ""
             }
            },
            "type": "scatterpolargl"
           }
          ],
          "scatterternary": [
           {
            "marker": {
             "colorbar": {
              "outlinewidth": 0,
              "ticks": ""
             }
            },
            "type": "scatterternary"
           }
          ],
          "surface": [
           {
            "colorbar": {
             "outlinewidth": 0,
             "ticks": ""
            },
            "colorscale": [
             [
              0,
              "#0d0887"
             ],
             [
              0.1111111111111111,
              "#46039f"
             ],
             [
              0.2222222222222222,
              "#7201a8"
             ],
             [
              0.3333333333333333,
              "#9c179e"
             ],
             [
              0.4444444444444444,
              "#bd3786"
             ],
             [
              0.5555555555555556,
              "#d8576b"
             ],
             [
              0.6666666666666666,
              "#ed7953"
             ],
             [
              0.7777777777777778,
              "#fb9f3a"
             ],
             [
              0.8888888888888888,
              "#fdca26"
             ],
             [
              1,
              "#f0f921"
             ]
            ],
            "type": "surface"
           }
          ],
          "table": [
           {
            "cells": {
             "fill": {
              "color": "#EBF0F8"
             },
             "line": {
              "color": "white"
             }
            },
            "header": {
             "fill": {
              "color": "#C8D4E3"
             },
             "line": {
              "color": "white"
             }
            },
            "type": "table"
           }
          ]
         },
         "layout": {
          "annotationdefaults": {
           "arrowcolor": "#2a3f5f",
           "arrowhead": 0,
           "arrowwidth": 1
          },
          "autotypenumbers": "strict",
          "coloraxis": {
           "colorbar": {
            "outlinewidth": 0,
            "ticks": ""
           }
          },
          "colorscale": {
           "diverging": [
            [
             0,
             "#8e0152"
            ],
            [
             0.1,
             "#c51b7d"
            ],
            [
             0.2,
             "#de77ae"
            ],
            [
             0.3,
             "#f1b6da"
            ],
            [
             0.4,
             "#fde0ef"
            ],
            [
             0.5,
             "#f7f7f7"
            ],
            [
             0.6,
             "#e6f5d0"
            ],
            [
             0.7,
             "#b8e186"
            ],
            [
             0.8,
             "#7fbc41"
            ],
            [
             0.9,
             "#4d9221"
            ],
            [
             1,
             "#276419"
            ]
           ],
           "sequential": [
            [
             0,
             "#0d0887"
            ],
            [
             0.1111111111111111,
             "#46039f"
            ],
            [
             0.2222222222222222,
             "#7201a8"
            ],
            [
             0.3333333333333333,
             "#9c179e"
            ],
            [
             0.4444444444444444,
             "#bd3786"
            ],
            [
             0.5555555555555556,
             "#d8576b"
            ],
            [
             0.6666666666666666,
             "#ed7953"
            ],
            [
             0.7777777777777778,
             "#fb9f3a"
            ],
            [
             0.8888888888888888,
             "#fdca26"
            ],
            [
             1,
             "#f0f921"
            ]
           ],
           "sequentialminus": [
            [
             0,
             "#0d0887"
            ],
            [
             0.1111111111111111,
             "#46039f"
            ],
            [
             0.2222222222222222,
             "#7201a8"
            ],
            [
             0.3333333333333333,
             "#9c179e"
            ],
            [
             0.4444444444444444,
             "#bd3786"
            ],
            [
             0.5555555555555556,
             "#d8576b"
            ],
            [
             0.6666666666666666,
             "#ed7953"
            ],
            [
             0.7777777777777778,
             "#fb9f3a"
            ],
            [
             0.8888888888888888,
             "#fdca26"
            ],
            [
             1,
             "#f0f921"
            ]
           ]
          },
          "colorway": [
           "#636efa",
           "#EF553B",
           "#00cc96",
           "#ab63fa",
           "#FFA15A",
           "#19d3f3",
           "#FF6692",
           "#B6E880",
           "#FF97FF",
           "#FECB52"
          ],
          "font": {
           "color": "#2a3f5f"
          },
          "geo": {
           "bgcolor": "white",
           "lakecolor": "white",
           "landcolor": "#E5ECF6",
           "showlakes": true,
           "showland": true,
           "subunitcolor": "white"
          },
          "hoverlabel": {
           "align": "left"
          },
          "hovermode": "closest",
          "mapbox": {
           "style": "light"
          },
          "paper_bgcolor": "white",
          "plot_bgcolor": "#E5ECF6",
          "polar": {
           "angularaxis": {
            "gridcolor": "white",
            "linecolor": "white",
            "ticks": ""
           },
           "bgcolor": "#E5ECF6",
           "radialaxis": {
            "gridcolor": "white",
            "linecolor": "white",
            "ticks": ""
           }
          },
          "scene": {
           "xaxis": {
            "backgroundcolor": "#E5ECF6",
            "gridcolor": "white",
            "gridwidth": 2,
            "linecolor": "white",
            "showbackground": true,
            "ticks": "",
            "zerolinecolor": "white"
           },
           "yaxis": {
            "backgroundcolor": "#E5ECF6",
            "gridcolor": "white",
            "gridwidth": 2,
            "linecolor": "white",
            "showbackground": true,
            "ticks": "",
            "zerolinecolor": "white"
           },
           "zaxis": {
            "backgroundcolor": "#E5ECF6",
            "gridcolor": "white",
            "gridwidth": 2,
            "linecolor": "white",
            "showbackground": true,
            "ticks": "",
            "zerolinecolor": "white"
           }
          },
          "shapedefaults": {
           "line": {
            "color": "#2a3f5f"
           }
          },
          "ternary": {
           "aaxis": {
            "gridcolor": "white",
            "linecolor": "white",
            "ticks": ""
           },
           "baxis": {
            "gridcolor": "white",
            "linecolor": "white",
            "ticks": ""
           },
           "bgcolor": "#E5ECF6",
           "caxis": {
            "gridcolor": "white",
            "linecolor": "white",
            "ticks": ""
           }
          },
          "title": {
           "x": 0.05
          },
          "xaxis": {
           "automargin": true,
           "gridcolor": "white",
           "linecolor": "white",
           "ticks": "",
           "title": {
            "standoff": 15
           },
           "zerolinecolor": "white",
           "zerolinewidth": 2
          },
          "yaxis": {
           "automargin": true,
           "gridcolor": "white",
           "linecolor": "white",
           "ticks": "",
           "title": {
            "standoff": 15
           },
           "zerolinecolor": "white",
           "zerolinewidth": 2
          }
         }
        },
        "title": {
         "text": "Private EV Chargers per County"
        },
        "xaxis": {
         "anchor": "y",
         "domain": [
          0,
          1
         ],
         "title": {
          "text": "County"
         }
        },
        "yaxis": {
         "anchor": "x",
         "domain": [
          0,
          1
         ],
         "title": {
          "text": "Count"
         }
        }
       }
      },
      "text/html": [
       "<div>                            <div id=\"61c20433-bf38-4c7a-86de-aadda11712f8\" class=\"plotly-graph-div\" style=\"height:525px; width:100%;\"></div>            <script type=\"text/javascript\">                require([\"plotly\"], function(Plotly) {                    window.PLOTLYENV=window.PLOTLYENV || {};                                    if (document.getElementById(\"61c20433-bf38-4c7a-86de-aadda11712f8\")) {                    Plotly.newPlot(                        \"61c20433-bf38-4c7a-86de-aadda11712f8\",                        [{\"alignmentgroup\":\"True\",\"hovertemplate\":\"variable=Shared Private Level 1<br>County=%{x}<br>Count=%{y}<extra></extra>\",\"legendgroup\":\"Shared Private Level 1\",\"marker\":{\"color\":\"#636efa\",\"pattern\":{\"shape\":\"\"}},\"name\":\"Shared Private Level 1\",\"offsetgroup\":\"Shared Private Level 1\",\"orientation\":\"v\",\"showlegend\":true,\"textposition\":\"auto\",\"x\":[\"Alameda\",\"Alpine\",\"Amador\",\"Butte\",\"Calaveras\",\"Colusa\",\"Contra Costa\",\"Del Norte\",\"El Dorado\",\"Fresno\",\"Glenn\",\"Humboldt\",\"Imperial\",\"Inyo\",\"Kern\",\"Kings\",\"Lake\",\"Lassen\",\"Los Angeles\",\"Madera\",\"Marin\",\"Mariposa\",\"Mendocino\",\"Merced\",\"Modoc\",\"Mono\",\"Monterey\",\"Napa\",\"Nevada\",\"Orange\",\"Placer\",\"Plumas\",\"Riverside\",\"Sacramento\",\"San Benito\",\"San Bernardino\",\"San Diego\",\"San Francisco\",\"San Joaquin\",\"San Luis Obispo\",\"San Mateo\",\"Santa Barbara\",\"Santa Clara\",\"Santa Cruz\",\"Shasta\",\"Sierra\",\"Siskiyou\",\"Solano\",\"Sonoma\",\"Stanislaus\",\"Sutter\",\"Tehama\",\"Trinity\",\"Tulare\",\"Tuolumne\",\"Unknown\",\"Ventura\",\"Yolo\",\"Yuba\"],\"xaxis\":\"x\",\"y\":[70,0,0,0,2,0,2,0,0,1,0,0,0,0,1,0,0,1,147,1,0,0,0,2,0,0,0,0,1,0,1,0,1,18,0,11,17,6,0,1,36,2,75,0,0,0,1,0,0,1,0,0,0,3,0,0,0,0,0],\"yaxis\":\"y\",\"type\":\"bar\"},{\"alignmentgroup\":\"True\",\"hovertemplate\":\"variable=Shared Private Level 2<br>County=%{x}<br>Count=%{y}<extra></extra>\",\"legendgroup\":\"Shared Private Level 2\",\"marker\":{\"color\":\"#EF553B\",\"pattern\":{\"shape\":\"\"}},\"name\":\"Shared Private Level 2\",\"offsetgroup\":\"Shared Private Level 2\",\"orientation\":\"v\",\"showlegend\":true,\"textposition\":\"auto\",\"x\":[\"Alameda\",\"Alpine\",\"Amador\",\"Butte\",\"Calaveras\",\"Colusa\",\"Contra Costa\",\"Del Norte\",\"El Dorado\",\"Fresno\",\"Glenn\",\"Humboldt\",\"Imperial\",\"Inyo\",\"Kern\",\"Kings\",\"Lake\",\"Lassen\",\"Los Angeles\",\"Madera\",\"Marin\",\"Mariposa\",\"Mendocino\",\"Merced\",\"Modoc\",\"Mono\",\"Monterey\",\"Napa\",\"Nevada\",\"Orange\",\"Placer\",\"Plumas\",\"Riverside\",\"Sacramento\",\"San Benito\",\"San Bernardino\",\"San Diego\",\"San Francisco\",\"San Joaquin\",\"San Luis Obispo\",\"San Mateo\",\"Santa Barbara\",\"Santa Clara\",\"Santa Cruz\",\"Shasta\",\"Sierra\",\"Siskiyou\",\"Solano\",\"Sonoma\",\"Stanislaus\",\"Sutter\",\"Tehama\",\"Trinity\",\"Tulare\",\"Tuolumne\",\"Unknown\",\"Ventura\",\"Yolo\",\"Yuba\"],\"xaxis\":\"x\",\"y\":[1583,0,6,23,0,2,599,0,5,329,0,12,11,6,53,60,0,0,12252,17,187,0,11,21,0,0,78,33,5,2581,106,0,186,639,10,373,7649,772,191,98,2054,157,11440,78,38,0,4,126,228,35,6,4,0,11,6,14,332,127,7],\"yaxis\":\"y\",\"type\":\"bar\"},{\"alignmentgroup\":\"True\",\"hovertemplate\":\"variable=Shared Private DC Fast<br>County=%{x}<br>Count=%{y}<extra></extra>\",\"legendgroup\":\"Shared Private DC Fast\",\"marker\":{\"color\":\"#00cc96\",\"pattern\":{\"shape\":\"\"}},\"name\":\"Shared Private DC Fast\",\"offsetgroup\":\"Shared Private DC Fast\",\"orientation\":\"v\",\"showlegend\":true,\"textposition\":\"auto\",\"x\":[\"Alameda\",\"Alpine\",\"Amador\",\"Butte\",\"Calaveras\",\"Colusa\",\"Contra Costa\",\"Del Norte\",\"El Dorado\",\"Fresno\",\"Glenn\",\"Humboldt\",\"Imperial\",\"Inyo\",\"Kern\",\"Kings\",\"Lake\",\"Lassen\",\"Los Angeles\",\"Madera\",\"Marin\",\"Mariposa\",\"Mendocino\",\"Merced\",\"Modoc\",\"Mono\",\"Monterey\",\"Napa\",\"Nevada\",\"Orange\",\"Placer\",\"Plumas\",\"Riverside\",\"Sacramento\",\"San Benito\",\"San Bernardino\",\"San Diego\",\"San Francisco\",\"San Joaquin\",\"San Luis Obispo\",\"San Mateo\",\"Santa Barbara\",\"Santa Clara\",\"Santa Cruz\",\"Shasta\",\"Sierra\",\"Siskiyou\",\"Solano\",\"Sonoma\",\"Stanislaus\",\"Sutter\",\"Tehama\",\"Trinity\",\"Tulare\",\"Tuolumne\",\"Unknown\",\"Ventura\",\"Yolo\",\"Yuba\"],\"xaxis\":\"x\",\"y\":[35,0,0,0,0,0,2,0,0,13,0,1,0,1,4,0,0,0,98,2,1,0,0,2,0,0,1,1,0,20,1,0,10,6,0,32,49,24,10,1,26,2,55,0,3,0,0,5,15,13,0,0,0,22,0,0,8,0,0],\"yaxis\":\"y\",\"type\":\"bar\"}],                        {\"template\":{\"data\":{\"histogram2dcontour\":[{\"type\":\"histogram2dcontour\",\"colorbar\":{\"outlinewidth\":0,\"ticks\":\"\"},\"colorscale\":[[0.0,\"#0d0887\"],[0.1111111111111111,\"#46039f\"],[0.2222222222222222,\"#7201a8\"],[0.3333333333333333,\"#9c179e\"],[0.4444444444444444,\"#bd3786\"],[0.5555555555555556,\"#d8576b\"],[0.6666666666666666,\"#ed7953\"],[0.7777777777777778,\"#fb9f3a\"],[0.8888888888888888,\"#fdca26\"],[1.0,\"#f0f921\"]]}],\"choropleth\":[{\"type\":\"choropleth\",\"colorbar\":{\"outlinewidth\":0,\"ticks\":\"\"}}],\"histogram2d\":[{\"type\":\"histogram2d\",\"colorbar\":{\"outlinewidth\":0,\"ticks\":\"\"},\"colorscale\":[[0.0,\"#0d0887\"],[0.1111111111111111,\"#46039f\"],[0.2222222222222222,\"#7201a8\"],[0.3333333333333333,\"#9c179e\"],[0.4444444444444444,\"#bd3786\"],[0.5555555555555556,\"#d8576b\"],[0.6666666666666666,\"#ed7953\"],[0.7777777777777778,\"#fb9f3a\"],[0.8888888888888888,\"#fdca26\"],[1.0,\"#f0f921\"]]}],\"heatmap\":[{\"type\":\"heatmap\",\"colorbar\":{\"outlinewidth\":0,\"ticks\":\"\"},\"colorscale\":[[0.0,\"#0d0887\"],[0.1111111111111111,\"#46039f\"],[0.2222222222222222,\"#7201a8\"],[0.3333333333333333,\"#9c179e\"],[0.4444444444444444,\"#bd3786\"],[0.5555555555555556,\"#d8576b\"],[0.6666666666666666,\"#ed7953\"],[0.7777777777777778,\"#fb9f3a\"],[0.8888888888888888,\"#fdca26\"],[1.0,\"#f0f921\"]]}],\"heatmapgl\":[{\"type\":\"heatmapgl\",\"colorbar\":{\"outlinewidth\":0,\"ticks\":\"\"},\"colorscale\":[[0.0,\"#0d0887\"],[0.1111111111111111,\"#46039f\"],[0.2222222222222222,\"#7201a8\"],[0.3333333333333333,\"#9c179e\"],[0.4444444444444444,\"#bd3786\"],[0.5555555555555556,\"#d8576b\"],[0.6666666666666666,\"#ed7953\"],[0.7777777777777778,\"#fb9f3a\"],[0.8888888888888888,\"#fdca26\"],[1.0,\"#f0f921\"]]}],\"contourcarpet\":[{\"type\":\"contourcarpet\",\"colorbar\":{\"outlinewidth\":0,\"ticks\":\"\"}}],\"contour\":[{\"type\":\"contour\",\"colorbar\":{\"outlinewidth\":0,\"ticks\":\"\"},\"colorscale\":[[0.0,\"#0d0887\"],[0.1111111111111111,\"#46039f\"],[0.2222222222222222,\"#7201a8\"],[0.3333333333333333,\"#9c179e\"],[0.4444444444444444,\"#bd3786\"],[0.5555555555555556,\"#d8576b\"],[0.6666666666666666,\"#ed7953\"],[0.7777777777777778,\"#fb9f3a\"],[0.8888888888888888,\"#fdca26\"],[1.0,\"#f0f921\"]]}],\"surface\":[{\"type\":\"surface\",\"colorbar\":{\"outlinewidth\":0,\"ticks\":\"\"},\"colorscale\":[[0.0,\"#0d0887\"],[0.1111111111111111,\"#46039f\"],[0.2222222222222222,\"#7201a8\"],[0.3333333333333333,\"#9c179e\"],[0.4444444444444444,\"#bd3786\"],[0.5555555555555556,\"#d8576b\"],[0.6666666666666666,\"#ed7953\"],[0.7777777777777778,\"#fb9f3a\"],[0.8888888888888888,\"#fdca26\"],[1.0,\"#f0f921\"]]}],\"mesh3d\":[{\"type\":\"mesh3d\",\"colorbar\":{\"outlinewidth\":0,\"ticks\":\"\"}}],\"scatter\":[{\"fillpattern\":{\"fillmode\":\"overlay\",\"size\":10,\"solidity\":0.2},\"type\":\"scatter\"}],\"parcoords\":[{\"type\":\"parcoords\",\"line\":{\"colorbar\":{\"outlinewidth\":0,\"ticks\":\"\"}}}],\"scatterpolargl\":[{\"type\":\"scatterpolargl\",\"marker\":{\"colorbar\":{\"outlinewidth\":0,\"ticks\":\"\"}}}],\"bar\":[{\"error_x\":{\"color\":\"#2a3f5f\"},\"error_y\":{\"color\":\"#2a3f5f\"},\"marker\":{\"line\":{\"color\":\"#E5ECF6\",\"width\":0.5},\"pattern\":{\"fillmode\":\"overlay\",\"size\":10,\"solidity\":0.2}},\"type\":\"bar\"}],\"scattergeo\":[{\"type\":\"scattergeo\",\"marker\":{\"colorbar\":{\"outlinewidth\":0,\"ticks\":\"\"}}}],\"scatterpolar\":[{\"type\":\"scatterpolar\",\"marker\":{\"colorbar\":{\"outlinewidth\":0,\"ticks\":\"\"}}}],\"histogram\":[{\"marker\":{\"pattern\":{\"fillmode\":\"overlay\",\"size\":10,\"solidity\":0.2}},\"type\":\"histogram\"}],\"scattergl\":[{\"type\":\"scattergl\",\"marker\":{\"colorbar\":{\"outlinewidth\":0,\"ticks\":\"\"}}}],\"scatter3d\":[{\"type\":\"scatter3d\",\"line\":{\"colorbar\":{\"outlinewidth\":0,\"ticks\":\"\"}},\"marker\":{\"colorbar\":{\"outlinewidth\":0,\"ticks\":\"\"}}}],\"scattermapbox\":[{\"type\":\"scattermapbox\",\"marker\":{\"colorbar\":{\"outlinewidth\":0,\"ticks\":\"\"}}}],\"scatterternary\":[{\"type\":\"scatterternary\",\"marker\":{\"colorbar\":{\"outlinewidth\":0,\"ticks\":\"\"}}}],\"scattercarpet\":[{\"type\":\"scattercarpet\",\"marker\":{\"colorbar\":{\"outlinewidth\":0,\"ticks\":\"\"}}}],\"carpet\":[{\"aaxis\":{\"endlinecolor\":\"#2a3f5f\",\"gridcolor\":\"white\",\"linecolor\":\"white\",\"minorgridcolor\":\"white\",\"startlinecolor\":\"#2a3f5f\"},\"baxis\":{\"endlinecolor\":\"#2a3f5f\",\"gridcolor\":\"white\",\"linecolor\":\"white\",\"minorgridcolor\":\"white\",\"startlinecolor\":\"#2a3f5f\"},\"type\":\"carpet\"}],\"table\":[{\"cells\":{\"fill\":{\"color\":\"#EBF0F8\"},\"line\":{\"color\":\"white\"}},\"header\":{\"fill\":{\"color\":\"#C8D4E3\"},\"line\":{\"color\":\"white\"}},\"type\":\"table\"}],\"barpolar\":[{\"marker\":{\"line\":{\"color\":\"#E5ECF6\",\"width\":0.5},\"pattern\":{\"fillmode\":\"overlay\",\"size\":10,\"solidity\":0.2}},\"type\":\"barpolar\"}],\"pie\":[{\"automargin\":true,\"type\":\"pie\"}]},\"layout\":{\"autotypenumbers\":\"strict\",\"colorway\":[\"#636efa\",\"#EF553B\",\"#00cc96\",\"#ab63fa\",\"#FFA15A\",\"#19d3f3\",\"#FF6692\",\"#B6E880\",\"#FF97FF\",\"#FECB52\"],\"font\":{\"color\":\"#2a3f5f\"},\"hovermode\":\"closest\",\"hoverlabel\":{\"align\":\"left\"},\"paper_bgcolor\":\"white\",\"plot_bgcolor\":\"#E5ECF6\",\"polar\":{\"bgcolor\":\"#E5ECF6\",\"angularaxis\":{\"gridcolor\":\"white\",\"linecolor\":\"white\",\"ticks\":\"\"},\"radialaxis\":{\"gridcolor\":\"white\",\"linecolor\":\"white\",\"ticks\":\"\"}},\"ternary\":{\"bgcolor\":\"#E5ECF6\",\"aaxis\":{\"gridcolor\":\"white\",\"linecolor\":\"white\",\"ticks\":\"\"},\"baxis\":{\"gridcolor\":\"white\",\"linecolor\":\"white\",\"ticks\":\"\"},\"caxis\":{\"gridcolor\":\"white\",\"linecolor\":\"white\",\"ticks\":\"\"}},\"coloraxis\":{\"colorbar\":{\"outlinewidth\":0,\"ticks\":\"\"}},\"colorscale\":{\"sequential\":[[0.0,\"#0d0887\"],[0.1111111111111111,\"#46039f\"],[0.2222222222222222,\"#7201a8\"],[0.3333333333333333,\"#9c179e\"],[0.4444444444444444,\"#bd3786\"],[0.5555555555555556,\"#d8576b\"],[0.6666666666666666,\"#ed7953\"],[0.7777777777777778,\"#fb9f3a\"],[0.8888888888888888,\"#fdca26\"],[1.0,\"#f0f921\"]],\"sequentialminus\":[[0.0,\"#0d0887\"],[0.1111111111111111,\"#46039f\"],[0.2222222222222222,\"#7201a8\"],[0.3333333333333333,\"#9c179e\"],[0.4444444444444444,\"#bd3786\"],[0.5555555555555556,\"#d8576b\"],[0.6666666666666666,\"#ed7953\"],[0.7777777777777778,\"#fb9f3a\"],[0.8888888888888888,\"#fdca26\"],[1.0,\"#f0f921\"]],\"diverging\":[[0,\"#8e0152\"],[0.1,\"#c51b7d\"],[0.2,\"#de77ae\"],[0.3,\"#f1b6da\"],[0.4,\"#fde0ef\"],[0.5,\"#f7f7f7\"],[0.6,\"#e6f5d0\"],[0.7,\"#b8e186\"],[0.8,\"#7fbc41\"],[0.9,\"#4d9221\"],[1,\"#276419\"]]},\"xaxis\":{\"gridcolor\":\"white\",\"linecolor\":\"white\",\"ticks\":\"\",\"title\":{\"standoff\":15},\"zerolinecolor\":\"white\",\"automargin\":true,\"zerolinewidth\":2},\"yaxis\":{\"gridcolor\":\"white\",\"linecolor\":\"white\",\"ticks\":\"\",\"title\":{\"standoff\":15},\"zerolinecolor\":\"white\",\"automargin\":true,\"zerolinewidth\":2},\"scene\":{\"xaxis\":{\"backgroundcolor\":\"#E5ECF6\",\"gridcolor\":\"white\",\"linecolor\":\"white\",\"showbackground\":true,\"ticks\":\"\",\"zerolinecolor\":\"white\",\"gridwidth\":2},\"yaxis\":{\"backgroundcolor\":\"#E5ECF6\",\"gridcolor\":\"white\",\"linecolor\":\"white\",\"showbackground\":true,\"ticks\":\"\",\"zerolinecolor\":\"white\",\"gridwidth\":2},\"zaxis\":{\"backgroundcolor\":\"#E5ECF6\",\"gridcolor\":\"white\",\"linecolor\":\"white\",\"showbackground\":true,\"ticks\":\"\",\"zerolinecolor\":\"white\",\"gridwidth\":2}},\"shapedefaults\":{\"line\":{\"color\":\"#2a3f5f\"}},\"annotationdefaults\":{\"arrowcolor\":\"#2a3f5f\",\"arrowhead\":0,\"arrowwidth\":1},\"geo\":{\"bgcolor\":\"white\",\"landcolor\":\"#E5ECF6\",\"subunitcolor\":\"white\",\"showland\":true,\"showlakes\":true,\"lakecolor\":\"white\"},\"title\":{\"x\":0.05},\"mapbox\":{\"style\":\"light\"}}},\"xaxis\":{\"anchor\":\"y\",\"domain\":[0.0,1.0],\"title\":{\"text\":\"County\"}},\"yaxis\":{\"anchor\":\"x\",\"domain\":[0.0,1.0],\"title\":{\"text\":\"Count\"}},\"legend\":{\"title\":{\"text\":\"variable\"},\"tracegroupgap\":0},\"title\":{\"text\":\"Private EV Chargers per County\"},\"barmode\":\"relative\"},                        {\"responsive\": true}                    ).then(function(){\n",
       "                            \n",
       "var gd = document.getElementById('61c20433-bf38-4c7a-86de-aadda11712f8');\n",
       "var x = new MutationObserver(function (mutations, observer) {{\n",
       "        var display = window.getComputedStyle(gd).display;\n",
       "        if (!display || display === 'none') {{\n",
       "            console.log([gd, 'removed!']);\n",
       "            Plotly.purge(gd);\n",
       "            observer.disconnect();\n",
       "        }}\n",
       "}});\n",
       "\n",
       "// Listen for the removal of the full notebook cells\n",
       "var notebookContainer = gd.closest('#notebook-container');\n",
       "if (notebookContainer) {{\n",
       "    x.observe(notebookContainer, {childList: true});\n",
       "}}\n",
       "\n",
       "// Listen for the clearing of the current output cell\n",
       "var outputEl = gd.closest('.output');\n",
       "if (outputEl) {{\n",
       "    x.observe(outputEl, {childList: true});\n",
       "}}\n",
       "\n",
       "                        })                };                });            </script>        </div>"
      ]
     },
     "metadata": {},
     "output_type": "display_data"
    }
   ],
   "source": [
    "px.bar(ev_priv, x=\"County\",y=[\"Shared Private Level 1\", \"Shared Private Level 2\", \"Shared Private DC Fast\"],\n",
    "      labels={'value': 'Count'}, title='Private EV Chargers per County')"
   ]
  }
 ],
 "metadata": {
  "kernelspec": {
   "display_name": "Python 3 (ipykernel)",
   "language": "python",
   "name": "python3"
  },
  "language_info": {
   "codemirror_mode": {
    "name": "ipython",
    "version": 3
   },
   "file_extension": ".py",
   "mimetype": "text/x-python",
   "name": "python",
   "nbconvert_exporter": "python",
   "pygments_lexer": "ipython3",
   "version": "3.10.7"
  }
 },
 "nbformat": 4,
 "nbformat_minor": 5
}
