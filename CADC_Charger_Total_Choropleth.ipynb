{
 "cells": [
  {
   "cell_type": "code",
   "execution_count": null,
   "metadata": {},
   "outputs": [],
   "source": [
    "import pandas as pd\n",
    "import numpy as np\n",
    "import addfips\n",
    "import plotly.express as px\n",
    "from urllib.request import urlopen\n",
    "import json\n",
    "import math\n"
   ]
  },
  {
   "cell_type": "code",
   "execution_count": null,
   "metadata": {},
   "outputs": [],
   "source": [
    "charger_amount_df = pd.read_csv('EV Chargers_Last updated 01-31-2022.csv')"
   ]
  },
  {
   "cell_type": "code",
   "execution_count": null,
   "metadata": {},
   "outputs": [],
   "source": [
    "charger_amount_df = charger_amount_df.dropna()"
   ]
  },
  {
   "cell_type": "code",
   "execution_count": null,
   "metadata": {},
   "outputs": [],
   "source": [
    "af = addfips.AddFIPS()\n",
    "\n",
    "def create_fips_col(county):\n",
    "    fips = af.get_county_fips(county, state = 'California')\n",
    "    return fips\n",
    "\n",
    "# add 'fips' column to each df\n",
    "charger_amount_df['fips'] = charger_amount_df['County'].apply(create_fips_col)"
   ]
  },
  {
   "cell_type": "code",
   "execution_count": null,
   "metadata": {},
   "outputs": [],
   "source": [
    "charger_amount_df['log_Total'] = charger_amount_df['Total'].apply(math.log)"
   ]
  },
  {
   "cell_type": "code",
   "execution_count": null,
   "metadata": {},
   "outputs": [],
   "source": [
    "with urlopen('https://raw.githubusercontent.com/plotly/datasets/master/geojson-counties-fips.json') as response:\n",
    "    counties = json.load(response)\n",
    "\n",
    "target_states = ['06']\n",
    "counties['features'] = [f for f in counties['features'] if f['properties']['STATE'] in target_states]    "
   ]
  },
  {
   "cell_type": "code",
   "execution_count": null,
   "metadata": {},
   "outputs": [],
   "source": [
    "charger_fig = px.choropleth(\n",
    "    charger_amount_df,\n",
    "    geojson = counties,\n",
    "    locations = 'fips',\n",
    "    color = 'log_Total',\n",
    "    scope = 'usa',\n",
    "    color_continuous_scale= 'agsunset_r',\n",
    "    hover_name = charger_amount_df['County'],\n",
    "    hover_data= {'Total': True,\n",
    "                 'fips': False,\n",
    "                 'log_Total': False\n",
    "                 },\n",
    "    basemap_visible=False\n",
    "           \n",
    ")\n",
    "\n",
    "charger_fig.update_geos(fitbounds = 'locations')\n",
    "charger_fig.update_layout(height=500,margin={\"r\":0,\"t\":0,\"l\":0,\"b\":0})\n",
    "charger_fig.layout.coloraxis.colorbar = {'title': 'Number of EV Chargers',\n",
    "                                 'x': 0.9,\n",
    "                                 'tickvals': [0,1,2,3,4,5,6,7,8,9,10, 11],\n",
    "                                 'ticktext': [0, 2, 5] + [str(int(round(math.exp(val), -1))) for val in range(2,11)]}\n",
    "charger_fig.show()"
   ]
  }
 ],
 "metadata": {
  "kernelspec": {
   "display_name": "Python 3.10.7 64-bit",
   "language": "python",
   "name": "python3"
  },
  "language_info": {
   "codemirror_mode": {
    "name": "ipython",
    "version": 3
   },
   "file_extension": ".py",
   "mimetype": "text/x-python",
   "name": "python",
   "nbconvert_exporter": "python",
   "pygments_lexer": "ipython3",
   "version": "3.10.8"
  },
  "orig_nbformat": 4,
  "vscode": {
   "interpreter": {
    "hash": "369f2c481f4da34e4445cda3fffd2e751bd1c4d706f27375911949ba6bb62e1c"
   }
  }
 },
 "nbformat": 4,
 "nbformat_minor": 2
}
